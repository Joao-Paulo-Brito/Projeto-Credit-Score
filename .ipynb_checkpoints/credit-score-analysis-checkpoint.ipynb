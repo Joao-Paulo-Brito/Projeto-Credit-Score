{
 "cells": [
  {
   "cell_type": "markdown",
   "id": "f2087070-1c58-4f95-b578-10cdfdcfa2a6",
   "metadata": {},
   "source": [
    "# Projeto análise Credit Score\n",
    "## Perguntas a serem respondidas:\n",
    "\n",
    "1. Qual será a faixa de Credit Score de um novo cliente com base nos seus dados financeiros e comportamentais?<br>\n",
    "→ Essa é a tarefa principal de classificação.<br>\n",
    "Target: Credit_Score<br>\n",
    "Features: todas as outras colunas relevantes.<br>\n",
    "<br>\n",
    "2. Clientes com renda anual mais alta tendem a ter melhores scores de crédito?<br>\n",
    "→ Pode ser avaliada como uma classificação binária: \"alta renda\" vs. \"baixo score\".<br>\n",
    "Target alternativo: uma label criada (ex.: renda_alta & credit_score_ruim)<br>\n",
    "Insight: Ajuda a entender relação entre renda e score.<br>\n",
    "\n",
    "3. Qual é o impacto do número de cartões de crédito ou contas bancárias no Credit Score?<br>\n",
    "→ Podemos testar a relevância dessas variáveis nos modelos e ver a importância delas.<br><br>\n",
    "\n",
    "4. Qual a probabilidade de clientes com muitas parcelas em atraso (\"Num_of_Delayed_Payment\") serem classificados como \"Poor\"?<br>\n",
    "→ Pode ser abordado com análise preditiva e validação dos modelos.<br><br>\n",
    "\n",
    "5. Clientes que sempre pagam o valor mínimo têm score melhor ou pior?<br>\n",
    "→ A feature Payment_of_Min_Amount pode ser binária: \"Yes\", \"No\", \"NM\".<br>\n",
    "Target: Credit_Score.<br><br>\n",
    "\n",
    "6. Clientes com alta utilização de crédito (\"Credit_Utilization_Ratio\") tendem a ter Credit Score ruim?<br>\n",
    "→ Pode ser abordado com classificação ou visualização + decisão de corte.<br><br>\n",
    "\n",
    "7. Qual a combinação de fatores mais recorrente entre clientes classificados como \"Good\"?<br>\n",
    "→ Pode ser descoberta com Árvores de Decisão e Random Forest, que revelam a lógica de decisão mais frequente.<br>\n"
   ]
  },
  {
   "cell_type": "code",
   "execution_count": 1,
   "id": "836e5b4c-4987-4c66-9e4c-afe24696ed43",
   "metadata": {},
   "outputs": [],
   "source": [
    "import pandas as pd"
   ]
  },
  {
   "cell_type": "code",
   "execution_count": 2,
   "id": "76f76162-b37f-43d2-b849-92369b3daedb",
   "metadata": {},
   "outputs": [
    {
     "name": "stderr",
     "output_type": "stream",
     "text": [
      "C:\\Users\\joaop\\AppData\\Local\\Temp\\ipykernel_1684\\911281697.py:1: DtypeWarning: Columns (26) have mixed types. Specify dtype option on import or set low_memory=False.\n",
      "  df_treino = pd.read_csv('data/train.csv')\n"
     ]
    }
   ],
   "source": [
    "df_treino = pd.read_csv('data/train.csv')\n",
    "df_teste = pd.read_csv('data/test.csv')"
   ]
  },
  {
   "cell_type": "code",
   "execution_count": 3,
   "id": "2e81c39e-2970-4f91-895b-c4bf5e7630e4",
   "metadata": {},
   "outputs": [
    {
     "data": {
      "text/html": [
       "<div>\n",
       "<style scoped>\n",
       "    .dataframe tbody tr th:only-of-type {\n",
       "        vertical-align: middle;\n",
       "    }\n",
       "\n",
       "    .dataframe tbody tr th {\n",
       "        vertical-align: top;\n",
       "    }\n",
       "\n",
       "    .dataframe thead th {\n",
       "        text-align: right;\n",
       "    }\n",
       "</style>\n",
       "<table border=\"1\" class=\"dataframe\">\n",
       "  <thead>\n",
       "    <tr style=\"text-align: right;\">\n",
       "      <th></th>\n",
       "      <th>ID</th>\n",
       "      <th>Customer_ID</th>\n",
       "      <th>Month</th>\n",
       "      <th>Name</th>\n",
       "      <th>Age</th>\n",
       "      <th>SSN</th>\n",
       "      <th>Occupation</th>\n",
       "      <th>Annual_Income</th>\n",
       "      <th>Monthly_Inhand_Salary</th>\n",
       "      <th>Num_Bank_Accounts</th>\n",
       "      <th>...</th>\n",
       "      <th>Credit_Mix</th>\n",
       "      <th>Outstanding_Debt</th>\n",
       "      <th>Credit_Utilization_Ratio</th>\n",
       "      <th>Credit_History_Age</th>\n",
       "      <th>Payment_of_Min_Amount</th>\n",
       "      <th>Total_EMI_per_month</th>\n",
       "      <th>Amount_invested_monthly</th>\n",
       "      <th>Payment_Behaviour</th>\n",
       "      <th>Monthly_Balance</th>\n",
       "      <th>Credit_Score</th>\n",
       "    </tr>\n",
       "  </thead>\n",
       "  <tbody>\n",
       "    <tr>\n",
       "      <th>0</th>\n",
       "      <td>0x1602</td>\n",
       "      <td>CUS_0xd40</td>\n",
       "      <td>January</td>\n",
       "      <td>Aaron Maashoh</td>\n",
       "      <td>23</td>\n",
       "      <td>821-00-0265</td>\n",
       "      <td>Scientist</td>\n",
       "      <td>19114.12</td>\n",
       "      <td>1824.843333</td>\n",
       "      <td>3</td>\n",
       "      <td>...</td>\n",
       "      <td>_</td>\n",
       "      <td>809.98</td>\n",
       "      <td>26.822620</td>\n",
       "      <td>22 Years and 1 Months</td>\n",
       "      <td>No</td>\n",
       "      <td>49.574949</td>\n",
       "      <td>80.41529543900253</td>\n",
       "      <td>High_spent_Small_value_payments</td>\n",
       "      <td>312.49408867943663</td>\n",
       "      <td>Good</td>\n",
       "    </tr>\n",
       "    <tr>\n",
       "      <th>1</th>\n",
       "      <td>0x1603</td>\n",
       "      <td>CUS_0xd40</td>\n",
       "      <td>February</td>\n",
       "      <td>Aaron Maashoh</td>\n",
       "      <td>23</td>\n",
       "      <td>821-00-0265</td>\n",
       "      <td>Scientist</td>\n",
       "      <td>19114.12</td>\n",
       "      <td>NaN</td>\n",
       "      <td>3</td>\n",
       "      <td>...</td>\n",
       "      <td>Good</td>\n",
       "      <td>809.98</td>\n",
       "      <td>31.944960</td>\n",
       "      <td>NaN</td>\n",
       "      <td>No</td>\n",
       "      <td>49.574949</td>\n",
       "      <td>118.28022162236736</td>\n",
       "      <td>Low_spent_Large_value_payments</td>\n",
       "      <td>284.62916249607184</td>\n",
       "      <td>Good</td>\n",
       "    </tr>\n",
       "    <tr>\n",
       "      <th>2</th>\n",
       "      <td>0x1604</td>\n",
       "      <td>CUS_0xd40</td>\n",
       "      <td>March</td>\n",
       "      <td>Aaron Maashoh</td>\n",
       "      <td>-500</td>\n",
       "      <td>821-00-0265</td>\n",
       "      <td>Scientist</td>\n",
       "      <td>19114.12</td>\n",
       "      <td>NaN</td>\n",
       "      <td>3</td>\n",
       "      <td>...</td>\n",
       "      <td>Good</td>\n",
       "      <td>809.98</td>\n",
       "      <td>28.609352</td>\n",
       "      <td>22 Years and 3 Months</td>\n",
       "      <td>No</td>\n",
       "      <td>49.574949</td>\n",
       "      <td>81.699521264648</td>\n",
       "      <td>Low_spent_Medium_value_payments</td>\n",
       "      <td>331.2098628537912</td>\n",
       "      <td>Good</td>\n",
       "    </tr>\n",
       "    <tr>\n",
       "      <th>3</th>\n",
       "      <td>0x1605</td>\n",
       "      <td>CUS_0xd40</td>\n",
       "      <td>April</td>\n",
       "      <td>Aaron Maashoh</td>\n",
       "      <td>23</td>\n",
       "      <td>821-00-0265</td>\n",
       "      <td>Scientist</td>\n",
       "      <td>19114.12</td>\n",
       "      <td>NaN</td>\n",
       "      <td>3</td>\n",
       "      <td>...</td>\n",
       "      <td>Good</td>\n",
       "      <td>809.98</td>\n",
       "      <td>31.377862</td>\n",
       "      <td>22 Years and 4 Months</td>\n",
       "      <td>No</td>\n",
       "      <td>49.574949</td>\n",
       "      <td>199.4580743910713</td>\n",
       "      <td>Low_spent_Small_value_payments</td>\n",
       "      <td>223.45130972736786</td>\n",
       "      <td>Good</td>\n",
       "    </tr>\n",
       "    <tr>\n",
       "      <th>4</th>\n",
       "      <td>0x1606</td>\n",
       "      <td>CUS_0xd40</td>\n",
       "      <td>May</td>\n",
       "      <td>Aaron Maashoh</td>\n",
       "      <td>23</td>\n",
       "      <td>821-00-0265</td>\n",
       "      <td>Scientist</td>\n",
       "      <td>19114.12</td>\n",
       "      <td>1824.843333</td>\n",
       "      <td>3</td>\n",
       "      <td>...</td>\n",
       "      <td>Good</td>\n",
       "      <td>809.98</td>\n",
       "      <td>24.797347</td>\n",
       "      <td>22 Years and 5 Months</td>\n",
       "      <td>No</td>\n",
       "      <td>49.574949</td>\n",
       "      <td>41.420153086217326</td>\n",
       "      <td>High_spent_Medium_value_payments</td>\n",
       "      <td>341.48923103222177</td>\n",
       "      <td>Good</td>\n",
       "    </tr>\n",
       "  </tbody>\n",
       "</table>\n",
       "<p>5 rows × 28 columns</p>\n",
       "</div>"
      ],
      "text/plain": [
       "       ID Customer_ID     Month           Name   Age          SSN Occupation  \\\n",
       "0  0x1602   CUS_0xd40   January  Aaron Maashoh    23  821-00-0265  Scientist   \n",
       "1  0x1603   CUS_0xd40  February  Aaron Maashoh    23  821-00-0265  Scientist   \n",
       "2  0x1604   CUS_0xd40     March  Aaron Maashoh  -500  821-00-0265  Scientist   \n",
       "3  0x1605   CUS_0xd40     April  Aaron Maashoh    23  821-00-0265  Scientist   \n",
       "4  0x1606   CUS_0xd40       May  Aaron Maashoh    23  821-00-0265  Scientist   \n",
       "\n",
       "  Annual_Income  Monthly_Inhand_Salary  Num_Bank_Accounts  ...  Credit_Mix  \\\n",
       "0      19114.12            1824.843333                  3  ...           _   \n",
       "1      19114.12                    NaN                  3  ...        Good   \n",
       "2      19114.12                    NaN                  3  ...        Good   \n",
       "3      19114.12                    NaN                  3  ...        Good   \n",
       "4      19114.12            1824.843333                  3  ...        Good   \n",
       "\n",
       "   Outstanding_Debt Credit_Utilization_Ratio     Credit_History_Age  \\\n",
       "0            809.98                26.822620  22 Years and 1 Months   \n",
       "1            809.98                31.944960                    NaN   \n",
       "2            809.98                28.609352  22 Years and 3 Months   \n",
       "3            809.98                31.377862  22 Years and 4 Months   \n",
       "4            809.98                24.797347  22 Years and 5 Months   \n",
       "\n",
       "   Payment_of_Min_Amount Total_EMI_per_month Amount_invested_monthly  \\\n",
       "0                     No           49.574949       80.41529543900253   \n",
       "1                     No           49.574949      118.28022162236736   \n",
       "2                     No           49.574949         81.699521264648   \n",
       "3                     No           49.574949       199.4580743910713   \n",
       "4                     No           49.574949      41.420153086217326   \n",
       "\n",
       "                  Payment_Behaviour     Monthly_Balance Credit_Score  \n",
       "0   High_spent_Small_value_payments  312.49408867943663         Good  \n",
       "1    Low_spent_Large_value_payments  284.62916249607184         Good  \n",
       "2   Low_spent_Medium_value_payments   331.2098628537912         Good  \n",
       "3    Low_spent_Small_value_payments  223.45130972736786         Good  \n",
       "4  High_spent_Medium_value_payments  341.48923103222177         Good  \n",
       "\n",
       "[5 rows x 28 columns]"
      ]
     },
     "execution_count": 3,
     "metadata": {},
     "output_type": "execute_result"
    }
   ],
   "source": [
    "df_treino.head()"
   ]
  },
  {
   "cell_type": "code",
   "execution_count": 4,
   "id": "4a672e0e-f537-46ee-9147-b40be263119a",
   "metadata": {},
   "outputs": [
    {
     "data": {
      "text/html": [
       "<div>\n",
       "<style scoped>\n",
       "    .dataframe tbody tr th:only-of-type {\n",
       "        vertical-align: middle;\n",
       "    }\n",
       "\n",
       "    .dataframe tbody tr th {\n",
       "        vertical-align: top;\n",
       "    }\n",
       "\n",
       "    .dataframe thead th {\n",
       "        text-align: right;\n",
       "    }\n",
       "</style>\n",
       "<table border=\"1\" class=\"dataframe\">\n",
       "  <thead>\n",
       "    <tr style=\"text-align: right;\">\n",
       "      <th></th>\n",
       "      <th>ID</th>\n",
       "      <th>Customer_ID</th>\n",
       "      <th>Month</th>\n",
       "      <th>Name</th>\n",
       "      <th>Age</th>\n",
       "      <th>SSN</th>\n",
       "      <th>Occupation</th>\n",
       "      <th>Annual_Income</th>\n",
       "      <th>Monthly_Inhand_Salary</th>\n",
       "      <th>Num_Bank_Accounts</th>\n",
       "      <th>...</th>\n",
       "      <th>Num_Credit_Inquiries</th>\n",
       "      <th>Credit_Mix</th>\n",
       "      <th>Outstanding_Debt</th>\n",
       "      <th>Credit_Utilization_Ratio</th>\n",
       "      <th>Credit_History_Age</th>\n",
       "      <th>Payment_of_Min_Amount</th>\n",
       "      <th>Total_EMI_per_month</th>\n",
       "      <th>Amount_invested_monthly</th>\n",
       "      <th>Payment_Behaviour</th>\n",
       "      <th>Monthly_Balance</th>\n",
       "    </tr>\n",
       "  </thead>\n",
       "  <tbody>\n",
       "    <tr>\n",
       "      <th>0</th>\n",
       "      <td>0x160a</td>\n",
       "      <td>CUS_0xd40</td>\n",
       "      <td>September</td>\n",
       "      <td>Aaron Maashoh</td>\n",
       "      <td>23</td>\n",
       "      <td>821-00-0265</td>\n",
       "      <td>Scientist</td>\n",
       "      <td>19114.12</td>\n",
       "      <td>1824.843333</td>\n",
       "      <td>3</td>\n",
       "      <td>...</td>\n",
       "      <td>2022.0</td>\n",
       "      <td>Good</td>\n",
       "      <td>809.98</td>\n",
       "      <td>35.030402</td>\n",
       "      <td>22 Years and 9 Months</td>\n",
       "      <td>No</td>\n",
       "      <td>49.574949</td>\n",
       "      <td>236.64268203272135</td>\n",
       "      <td>Low_spent_Small_value_payments</td>\n",
       "      <td>186.26670208571772</td>\n",
       "    </tr>\n",
       "    <tr>\n",
       "      <th>1</th>\n",
       "      <td>0x160b</td>\n",
       "      <td>CUS_0xd40</td>\n",
       "      <td>October</td>\n",
       "      <td>Aaron Maashoh</td>\n",
       "      <td>24</td>\n",
       "      <td>821-00-0265</td>\n",
       "      <td>Scientist</td>\n",
       "      <td>19114.12</td>\n",
       "      <td>1824.843333</td>\n",
       "      <td>3</td>\n",
       "      <td>...</td>\n",
       "      <td>4.0</td>\n",
       "      <td>Good</td>\n",
       "      <td>809.98</td>\n",
       "      <td>33.053114</td>\n",
       "      <td>22 Years and 10 Months</td>\n",
       "      <td>No</td>\n",
       "      <td>49.574949</td>\n",
       "      <td>21.465380264657146</td>\n",
       "      <td>High_spent_Medium_value_payments</td>\n",
       "      <td>361.44400385378196</td>\n",
       "    </tr>\n",
       "    <tr>\n",
       "      <th>2</th>\n",
       "      <td>0x160c</td>\n",
       "      <td>CUS_0xd40</td>\n",
       "      <td>November</td>\n",
       "      <td>Aaron Maashoh</td>\n",
       "      <td>24</td>\n",
       "      <td>821-00-0265</td>\n",
       "      <td>Scientist</td>\n",
       "      <td>19114.12</td>\n",
       "      <td>1824.843333</td>\n",
       "      <td>3</td>\n",
       "      <td>...</td>\n",
       "      <td>4.0</td>\n",
       "      <td>Good</td>\n",
       "      <td>809.98</td>\n",
       "      <td>33.811894</td>\n",
       "      <td>NaN</td>\n",
       "      <td>No</td>\n",
       "      <td>49.574949</td>\n",
       "      <td>148.23393788500925</td>\n",
       "      <td>Low_spent_Medium_value_payments</td>\n",
       "      <td>264.67544623342997</td>\n",
       "    </tr>\n",
       "    <tr>\n",
       "      <th>3</th>\n",
       "      <td>0x160d</td>\n",
       "      <td>CUS_0xd40</td>\n",
       "      <td>December</td>\n",
       "      <td>Aaron Maashoh</td>\n",
       "      <td>24_</td>\n",
       "      <td>821-00-0265</td>\n",
       "      <td>Scientist</td>\n",
       "      <td>19114.12</td>\n",
       "      <td>NaN</td>\n",
       "      <td>3</td>\n",
       "      <td>...</td>\n",
       "      <td>4.0</td>\n",
       "      <td>Good</td>\n",
       "      <td>809.98</td>\n",
       "      <td>32.430559</td>\n",
       "      <td>23 Years and 0 Months</td>\n",
       "      <td>No</td>\n",
       "      <td>49.574949</td>\n",
       "      <td>39.08251089460281</td>\n",
       "      <td>High_spent_Medium_value_payments</td>\n",
       "      <td>343.82687322383634</td>\n",
       "    </tr>\n",
       "    <tr>\n",
       "      <th>4</th>\n",
       "      <td>0x1616</td>\n",
       "      <td>CUS_0x21b1</td>\n",
       "      <td>September</td>\n",
       "      <td>Rick Rothackerj</td>\n",
       "      <td>28</td>\n",
       "      <td>004-07-5839</td>\n",
       "      <td>_______</td>\n",
       "      <td>34847.84</td>\n",
       "      <td>3037.986667</td>\n",
       "      <td>2</td>\n",
       "      <td>...</td>\n",
       "      <td>5.0</td>\n",
       "      <td>Good</td>\n",
       "      <td>605.03</td>\n",
       "      <td>25.926822</td>\n",
       "      <td>27 Years and 3 Months</td>\n",
       "      <td>No</td>\n",
       "      <td>18.816215</td>\n",
       "      <td>39.684018417945296</td>\n",
       "      <td>High_spent_Large_value_payments</td>\n",
       "      <td>485.2984336755923</td>\n",
       "    </tr>\n",
       "  </tbody>\n",
       "</table>\n",
       "<p>5 rows × 27 columns</p>\n",
       "</div>"
      ],
      "text/plain": [
       "       ID Customer_ID      Month             Name  Age          SSN  \\\n",
       "0  0x160a   CUS_0xd40  September    Aaron Maashoh   23  821-00-0265   \n",
       "1  0x160b   CUS_0xd40    October    Aaron Maashoh   24  821-00-0265   \n",
       "2  0x160c   CUS_0xd40   November    Aaron Maashoh   24  821-00-0265   \n",
       "3  0x160d   CUS_0xd40   December    Aaron Maashoh  24_  821-00-0265   \n",
       "4  0x1616  CUS_0x21b1  September  Rick Rothackerj   28  004-07-5839   \n",
       "\n",
       "  Occupation Annual_Income  Monthly_Inhand_Salary  Num_Bank_Accounts  ...  \\\n",
       "0  Scientist      19114.12            1824.843333                  3  ...   \n",
       "1  Scientist      19114.12            1824.843333                  3  ...   \n",
       "2  Scientist      19114.12            1824.843333                  3  ...   \n",
       "3  Scientist      19114.12                    NaN                  3  ...   \n",
       "4    _______      34847.84            3037.986667                  2  ...   \n",
       "\n",
       "   Num_Credit_Inquiries  Credit_Mix Outstanding_Debt Credit_Utilization_Ratio  \\\n",
       "0                2022.0        Good           809.98                35.030402   \n",
       "1                   4.0        Good           809.98                33.053114   \n",
       "2                   4.0        Good           809.98                33.811894   \n",
       "3                   4.0        Good           809.98                32.430559   \n",
       "4                   5.0        Good           605.03                25.926822   \n",
       "\n",
       "       Credit_History_Age Payment_of_Min_Amount Total_EMI_per_month  \\\n",
       "0   22 Years and 9 Months                    No           49.574949   \n",
       "1  22 Years and 10 Months                    No           49.574949   \n",
       "2                     NaN                    No           49.574949   \n",
       "3   23 Years and 0 Months                    No           49.574949   \n",
       "4   27 Years and 3 Months                    No           18.816215   \n",
       "\n",
       "   Amount_invested_monthly                 Payment_Behaviour  \\\n",
       "0       236.64268203272135    Low_spent_Small_value_payments   \n",
       "1       21.465380264657146  High_spent_Medium_value_payments   \n",
       "2       148.23393788500925   Low_spent_Medium_value_payments   \n",
       "3        39.08251089460281  High_spent_Medium_value_payments   \n",
       "4       39.684018417945296   High_spent_Large_value_payments   \n",
       "\n",
       "      Monthly_Balance  \n",
       "0  186.26670208571772  \n",
       "1  361.44400385378196  \n",
       "2  264.67544623342997  \n",
       "3  343.82687322383634  \n",
       "4   485.2984336755923  \n",
       "\n",
       "[5 rows x 27 columns]"
      ]
     },
     "execution_count": 4,
     "metadata": {},
     "output_type": "execute_result"
    }
   ],
   "source": [
    "df_teste.head()"
   ]
  },
  {
   "cell_type": "markdown",
   "id": "13bfd842-8d99-4e47-8284-a0000e653194",
   "metadata": {},
   "source": [
    "## Limpeza de dados"
   ]
  },
  {
   "cell_type": "code",
   "execution_count": 5,
   "id": "e16dd55a-6e55-43fc-a524-a05b7e24ca68",
   "metadata": {},
   "outputs": [
    {
     "data": {
      "text/plain": [
       "Index(['ID', 'Customer_ID', 'Month', 'Name', 'Age', 'SSN', 'Occupation',\n",
       "       'Annual_Income', 'Monthly_Inhand_Salary', 'Num_Bank_Accounts',\n",
       "       'Num_Credit_Card', 'Interest_Rate', 'Num_of_Loan', 'Type_of_Loan',\n",
       "       'Delay_from_due_date', 'Num_of_Delayed_Payment', 'Changed_Credit_Limit',\n",
       "       'Num_Credit_Inquiries', 'Credit_Mix', 'Outstanding_Debt',\n",
       "       'Credit_Utilization_Ratio', 'Credit_History_Age',\n",
       "       'Payment_of_Min_Amount', 'Total_EMI_per_month',\n",
       "       'Amount_invested_monthly', 'Payment_Behaviour', 'Monthly_Balance',\n",
       "       'Credit_Score'],\n",
       "      dtype='object')"
      ]
     },
     "execution_count": 5,
     "metadata": {},
     "output_type": "execute_result"
    }
   ],
   "source": [
    "df_treino.columns"
   ]
  },
  {
   "cell_type": "code",
   "execution_count": 5,
   "id": "20867b5a-fd54-4bec-8879-99ab127e1f2c",
   "metadata": {},
   "outputs": [
    {
     "data": {
      "text/plain": [
       "ID                              0\n",
       "Customer_ID                     0\n",
       "Month                           0\n",
       "Name                         9985\n",
       "Age                             0\n",
       "SSN                             0\n",
       "Occupation                      0\n",
       "Annual_Income                   0\n",
       "Monthly_Inhand_Salary       15002\n",
       "Num_Bank_Accounts               0\n",
       "Num_Credit_Card                 0\n",
       "Interest_Rate                   0\n",
       "Num_of_Loan                     0\n",
       "Type_of_Loan                11408\n",
       "Delay_from_due_date             0\n",
       "Num_of_Delayed_Payment       7002\n",
       "Changed_Credit_Limit            0\n",
       "Num_Credit_Inquiries         1965\n",
       "Credit_Mix                      0\n",
       "Outstanding_Debt                0\n",
       "Credit_Utilization_Ratio        0\n",
       "Credit_History_Age           9030\n",
       "Payment_of_Min_Amount           0\n",
       "Total_EMI_per_month             0\n",
       "Amount_invested_monthly      4479\n",
       "Payment_Behaviour               0\n",
       "Monthly_Balance              1200\n",
       "Credit_Score                    0\n",
       "dtype: int64"
      ]
     },
     "execution_count": 5,
     "metadata": {},
     "output_type": "execute_result"
    }
   ],
   "source": [
    "df_treino.isnull().sum()"
   ]
  },
  {
   "cell_type": "code",
   "execution_count": 6,
   "id": "1e361df6-780c-4d4b-b6b8-66977b7ae0d9",
   "metadata": {},
   "outputs": [],
   "source": [
    "df_treino['Name'].fillna(\"Desconhecido\", inplace = True)"
   ]
  },
  {
   "cell_type": "code",
   "execution_count": 7,
   "id": "531b662f-65ed-488b-88ef-e04896c02355",
   "metadata": {},
   "outputs": [
    {
     "data": {
      "text/html": [
       "<div>\n",
       "<style scoped>\n",
       "    .dataframe tbody tr th:only-of-type {\n",
       "        vertical-align: middle;\n",
       "    }\n",
       "\n",
       "    .dataframe tbody tr th {\n",
       "        vertical-align: top;\n",
       "    }\n",
       "\n",
       "    .dataframe thead th {\n",
       "        text-align: right;\n",
       "    }\n",
       "</style>\n",
       "<table border=\"1\" class=\"dataframe\">\n",
       "  <thead>\n",
       "    <tr style=\"text-align: right;\">\n",
       "      <th></th>\n",
       "      <th>ID</th>\n",
       "      <th>Customer_ID</th>\n",
       "      <th>Month</th>\n",
       "      <th>Name</th>\n",
       "      <th>Age</th>\n",
       "      <th>SSN</th>\n",
       "      <th>Occupation</th>\n",
       "      <th>Annual_Income</th>\n",
       "      <th>Monthly_Inhand_Salary</th>\n",
       "      <th>Num_Bank_Accounts</th>\n",
       "      <th>...</th>\n",
       "      <th>Credit_Mix</th>\n",
       "      <th>Outstanding_Debt</th>\n",
       "      <th>Credit_Utilization_Ratio</th>\n",
       "      <th>Credit_History_Age</th>\n",
       "      <th>Payment_of_Min_Amount</th>\n",
       "      <th>Total_EMI_per_month</th>\n",
       "      <th>Amount_invested_monthly</th>\n",
       "      <th>Payment_Behaviour</th>\n",
       "      <th>Monthly_Balance</th>\n",
       "      <th>Credit_Score</th>\n",
       "    </tr>\n",
       "  </thead>\n",
       "  <tbody>\n",
       "    <tr>\n",
       "      <th>7</th>\n",
       "      <td>0x1609</td>\n",
       "      <td>CUS_0xd40</td>\n",
       "      <td>August</td>\n",
       "      <td>Desconhecido</td>\n",
       "      <td>23</td>\n",
       "      <td>#F%$D@*&amp;8</td>\n",
       "      <td>Scientist</td>\n",
       "      <td>19114.12</td>\n",
       "      <td>1824.843333</td>\n",
       "      <td>3</td>\n",
       "      <td>...</td>\n",
       "      <td>Good</td>\n",
       "      <td>809.98</td>\n",
       "      <td>23.933795</td>\n",
       "      <td>NaN</td>\n",
       "      <td>No</td>\n",
       "      <td>49.574949</td>\n",
       "      <td>24.785216509052056</td>\n",
       "      <td>High_spent_Medium_value_payments</td>\n",
       "      <td>358.12416760938714</td>\n",
       "      <td>Standard</td>\n",
       "    </tr>\n",
       "    <tr>\n",
       "      <th>17</th>\n",
       "      <td>0x161b</td>\n",
       "      <td>CUS_0x2dbc</td>\n",
       "      <td>February</td>\n",
       "      <td>Desconhecido</td>\n",
       "      <td>34</td>\n",
       "      <td>486-85-3974</td>\n",
       "      <td>Engineer</td>\n",
       "      <td>143162.64</td>\n",
       "      <td>12187.220000</td>\n",
       "      <td>1</td>\n",
       "      <td>...</td>\n",
       "      <td>Good</td>\n",
       "      <td>1303.01</td>\n",
       "      <td>41.702573</td>\n",
       "      <td>17 Years and 10 Months</td>\n",
       "      <td>No</td>\n",
       "      <td>246.992319</td>\n",
       "      <td>232.86038375993544</td>\n",
       "      <td>High_spent_Small_value_payments</td>\n",
       "      <td>998.8692967863226</td>\n",
       "      <td>Good</td>\n",
       "    </tr>\n",
       "    <tr>\n",
       "      <th>22</th>\n",
       "      <td>0x1620</td>\n",
       "      <td>CUS_0x2dbc</td>\n",
       "      <td>July</td>\n",
       "      <td>Desconhecido</td>\n",
       "      <td>34</td>\n",
       "      <td>486-85-3974</td>\n",
       "      <td>Engineer</td>\n",
       "      <td>143162.64</td>\n",
       "      <td>12187.220000</td>\n",
       "      <td>1</td>\n",
       "      <td>...</td>\n",
       "      <td>Good</td>\n",
       "      <td>1303.01</td>\n",
       "      <td>38.068624</td>\n",
       "      <td>18 Years and 3 Months</td>\n",
       "      <td>No</td>\n",
       "      <td>246.992319</td>\n",
       "      <td>263.17416316163934</td>\n",
       "      <td>High_spent_Small_value_payments</td>\n",
       "      <td>968.5555173846187</td>\n",
       "      <td>Standard</td>\n",
       "    </tr>\n",
       "    <tr>\n",
       "      <th>64</th>\n",
       "      <td>0x1662</td>\n",
       "      <td>CUS_0x4157</td>\n",
       "      <td>January</td>\n",
       "      <td>Desconhecido</td>\n",
       "      <td>23</td>\n",
       "      <td>070-19-1622</td>\n",
       "      <td>Doctor</td>\n",
       "      <td>114838.41</td>\n",
       "      <td>9843.867500</td>\n",
       "      <td>2</td>\n",
       "      <td>...</td>\n",
       "      <td>Good</td>\n",
       "      <td>1377.74</td>\n",
       "      <td>33.664554</td>\n",
       "      <td>21 Years and 4 Months</td>\n",
       "      <td>No</td>\n",
       "      <td>226.892792</td>\n",
       "      <td>215.19351594560425</td>\n",
       "      <td>High_spent_Small_value_payments</td>\n",
       "      <td>802.3004421328528</td>\n",
       "      <td>Good</td>\n",
       "    </tr>\n",
       "    <tr>\n",
       "      <th>80</th>\n",
       "      <td>0x167a</td>\n",
       "      <td>CUS_0xa66b</td>\n",
       "      <td>January</td>\n",
       "      <td>Desconhecido</td>\n",
       "      <td>40</td>\n",
       "      <td>221-30-8554</td>\n",
       "      <td>Teacher</td>\n",
       "      <td>33751.27</td>\n",
       "      <td>2948.605833</td>\n",
       "      <td>5</td>\n",
       "      <td>...</td>\n",
       "      <td>Standard</td>\n",
       "      <td>1328.93</td>\n",
       "      <td>37.089076</td>\n",
       "      <td>19 Years and 2 Months</td>\n",
       "      <td>NM</td>\n",
       "      <td>65.008174</td>\n",
       "      <td>117.30669710658556</td>\n",
       "      <td>High_spent_Medium_value_payments</td>\n",
       "      <td>362.54571194023237</td>\n",
       "      <td>Standard</td>\n",
       "    </tr>\n",
       "    <tr>\n",
       "      <th>...</th>\n",
       "      <td>...</td>\n",
       "      <td>...</td>\n",
       "      <td>...</td>\n",
       "      <td>...</td>\n",
       "      <td>...</td>\n",
       "      <td>...</td>\n",
       "      <td>...</td>\n",
       "      <td>...</td>\n",
       "      <td>...</td>\n",
       "      <td>...</td>\n",
       "      <td>...</td>\n",
       "      <td>...</td>\n",
       "      <td>...</td>\n",
       "      <td>...</td>\n",
       "      <td>...</td>\n",
       "      <td>...</td>\n",
       "      <td>...</td>\n",
       "      <td>...</td>\n",
       "      <td>...</td>\n",
       "      <td>...</td>\n",
       "      <td>...</td>\n",
       "    </tr>\n",
       "    <tr>\n",
       "      <th>99964</th>\n",
       "      <td>0x25fba</td>\n",
       "      <td>CUS_0x372c</td>\n",
       "      <td>May</td>\n",
       "      <td>Desconhecido</td>\n",
       "      <td>18</td>\n",
       "      <td>340-85-7301</td>\n",
       "      <td>Lawyer</td>\n",
       "      <td>42903.79</td>\n",
       "      <td>3468.315833</td>\n",
       "      <td>0</td>\n",
       "      <td>...</td>\n",
       "      <td>Good</td>\n",
       "      <td>1079.48</td>\n",
       "      <td>23.140640</td>\n",
       "      <td>28 Years and 5 Months</td>\n",
       "      <td>No</td>\n",
       "      <td>34.975457</td>\n",
       "      <td>450.6460933992599</td>\n",
       "      <td>Low_spent_Small_value_payments</td>\n",
       "      <td>151.210033</td>\n",
       "      <td>Good</td>\n",
       "    </tr>\n",
       "    <tr>\n",
       "      <th>99965</th>\n",
       "      <td>0x25fbb</td>\n",
       "      <td>CUS_0x372c</td>\n",
       "      <td>June</td>\n",
       "      <td>Desconhecido</td>\n",
       "      <td>19</td>\n",
       "      <td>340-85-7301</td>\n",
       "      <td>Lawyer</td>\n",
       "      <td>42903.79</td>\n",
       "      <td>3468.315833</td>\n",
       "      <td>0</td>\n",
       "      <td>...</td>\n",
       "      <td>Good</td>\n",
       "      <td>1079.48</td>\n",
       "      <td>35.549456</td>\n",
       "      <td>28 Years and 6 Months</td>\n",
       "      <td>No</td>\n",
       "      <td>34.975457</td>\n",
       "      <td>187.3559686116327</td>\n",
       "      <td>Low_spent_Large_value_payments</td>\n",
       "      <td>394.500158</td>\n",
       "      <td>Good</td>\n",
       "    </tr>\n",
       "    <tr>\n",
       "      <th>99969</th>\n",
       "      <td>0x25fc3</td>\n",
       "      <td>CUS_0xf16</td>\n",
       "      <td>February</td>\n",
       "      <td>Desconhecido</td>\n",
       "      <td>45</td>\n",
       "      <td>868-70-2218</td>\n",
       "      <td>Media_Manager</td>\n",
       "      <td>16680.35</td>\n",
       "      <td>1528.029167</td>\n",
       "      <td>1</td>\n",
       "      <td>...</td>\n",
       "      <td>Good</td>\n",
       "      <td>897.16</td>\n",
       "      <td>34.085971</td>\n",
       "      <td>21 Years and 2 Months</td>\n",
       "      <td>No</td>\n",
       "      <td>41.113561</td>\n",
       "      <td>104.64623687765652</td>\n",
       "      <td>High_spent_Small_value_payments</td>\n",
       "      <td>267.043119</td>\n",
       "      <td>Good</td>\n",
       "    </tr>\n",
       "    <tr>\n",
       "      <th>99973</th>\n",
       "      <td>0x25fc7</td>\n",
       "      <td>CUS_0xf16</td>\n",
       "      <td>June</td>\n",
       "      <td>Desconhecido</td>\n",
       "      <td>45</td>\n",
       "      <td>868-70-2218</td>\n",
       "      <td>Media_Manager</td>\n",
       "      <td>16680.35</td>\n",
       "      <td>1528.029167</td>\n",
       "      <td>1</td>\n",
       "      <td>...</td>\n",
       "      <td>Good</td>\n",
       "      <td>897.16</td>\n",
       "      <td>24.972853</td>\n",
       "      <td>21 Years and 6 Months</td>\n",
       "      <td>No</td>\n",
       "      <td>41.113561</td>\n",
       "      <td>__10000__</td>\n",
       "      <td>Low_spent_Small_value_payments</td>\n",
       "      <td>233.301539</td>\n",
       "      <td>Good</td>\n",
       "    </tr>\n",
       "    <tr>\n",
       "      <th>99986</th>\n",
       "      <td>0x25fdc</td>\n",
       "      <td>CUS_0x8600</td>\n",
       "      <td>March</td>\n",
       "      <td>Desconhecido</td>\n",
       "      <td>28</td>\n",
       "      <td>031-35-0942</td>\n",
       "      <td>Architect</td>\n",
       "      <td>20002.88</td>\n",
       "      <td>1929.906667</td>\n",
       "      <td>10</td>\n",
       "      <td>...</td>\n",
       "      <td>Bad</td>\n",
       "      <td>3571.7</td>\n",
       "      <td>24.713861</td>\n",
       "      <td>5 Years and 10 Months</td>\n",
       "      <td>Yes</td>\n",
       "      <td>60.964772</td>\n",
       "      <td>76.28279349064607</td>\n",
       "      <td>Low_spent_Small_value_payments</td>\n",
       "      <td>345.743101</td>\n",
       "      <td>Poor</td>\n",
       "    </tr>\n",
       "  </tbody>\n",
       "</table>\n",
       "<p>9985 rows × 28 columns</p>\n",
       "</div>"
      ],
      "text/plain": [
       "            ID Customer_ID     Month          Name Age          SSN  \\\n",
       "7       0x1609   CUS_0xd40    August  Desconhecido  23    #F%$D@*&8   \n",
       "17      0x161b  CUS_0x2dbc  February  Desconhecido  34  486-85-3974   \n",
       "22      0x1620  CUS_0x2dbc      July  Desconhecido  34  486-85-3974   \n",
       "64      0x1662  CUS_0x4157   January  Desconhecido  23  070-19-1622   \n",
       "80      0x167a  CUS_0xa66b   January  Desconhecido  40  221-30-8554   \n",
       "...        ...         ...       ...           ...  ..          ...   \n",
       "99964  0x25fba  CUS_0x372c       May  Desconhecido  18  340-85-7301   \n",
       "99965  0x25fbb  CUS_0x372c      June  Desconhecido  19  340-85-7301   \n",
       "99969  0x25fc3   CUS_0xf16  February  Desconhecido  45  868-70-2218   \n",
       "99973  0x25fc7   CUS_0xf16      June  Desconhecido  45  868-70-2218   \n",
       "99986  0x25fdc  CUS_0x8600     March  Desconhecido  28  031-35-0942   \n",
       "\n",
       "          Occupation Annual_Income  Monthly_Inhand_Salary  Num_Bank_Accounts  \\\n",
       "7          Scientist      19114.12            1824.843333                  3   \n",
       "17          Engineer     143162.64           12187.220000                  1   \n",
       "22          Engineer     143162.64           12187.220000                  1   \n",
       "64            Doctor     114838.41            9843.867500                  2   \n",
       "80           Teacher      33751.27            2948.605833                  5   \n",
       "...              ...           ...                    ...                ...   \n",
       "99964         Lawyer      42903.79            3468.315833                  0   \n",
       "99965         Lawyer      42903.79            3468.315833                  0   \n",
       "99969  Media_Manager      16680.35            1528.029167                  1   \n",
       "99973  Media_Manager      16680.35            1528.029167                  1   \n",
       "99986      Architect      20002.88            1929.906667                 10   \n",
       "\n",
       "       ...  Credit_Mix  Outstanding_Debt Credit_Utilization_Ratio  \\\n",
       "7      ...        Good            809.98                23.933795   \n",
       "17     ...        Good           1303.01                41.702573   \n",
       "22     ...        Good           1303.01                38.068624   \n",
       "64     ...        Good           1377.74                33.664554   \n",
       "80     ...    Standard           1328.93                37.089076   \n",
       "...    ...         ...               ...                      ...   \n",
       "99964  ...        Good           1079.48                23.140640   \n",
       "99965  ...        Good           1079.48                35.549456   \n",
       "99969  ...        Good            897.16                34.085971   \n",
       "99973  ...        Good            897.16                24.972853   \n",
       "99986  ...         Bad            3571.7                24.713861   \n",
       "\n",
       "           Credit_History_Age  Payment_of_Min_Amount Total_EMI_per_month  \\\n",
       "7                         NaN                     No           49.574949   \n",
       "17     17 Years and 10 Months                     No          246.992319   \n",
       "22      18 Years and 3 Months                     No          246.992319   \n",
       "64      21 Years and 4 Months                     No          226.892792   \n",
       "80      19 Years and 2 Months                     NM           65.008174   \n",
       "...                       ...                    ...                 ...   \n",
       "99964   28 Years and 5 Months                     No           34.975457   \n",
       "99965   28 Years and 6 Months                     No           34.975457   \n",
       "99969   21 Years and 2 Months                     No           41.113561   \n",
       "99973   21 Years and 6 Months                     No           41.113561   \n",
       "99986   5 Years and 10 Months                    Yes           60.964772   \n",
       "\n",
       "      Amount_invested_monthly                 Payment_Behaviour  \\\n",
       "7          24.785216509052056  High_spent_Medium_value_payments   \n",
       "17         232.86038375993544   High_spent_Small_value_payments   \n",
       "22         263.17416316163934   High_spent_Small_value_payments   \n",
       "64         215.19351594560425   High_spent_Small_value_payments   \n",
       "80         117.30669710658556  High_spent_Medium_value_payments   \n",
       "...                       ...                               ...   \n",
       "99964       450.6460933992599    Low_spent_Small_value_payments   \n",
       "99965       187.3559686116327    Low_spent_Large_value_payments   \n",
       "99969      104.64623687765652   High_spent_Small_value_payments   \n",
       "99973               __10000__    Low_spent_Small_value_payments   \n",
       "99986       76.28279349064607    Low_spent_Small_value_payments   \n",
       "\n",
       "          Monthly_Balance Credit_Score  \n",
       "7      358.12416760938714     Standard  \n",
       "17      998.8692967863226         Good  \n",
       "22      968.5555173846187     Standard  \n",
       "64      802.3004421328528         Good  \n",
       "80     362.54571194023237     Standard  \n",
       "...                   ...          ...  \n",
       "99964          151.210033         Good  \n",
       "99965          394.500158         Good  \n",
       "99969          267.043119         Good  \n",
       "99973          233.301539         Good  \n",
       "99986          345.743101         Poor  \n",
       "\n",
       "[9985 rows x 28 columns]"
      ]
     },
     "execution_count": 7,
     "metadata": {},
     "output_type": "execute_result"
    }
   ],
   "source": [
    "df_treino.loc[df_treino['Name'] == 'Desconhecido']"
   ]
  },
  {
   "cell_type": "code",
   "execution_count": 8,
   "id": "d8b72fd0-8cc6-4398-a1b5-f1a3c5283eb3",
   "metadata": {},
   "outputs": [],
   "source": [
    "df_treino['Monthly_Inhand_Salary'].fillna(df_treino['Monthly_Inhand_Salary'].mean(), inplace = True)"
   ]
  },
  {
   "cell_type": "code",
   "execution_count": 9,
   "id": "e1c4ec69-af63-4918-9182-ef7db0a8d478",
   "metadata": {},
   "outputs": [
    {
     "data": {
      "text/plain": [
       "0"
      ]
     },
     "execution_count": 9,
     "metadata": {},
     "output_type": "execute_result"
    }
   ],
   "source": [
    "df_treino['Monthly_Inhand_Salary'].isnull().sum()"
   ]
  },
  {
   "cell_type": "code",
   "execution_count": 10,
   "id": "2568d971-8cfa-48af-8a24-0fbae45ab965",
   "metadata": {},
   "outputs": [
    {
     "data": {
      "text/plain": [
       "0    Auto Loan, Credit-Builder Loan, Personal Loan,...\n",
       "1    Auto Loan, Credit-Builder Loan, Personal Loan,...\n",
       "2    Auto Loan, Credit-Builder Loan, Personal Loan,...\n",
       "3    Auto Loan, Credit-Builder Loan, Personal Loan,...\n",
       "4    Auto Loan, Credit-Builder Loan, Personal Loan,...\n",
       "Name: Type_of_Loan, dtype: object"
      ]
     },
     "execution_count": 10,
     "metadata": {},
     "output_type": "execute_result"
    }
   ],
   "source": [
    "df_treino['Type_of_Loan'].head()"
   ]
  },
  {
   "cell_type": "code",
   "execution_count": 11,
   "id": "b0db5012-ed11-4269-b108-fe62063494cb",
   "metadata": {},
   "outputs": [],
   "source": [
    "df_treino['Type_of_Loan'].fillna(\"None\", inplace = True)"
   ]
  },
  {
   "cell_type": "code",
   "execution_count": 12,
   "id": "e2421f29-5293-458a-82fb-f1693f71c1c5",
   "metadata": {},
   "outputs": [
    {
     "data": {
      "text/plain": [
       "0"
      ]
     },
     "execution_count": 12,
     "metadata": {},
     "output_type": "execute_result"
    }
   ],
   "source": [
    "df_treino['Type_of_Loan'].isnull().sum()"
   ]
  },
  {
   "cell_type": "code",
   "execution_count": 13,
   "id": "5cac0345-0b61-4937-9d5b-5a8235ce4df1",
   "metadata": {},
   "outputs": [
    {
     "data": {
      "text/plain": [
       "0      7\n",
       "1    NaN\n",
       "2      7\n",
       "3      4\n",
       "4    NaN\n",
       "Name: Num_of_Delayed_Payment, dtype: object"
      ]
     },
     "execution_count": 13,
     "metadata": {},
     "output_type": "execute_result"
    }
   ],
   "source": [
    "df_treino['Num_of_Delayed_Payment'].head()"
   ]
  },
  {
   "cell_type": "code",
   "execution_count": 14,
   "id": "9d0bcd58-8b3e-40d3-82af-d10b80024c7c",
   "metadata": {},
   "outputs": [
    {
     "data": {
      "text/html": [
       "<div>\n",
       "<style scoped>\n",
       "    .dataframe tbody tr th:only-of-type {\n",
       "        vertical-align: middle;\n",
       "    }\n",
       "\n",
       "    .dataframe tbody tr th {\n",
       "        vertical-align: top;\n",
       "    }\n",
       "\n",
       "    .dataframe thead th {\n",
       "        text-align: right;\n",
       "    }\n",
       "</style>\n",
       "<table border=\"1\" class=\"dataframe\">\n",
       "  <thead>\n",
       "    <tr style=\"text-align: right;\">\n",
       "      <th></th>\n",
       "      <th>Delay_from_due_date</th>\n",
       "      <th>Num_of_Delayed_Payment</th>\n",
       "    </tr>\n",
       "  </thead>\n",
       "  <tbody>\n",
       "    <tr>\n",
       "      <th>1</th>\n",
       "      <td>-1</td>\n",
       "      <td>NaN</td>\n",
       "    </tr>\n",
       "    <tr>\n",
       "      <th>4</th>\n",
       "      <td>6</td>\n",
       "      <td>NaN</td>\n",
       "    </tr>\n",
       "    <tr>\n",
       "      <th>30</th>\n",
       "      <td>5</td>\n",
       "      <td>NaN</td>\n",
       "    </tr>\n",
       "    <tr>\n",
       "      <th>32</th>\n",
       "      <td>5</td>\n",
       "      <td>NaN</td>\n",
       "    </tr>\n",
       "    <tr>\n",
       "      <th>33</th>\n",
       "      <td>9</td>\n",
       "      <td>NaN</td>\n",
       "    </tr>\n",
       "    <tr>\n",
       "      <th>...</th>\n",
       "      <td>...</td>\n",
       "      <td>...</td>\n",
       "    </tr>\n",
       "    <tr>\n",
       "      <th>99973</th>\n",
       "      <td>1</td>\n",
       "      <td>NaN</td>\n",
       "    </tr>\n",
       "    <tr>\n",
       "      <th>99974</th>\n",
       "      <td>1</td>\n",
       "      <td>NaN</td>\n",
       "    </tr>\n",
       "    <tr>\n",
       "      <th>99992</th>\n",
       "      <td>23</td>\n",
       "      <td>NaN</td>\n",
       "    </tr>\n",
       "    <tr>\n",
       "      <th>99993</th>\n",
       "      <td>23</td>\n",
       "      <td>NaN</td>\n",
       "    </tr>\n",
       "    <tr>\n",
       "      <th>99998</th>\n",
       "      <td>20</td>\n",
       "      <td>NaN</td>\n",
       "    </tr>\n",
       "  </tbody>\n",
       "</table>\n",
       "<p>7002 rows × 2 columns</p>\n",
       "</div>"
      ],
      "text/plain": [
       "       Delay_from_due_date Num_of_Delayed_Payment\n",
       "1                       -1                    NaN\n",
       "4                        6                    NaN\n",
       "30                       5                    NaN\n",
       "32                       5                    NaN\n",
       "33                       9                    NaN\n",
       "...                    ...                    ...\n",
       "99973                    1                    NaN\n",
       "99974                    1                    NaN\n",
       "99992                   23                    NaN\n",
       "99993                   23                    NaN\n",
       "99998                   20                    NaN\n",
       "\n",
       "[7002 rows x 2 columns]"
      ]
     },
     "execution_count": 14,
     "metadata": {},
     "output_type": "execute_result"
    }
   ],
   "source": [
    "df_treino[['Delay_from_due_date', 'Num_of_Delayed_Payment']].loc[df_treino['Num_of_Delayed_Payment'].isnull()]"
   ]
  },
  {
   "cell_type": "code",
   "execution_count": 15,
   "id": "7531707e-e082-4640-a00e-8a1b7cebd8d7",
   "metadata": {},
   "outputs": [
    {
     "name": "stdout",
     "output_type": "stream",
     "text": [
      "-5\n",
      "67\n"
     ]
    }
   ],
   "source": [
    "print(df_treino['Delay_from_due_date'].min())\n",
    "print(df_treino['Delay_from_due_date'].max())"
   ]
  },
  {
   "cell_type": "code",
   "execution_count": 16,
   "id": "5e01cf28-8876-4e79-9ccc-1fbe884e9a37",
   "metadata": {},
   "outputs": [
    {
     "name": "stdout",
     "output_type": "stream",
     "text": [
      "object\n"
     ]
    }
   ],
   "source": [
    "print(df_treino['Num_of_Delayed_Payment'].dtype)"
   ]
  },
  {
   "cell_type": "code",
   "execution_count": 17,
   "id": "bdd9461b-d807-4dd9-aec3-1251597a2a79",
   "metadata": {},
   "outputs": [],
   "source": [
    "# Converter valores não numéricos ou string em NaN\n",
    "df_treino[\"Num_of_Delayed_Payment\"] = pd.to_numeric(df_treino[\"Num_of_Delayed_Payment\"], errors='coerce')"
   ]
  },
  {
   "cell_type": "code",
   "execution_count": 18,
   "id": "fe04a140-c5d2-43c8-a374-545d6edadf7d",
   "metadata": {},
   "outputs": [
    {
     "data": {
      "text/plain": [
       "9746"
      ]
     },
     "execution_count": 18,
     "metadata": {},
     "output_type": "execute_result"
    }
   ],
   "source": [
    "# 2.744 novos registros nulos\n",
    "df_treino['Num_of_Delayed_Payment'].isnull().sum()"
   ]
  },
  {
   "cell_type": "code",
   "execution_count": 19,
   "id": "b565d777-57cc-4ed2-90df-94fb6ef62698",
   "metadata": {},
   "outputs": [],
   "source": [
    "# Substituir os valores nulos pela mediana, por causa dos outliers.\n",
    "df_treino['Num_of_Delayed_Payment'].fillna(df_treino['Num_of_Delayed_Payment'].median(), inplace = True)"
   ]
  },
  {
   "cell_type": "code",
   "execution_count": 20,
   "id": "e21380ac-c061-4b26-8fd9-f22d30e49641",
   "metadata": {},
   "outputs": [
    {
     "data": {
      "text/plain": [
       "1        14.0\n",
       "4        14.0\n",
       "6        14.0\n",
       "11       14.0\n",
       "30       14.0\n",
       "         ... \n",
       "99973    14.0\n",
       "99974    14.0\n",
       "99992    14.0\n",
       "99993    14.0\n",
       "99998    14.0\n",
       "Name: Num_of_Delayed_Payment, Length: 13812, dtype: float64"
      ]
     },
     "execution_count": 20,
     "metadata": {},
     "output_type": "execute_result"
    }
   ],
   "source": [
    "df_treino['Num_of_Delayed_Payment'].loc[df_treino['Num_of_Delayed_Payment'] == df_treino['Num_of_Delayed_Payment'].median()]"
   ]
  },
  {
   "cell_type": "code",
   "execution_count": 21,
   "id": "096dce89-ec7a-4808-bb68-04f6183efea0",
   "metadata": {},
   "outputs": [
    {
     "data": {
      "text/plain": [
       "0"
      ]
     },
     "execution_count": 21,
     "metadata": {},
     "output_type": "execute_result"
    }
   ],
   "source": [
    "df_treino['Num_of_Delayed_Payment'].isnull().sum()"
   ]
  },
  {
   "cell_type": "code",
   "execution_count": 22,
   "id": "cdd8808f-c8b3-4d12-ac97-f93d9efba87a",
   "metadata": {},
   "outputs": [
    {
     "data": {
      "text/plain": [
       "<Axes: xlabel='Num_of_Delayed_Payment'>"
      ]
     },
     "execution_count": 22,
     "metadata": {},
     "output_type": "execute_result"
    },
    {
     "data": {
      "image/png": "[encoded data removed]",
      "text/plain": [
       "<Figure size 1000x600 with 1 Axes>"
      ]
     },
     "metadata": {},
     "output_type": "display_data"
    }
   ],
   "source": [
    "# Verificando os outliers\n",
    "import seaborn as sns\n",
    "import matplotlib.pyplot as plt\n",
    "\n",
    "pagamento_outliers = df_treino['Num_of_Delayed_Payment']\n",
    "plt.figure(figsize = (10, 6))\n",
    "sns.boxplot(data = pagamento_outliers, orient = 'h')"
   ]
  },
  {
   "cell_type": "markdown",
   "id": "03207cc8-d471-4199-b291-3f276dece264",
   "metadata": {},
   "source": [
    "Os números de falta de pagamento estão extremamente altos como se pode ver nesse gráfico, isso vai atrapalhar a análise preditiva<br>\n",
    "<BR>\n",
    "Para isso, a grande maioria dos outliers serão eliminados, e para isso será feita uma verificação para descobrir qual é o valor do quantil 0.99, ou seja, o valor limite em que 99% dos dados dessa coluna atingem"
   ]
  },
  {
   "cell_type": "code",
   "execution_count": 23,
   "id": "ed409d8c-68bf-4395-8adb-07f319179233",
   "metadata": {},
   "outputs": [
    {
     "data": {
      "text/plain": [
       "27.0"
      ]
     },
     "execution_count": 23,
     "metadata": {},
     "output_type": "execute_result"
    }
   ],
   "source": [
    "# Uso do 'quantile' para verificar o quantil, que no caso é o valor limite de 99% dos dados\n",
    "df_treino[\"Num_of_Delayed_Payment\"].quantile(0.99)"
   ]
  },
  {
   "cell_type": "code",
   "execution_count": 24,
   "id": "c5b72777-482c-47aa-8af8-59cc63900705",
   "metadata": {},
   "outputs": [],
   "source": [
    "quantil_99 = df_treino[\"Num_of_Delayed_Payment\"].quantile(0.99)"
   ]
  },
  {
   "cell_type": "code",
   "execution_count": 25,
   "id": "5f55d9d7-9ed0-490f-8eb3-dcca34eb2982",
   "metadata": {},
   "outputs": [],
   "source": [
    "# Removendo a maioria dos outliers\n",
    "df_treino = df_treino[df_treino['Num_of_Delayed_Payment'] <= quantil_99]"
   ]
  },
  {
   "cell_type": "code",
   "execution_count": 59,
   "id": "3d77aaf5-92bb-481a-8155-6caa3e1d6a83",
   "metadata": {},
   "outputs": [],
   "source": [
    "# Removendo dados nulos\n",
    "df_treino['Num_of_Delayed_Payment'].fillna(df_treino['Num_of_Delayed_Payment'].median(), inplace = True)"
   ]
  },
  {
   "cell_type": "code",
   "execution_count": 60,
   "id": "76d1e610-556b-49d0-bae6-7fe7856c00aa",
   "metadata": {},
   "outputs": [
    {
     "data": {
      "text/plain": [
       "<Axes: xlabel='Num_of_Delayed_Payment'>"
      ]
     },
     "execution_count": 60,
     "metadata": {},
     "output_type": "execute_result"
    },
    {
     "data": {
      "image/png": "[encoded data removed]",
      "text/plain": [
       "<Figure size 1000x600 with 1 Axes>"
      ]
     },
     "metadata": {},
     "output_type": "display_data"
    }
   ],
   "source": [
    "pagamento_outliers = df_treino['Num_of_Delayed_Payment']\n",
    "plt.figure(figsize = (10, 6))\n",
    "sns.boxplot(data = pagamento_outliers, orient = 'h')"
   ]
  },
  {
   "cell_type": "code",
   "execution_count": 34,
   "id": "f0af681d-64aa-414b-85cf-7ebec03000c9",
   "metadata": {},
   "outputs": [
    {
     "data": {
      "text/plain": [
       "Credit_Score\n",
       "Good       -3.0\n",
       "Poor       -3.0\n",
       "Standard   -3.0\n",
       "Name: Num_of_Delayed_Payment, dtype: float64"
      ]
     },
     "execution_count": 34,
     "metadata": {},
     "output_type": "execute_result"
    }
   ],
   "source": [
    "df_treino.groupby('Credit_Score')['Num_of_Delayed_Payment'].min()"
   ]
  },
  {
   "cell_type": "code",
   "execution_count": 33,
   "id": "d7649faa-a2d1-48fe-b692-7881c5aefdfa",
   "metadata": {},
   "outputs": [
    {
     "data": {
      "text/plain": [
       "10      -1.0\n",
       "698     -1.0\n",
       "1253    -3.0\n",
       "1561    -2.0\n",
       "2167    -1.0\n",
       "        ... \n",
       "99269   -2.0\n",
       "99512   -2.0\n",
       "99515   -2.0\n",
       "99586   -2.0\n",
       "99965   -1.0\n",
       "Name: Num_of_Delayed_Payment, Length: 622, dtype: float64"
      ]
     },
     "execution_count": 33,
     "metadata": {},
     "output_type": "execute_result"
    }
   ],
   "source": [
    "df_treino['Num_of_Delayed_Payment'].loc[df_treino['Num_of_Delayed_Payment'] < 0]"
   ]
  },
  {
   "cell_type": "code",
   "execution_count": 35,
   "id": "3fd75f55-7f4a-4c71-8a65-eebc2b613b6e",
   "metadata": {},
   "outputs": [],
   "source": [
    "df_treino['Num_of_Delayed_Payment'] = df_treino['Num_of_Delayed_Payment'].loc[df_treino['Num_of_Delayed_Payment'] > 0]"
   ]
  },
  {
   "cell_type": "code",
   "execution_count": 36,
   "id": "76ebf462-e571-4f43-8a79-c2c4067cc868",
   "metadata": {},
   "outputs": [
    {
     "data": {
      "text/plain": [
       "Credit_Score\n",
       "Good        1.0\n",
       "Poor        1.0\n",
       "Standard    1.0\n",
       "Name: Num_of_Delayed_Payment, dtype: float64"
      ]
     },
     "execution_count": 36,
     "metadata": {},
     "output_type": "execute_result"
    }
   ],
   "source": [
    "df_treino.groupby('Credit_Score')['Num_of_Delayed_Payment'].min()"
   ]
  },
  {
   "cell_type": "code",
   "execution_count": 37,
   "id": "0e0c0c4e-e617-4663-baee-7840bc0cef9e",
   "metadata": {},
   "outputs": [
    {
     "data": {
      "text/plain": [
       "<Axes: xlabel='Num_of_Delayed_Payment'>"
      ]
     },
     "execution_count": 37,
     "metadata": {},
     "output_type": "execute_result"
    },
    {
     "data": {
      "image/png": "[encoded data removed]",
      "text/plain": [
       "<Figure size 1000x600 with 1 Axes>"
      ]
     },
     "metadata": {},
     "output_type": "display_data"
    }
   ],
   "source": [
    "pagamento_outliers = df_treino['Num_of_Delayed_Payment']\n",
    "plt.figure(figsize = (10, 6))\n",
    "sns.boxplot(data = pagamento_outliers, orient = 'h')"
   ]
  },
  {
   "cell_type": "code",
   "execution_count": 39,
   "id": "bf876bf9-7c47-45a6-a9ec-8f4a46f76a62",
   "metadata": {},
   "outputs": [
    {
     "data": {
      "text/plain": [
       "0    4.0\n",
       "1    4.0\n",
       "2    4.0\n",
       "3    4.0\n",
       "4    4.0\n",
       "5    4.0\n",
       "6    4.0\n",
       "7    4.0\n",
       "8    2.0\n",
       "9    2.0\n",
       "Name: Num_Credit_Inquiries, dtype: float64"
      ]
     },
     "execution_count": 39,
     "metadata": {},
     "output_type": "execute_result"
    }
   ],
   "source": [
    "df_treino['Num_Credit_Inquiries'].head(10)"
   ]
  },
  {
   "cell_type": "code",
   "execution_count": 47,
   "id": "73104e12-e521-4869-a088-436f55d70e7d",
   "metadata": {},
   "outputs": [
    {
     "data": {
      "text/plain": [
       "0"
      ]
     },
     "execution_count": 47,
     "metadata": {},
     "output_type": "execute_result"
    }
   ],
   "source": [
    "df_treino['Num_Credit_Inquiries'].isnull().sum()"
   ]
  },
  {
   "cell_type": "code",
   "execution_count": 43,
   "id": "25d41e72-5778-4e30-9bff-f323a0b8be03",
   "metadata": {},
   "outputs": [
    {
     "data": {
      "text/plain": [
       "18      NaN\n",
       "47      NaN\n",
       "113     NaN\n",
       "115     NaN\n",
       "187     NaN\n",
       "         ..\n",
       "99768   NaN\n",
       "99852   NaN\n",
       "99874   NaN\n",
       "99900   NaN\n",
       "99901   NaN\n",
       "Name: Num_Credit_Inquiries, Length: 1951, dtype: float64"
      ]
     },
     "execution_count": 43,
     "metadata": {},
     "output_type": "execute_result"
    }
   ],
   "source": [
    "df_treino['Num_Credit_Inquiries'].loc[df_treino['Num_Credit_Inquiries'].isnull()]"
   ]
  },
  {
   "cell_type": "code",
   "execution_count": 46,
   "id": "0bfacea6-7d4e-418b-bc9b-ed583a5f4d7e",
   "metadata": {},
   "outputs": [],
   "source": [
    "df_treino['Num_Credit_Inquiries'].fillna(df_treino['Num_Credit_Inquiries'].median(), inplace = True)"
   ]
  },
  {
   "cell_type": "code",
   "execution_count": 48,
   "id": "1c86f0c6-5f87-4893-9294-c5240bcab2be",
   "metadata": {},
   "outputs": [
    {
     "data": {
      "text/plain": [
       "<Axes: xlabel='Num_Credit_Inquiries'>"
      ]
     },
     "execution_count": 48,
     "metadata": {},
     "output_type": "execute_result"
    },
    {
     "data": {
      "image/png": "[encoded data removed]",
      "text/plain": [
       "<Figure size 1000x600 with 1 Axes>"
      ]
     },
     "metadata": {},
     "output_type": "display_data"
    }
   ],
   "source": [
    "credito_outliers = df_treino['Num_Credit_Inquiries']\n",
    "plt.figure(figsize = (10, 6))\n",
    "sns.boxplot(data = credito_outliers, orient = 'h')"
   ]
  },
  {
   "cell_type": "code",
   "execution_count": 38,
   "id": "868d3abf-c742-4393-b4e2-4fd37c1089e1",
   "metadata": {},
   "outputs": [
    {
     "name": "stdout",
     "output_type": "stream",
     "text": [
      "0.0\n",
      "2597.0\n"
     ]
    }
   ],
   "source": [
    "print(df_treino['Num_Credit_Inquiries'].min())\n",
    "print(df_treino['Num_Credit_Inquiries'].max())"
   ]
  },
  {
   "cell_type": "code",
   "execution_count": 53,
   "id": "468dd48a-4b78-4988-b826-3a26d6db4043",
   "metadata": {},
   "outputs": [
    {
     "data": {
      "text/plain": [
       "1061.4399999999878"
      ]
     },
     "execution_count": 53,
     "metadata": {},
     "output_type": "execute_result"
    }
   ],
   "source": [
    "df_treino['Num_Credit_Inquiries'].quantile(0.99)"
   ]
  },
  {
   "cell_type": "code",
   "execution_count": 55,
   "id": "aa700f38-4ebe-4eb7-98df-57f3d981169a",
   "metadata": {},
   "outputs": [
    {
     "data": {
      "text/plain": [
       "16.0"
      ]
     },
     "execution_count": 55,
     "metadata": {},
     "output_type": "execute_result"
    }
   ],
   "source": [
    "df_treino['Num_Credit_Inquiries'].quantile(0.98)"
   ]
  },
  {
   "cell_type": "code",
   "execution_count": 54,
   "id": "1d94c512-12bd-44d7-bb11-b29de657da7d",
   "metadata": {},
   "outputs": [
    {
     "data": {
      "text/plain": [
       "0        4.0\n",
       "1        4.0\n",
       "2        4.0\n",
       "3        4.0\n",
       "4        4.0\n",
       "        ... \n",
       "99995    3.0\n",
       "99996    3.0\n",
       "99997    3.0\n",
       "99998    3.0\n",
       "99999    3.0\n",
       "Name: Num_Credit_Inquiries, Length: 97238, dtype: float64"
      ]
     },
     "execution_count": 54,
     "metadata": {},
     "output_type": "execute_result"
    }
   ],
   "source": [
    "df_treino['Num_Credit_Inquiries'].loc[df_treino['Num_Credit_Inquiries'] <= df_treino['Num_Credit_Inquiries'].quantile(0.98)]"
   ]
  },
  {
   "cell_type": "code",
   "execution_count": 56,
   "id": "92d10345-bdf1-4146-9542-a869b59cdf5f",
   "metadata": {},
   "outputs": [],
   "source": [
    "quantil_98 = df_treino['Num_Credit_Inquiries'].quantile(0.98)\n",
    "df_treino = df_treino[df_treino['Num_Credit_Inquiries'] <= quantil_98]"
   ]
  },
  {
   "cell_type": "code",
   "execution_count": 57,
   "id": "a02719ed-e867-40c4-ba59-b084697fcdb3",
   "metadata": {},
   "outputs": [
    {
     "data": {
      "text/plain": [
       "<Axes: xlabel='Num_Credit_Inquiries'>"
      ]
     },
     "execution_count": 57,
     "metadata": {},
     "output_type": "execute_result"
    },
    {
     "data": {
      "image/png": "[encoded data removed]",
      "text/plain": [
       "<Figure size 1000x600 with 1 Axes>"
      ]
     },
     "metadata": {},
     "output_type": "display_data"
    }
   ],
   "source": [
    "credito_outliers = df_treino['Num_Credit_Inquiries']\n",
    "plt.figure(figsize = (10, 6))\n",
    "sns.boxplot(data = credito_outliers, orient = 'h')"
   ]
  },
  {
   "cell_type": "code",
   "execution_count": 61,
   "id": "f9a3415e-cf26-4991-8168-e2e9f59ba3ec",
   "metadata": {},
   "outputs": [
    {
     "data": {
      "text/plain": [
       "ID                             0\n",
       "Customer_ID                    0\n",
       "Month                          0\n",
       "Name                           0\n",
       "Age                            0\n",
       "SSN                            0\n",
       "Occupation                     0\n",
       "Annual_Income                  0\n",
       "Monthly_Inhand_Salary          0\n",
       "Num_Bank_Accounts              0\n",
       "Num_Credit_Card                0\n",
       "Interest_Rate                  0\n",
       "Num_of_Loan                    0\n",
       "Type_of_Loan                   0\n",
       "Delay_from_due_date            0\n",
       "Num_of_Delayed_Payment         0\n",
       "Changed_Credit_Limit           0\n",
       "Num_Credit_Inquiries           0\n",
       "Credit_Mix                     0\n",
       "Outstanding_Debt               0\n",
       "Credit_Utilization_Ratio       0\n",
       "Credit_History_Age          8754\n",
       "Payment_of_Min_Amount          0\n",
       "Total_EMI_per_month            0\n",
       "Amount_invested_monthly     4340\n",
       "Payment_Behaviour              0\n",
       "Monthly_Balance             1164\n",
       "Credit_Score                   0\n",
       "dtype: int64"
      ]
     },
     "execution_count": 61,
     "metadata": {},
     "output_type": "execute_result"
    }
   ],
   "source": [
    "df_treino.isnull().sum()"
   ]
  },
  {
   "cell_type": "code",
   "execution_count": null,
   "id": "412cceab-08b9-46ae-9a7e-57739ece4489",
   "metadata": {},
   "outputs": [],
   "source": []
  }
 ],
 "metadata": {
  "kernelspec": {
   "display_name": "Python 3 (ipykernel)",
   "language": "python",
   "name": "python3"
  },
  "language_info": {
   "codemirror_mode": {
    "name": "ipython",
    "version": 3
   },
   "file_extension": ".py",
   "mimetype": "text/x-python",
   "name": "python",
   "nbconvert_exporter": "python",
   "pygments_lexer": "ipython3",
   "version": "3.8.2"
  }
 },
 "nbformat": 4,
 "nbformat_minor": 5
}
