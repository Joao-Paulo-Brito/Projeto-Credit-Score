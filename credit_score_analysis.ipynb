{
 "cells": [
  {
   "cell_type": "markdown",
   "id": "931c9b34-240e-47f7-9603-63de47d6f830",
   "metadata": {},
   "source": [
    "# PERGUNTAS PARA A ANÁLISE(GPT)\n",
    "\n",
    "1. \"Com base em dados como idade, renda, escolaridade e outros fatores, é possível prever a classificação do crédito de uma pessoa?\"<br>\n",
    "→ Objetivo: Prever a variável Credit Score.<br>\n",
    "→ Tipo: Classificação multiclasse (High, Medium, Low).<br><br>\n",
    "\n",
    "2. \"Pessoas casadas têm mais chances de ter crédito alto do que pessoas solteiras?\"<br>\n",
    "→ Objetivo: Avaliar a influência de Marital Status sobre o Credit Score.<br><br>\n",
    "\n",
    "3. \"O número de filhos afeta diretamente a pontuação de crédito de um indivíduo?\"<br>\n",
    "→ Objetivo: Entender se a feature Number of Children tem relevância na predição.<br><br>\n",
    "\n",
    "4. \"O tipo de moradia (própria ou alugada) impacta o score de crédito?\"<br>\n",
    "→ Objetivo: Avaliar a importância de Home Ownership na previsão de crédito.<br><br>\n",
    "\n",
    "5. \"Qual perfil tem maior chance de ter crédito alto: uma mulher jovem com ensino superior e renda média, ou um homem mais velho com ensino médio e alta renda?\"<br>\n",
    "→ Objetivo: Criar perfis simulados com base nas colunas Age, Gender, Income, Education, e ver o comportamento do modelo ao classificá-los.<br>"
   ]
  },
  {
   "cell_type": "code",
   "execution_count": 3,
   "id": "780fb93e-6eea-4545-a0fc-4cd4f07ef927",
   "metadata": {},
   "outputs": [],
   "source": [
    "import pandas as pd"
   ]
  },
  {
   "cell_type": "code",
   "execution_count": 41,
   "id": "137f9160-b1fd-4a83-b32d-c3f5935f1192",
   "metadata": {},
   "outputs": [],
   "source": [
    "df = pd.read_csv('data/Credit-Score.csv')"
   ]
  },
  {
   "cell_type": "code",
   "execution_count": 42,
   "id": "462c5147-8994-4cd5-b25f-ff628d891729",
   "metadata": {},
   "outputs": [
    {
     "data": {
      "text/html": [
       "<div>\n",
       "<style scoped>\n",
       "    .dataframe tbody tr th:only-of-type {\n",
       "        vertical-align: middle;\n",
       "    }\n",
       "\n",
       "    .dataframe tbody tr th {\n",
       "        vertical-align: top;\n",
       "    }\n",
       "\n",
       "    .dataframe thead th {\n",
       "        text-align: right;\n",
       "    }\n",
       "</style>\n",
       "<table border=\"1\" class=\"dataframe\">\n",
       "  <thead>\n",
       "    <tr style=\"text-align: right;\">\n",
       "      <th></th>\n",
       "      <th>Age</th>\n",
       "      <th>Gender</th>\n",
       "      <th>Income</th>\n",
       "      <th>Education</th>\n",
       "      <th>Marital Status</th>\n",
       "      <th>Number of Children</th>\n",
       "      <th>Home Ownership</th>\n",
       "      <th>Credit Score</th>\n",
       "    </tr>\n",
       "  </thead>\n",
       "  <tbody>\n",
       "    <tr>\n",
       "      <th>0</th>\n",
       "      <td>25</td>\n",
       "      <td>Female</td>\n",
       "      <td>50000</td>\n",
       "      <td>Bachelor's Degree</td>\n",
       "      <td>Single</td>\n",
       "      <td>0</td>\n",
       "      <td>Rented</td>\n",
       "      <td>High</td>\n",
       "    </tr>\n",
       "    <tr>\n",
       "      <th>1</th>\n",
       "      <td>30</td>\n",
       "      <td>Male</td>\n",
       "      <td>100000</td>\n",
       "      <td>Master's Degree</td>\n",
       "      <td>Married</td>\n",
       "      <td>2</td>\n",
       "      <td>Owned</td>\n",
       "      <td>High</td>\n",
       "    </tr>\n",
       "    <tr>\n",
       "      <th>2</th>\n",
       "      <td>35</td>\n",
       "      <td>Female</td>\n",
       "      <td>75000</td>\n",
       "      <td>Doctorate</td>\n",
       "      <td>Married</td>\n",
       "      <td>1</td>\n",
       "      <td>Owned</td>\n",
       "      <td>High</td>\n",
       "    </tr>\n",
       "    <tr>\n",
       "      <th>3</th>\n",
       "      <td>40</td>\n",
       "      <td>Male</td>\n",
       "      <td>125000</td>\n",
       "      <td>High School Diploma</td>\n",
       "      <td>Single</td>\n",
       "      <td>0</td>\n",
       "      <td>Owned</td>\n",
       "      <td>High</td>\n",
       "    </tr>\n",
       "    <tr>\n",
       "      <th>4</th>\n",
       "      <td>45</td>\n",
       "      <td>Female</td>\n",
       "      <td>100000</td>\n",
       "      <td>Bachelor's Degree</td>\n",
       "      <td>Married</td>\n",
       "      <td>3</td>\n",
       "      <td>Owned</td>\n",
       "      <td>High</td>\n",
       "    </tr>\n",
       "  </tbody>\n",
       "</table>\n",
       "</div>"
      ],
      "text/plain": [
       "   Age  Gender  Income            Education Marital Status  \\\n",
       "0   25  Female   50000    Bachelor's Degree         Single   \n",
       "1   30    Male  100000      Master's Degree        Married   \n",
       "2   35  Female   75000            Doctorate        Married   \n",
       "3   40    Male  125000  High School Diploma         Single   \n",
       "4   45  Female  100000    Bachelor's Degree        Married   \n",
       "\n",
       "   Number of Children Home Ownership Credit Score  \n",
       "0                   0         Rented         High  \n",
       "1                   2          Owned         High  \n",
       "2                   1          Owned         High  \n",
       "3                   0          Owned         High  \n",
       "4                   3          Owned         High  "
      ]
     },
     "execution_count": 42,
     "metadata": {},
     "output_type": "execute_result"
    }
   ],
   "source": [
    "df.head()"
   ]
  },
  {
   "cell_type": "markdown",
   "id": "5680960d-3753-4248-bd56-a8d3c288727f",
   "metadata": {},
   "source": [
    "### Tratamento de dados"
   ]
  },
  {
   "cell_type": "code",
   "execution_count": 43,
   "id": "6c34671c-477a-4d8a-bb98-bedace48f16e",
   "metadata": {},
   "outputs": [
    {
     "data": {
      "text/plain": [
       "Age                   0\n",
       "Gender                0\n",
       "Income                0\n",
       "Education             0\n",
       "Marital Status        0\n",
       "Number of Children    0\n",
       "Home Ownership        0\n",
       "Credit Score          0\n",
       "dtype: int64"
      ]
     },
     "execution_count": 43,
     "metadata": {},
     "output_type": "execute_result"
    }
   ],
   "source": [
    "# Valores nulos\n",
    "df.isnull().sum()"
   ]
  },
  {
   "cell_type": "code",
   "execution_count": 44,
   "id": "fcaa4bdb-312d-4989-b696-e8e735ba1ecd",
   "metadata": {},
   "outputs": [
    {
     "data": {
      "text/plain": [
       "Age                   0\n",
       "Gender                0\n",
       "Income                0\n",
       "Education             0\n",
       "Marital Status        0\n",
       "Number of Children    0\n",
       "Home Ownership        0\n",
       "Credit Score          0\n",
       "dtype: int64"
      ]
     },
     "execution_count": 44,
     "metadata": {},
     "output_type": "execute_result"
    }
   ],
   "source": [
    "# Valores ausentes\n",
    "df.isna().sum()"
   ]
  },
  {
   "cell_type": "code",
   "execution_count": 45,
   "id": "f18f637b-2c5a-428e-9dab-2df410923731",
   "metadata": {},
   "outputs": [
    {
     "data": {
      "text/plain": [
       "62"
      ]
     },
     "execution_count": 45,
     "metadata": {},
     "output_type": "execute_result"
    }
   ],
   "source": [
    "# Valores duplicados\n",
    "df.duplicated().sum()"
   ]
  },
  {
   "cell_type": "code",
   "execution_count": 46,
   "id": "f65f9595-afaf-4f37-9e29-332818bd573d",
   "metadata": {},
   "outputs": [
    {
     "name": "stdout",
     "output_type": "stream",
     "text": [
      "     Age  Gender  Income            Education Marital Status  \\\n",
      "73    27  Female   37500  High School Diploma         Single   \n",
      "74    32    Male   57500   Associate's Degree         Single   \n",
      "79    28  Female   32500   Associate's Degree         Single   \n",
      "80    33    Male   52500  High School Diploma         Single   \n",
      "81    38  Female   67500    Bachelor's Degree        Married   \n",
      "..   ...     ...     ...                  ...            ...   \n",
      "159   29  Female   27500  High School Diploma         Single   \n",
      "160   34    Male   47500   Associate's Degree         Single   \n",
      "161   39  Female   62500    Bachelor's Degree        Married   \n",
      "162   44    Male   87500      Master's Degree         Single   \n",
      "163   49  Female   77500            Doctorate        Married   \n",
      "\n",
      "     Number of Children Home Ownership Credit Score  \n",
      "73                    0         Rented          Low  \n",
      "74                    0         Rented      Average  \n",
      "79                    0         Rented          Low  \n",
      "80                    0         Rented      Average  \n",
      "81                    2          Owned         High  \n",
      "..                  ...            ...          ...  \n",
      "159                   0         Rented          Low  \n",
      "160                   0         Rented      Average  \n",
      "161                   2          Owned         High  \n",
      "162                   0          Owned         High  \n",
      "163                   1          Owned         High  \n",
      "\n",
      "[62 rows x 8 columns]\n"
     ]
    }
   ],
   "source": [
    "duplicadas = df[df.duplicated()]\n",
    "print(duplicadas)"
   ]
  },
  {
   "cell_type": "code",
   "execution_count": 47,
   "id": "86e15533-0559-4198-aff7-9516de9245c8",
   "metadata": {},
   "outputs": [
    {
     "data": {
      "text/html": [
       "<div>\n",
       "<style scoped>\n",
       "    .dataframe tbody tr th:only-of-type {\n",
       "        vertical-align: middle;\n",
       "    }\n",
       "\n",
       "    .dataframe tbody tr th {\n",
       "        vertical-align: top;\n",
       "    }\n",
       "\n",
       "    .dataframe thead th {\n",
       "        text-align: right;\n",
       "    }\n",
       "</style>\n",
       "<table border=\"1\" class=\"dataframe\">\n",
       "  <thead>\n",
       "    <tr style=\"text-align: right;\">\n",
       "      <th></th>\n",
       "      <th>Age</th>\n",
       "      <th>Gender</th>\n",
       "      <th>Income</th>\n",
       "      <th>Education</th>\n",
       "      <th>Marital Status</th>\n",
       "      <th>Number of Children</th>\n",
       "      <th>Home Ownership</th>\n",
       "      <th>Credit Score</th>\n",
       "    </tr>\n",
       "  </thead>\n",
       "  <tbody>\n",
       "    <tr>\n",
       "      <th>29</th>\n",
       "      <td>25</td>\n",
       "      <td>Female</td>\n",
       "      <td>55000</td>\n",
       "      <td>Bachelor's Degree</td>\n",
       "      <td>Single</td>\n",
       "      <td>0</td>\n",
       "      <td>Rented</td>\n",
       "      <td>Average</td>\n",
       "    </tr>\n",
       "    <tr>\n",
       "      <th>135</th>\n",
       "      <td>25</td>\n",
       "      <td>Female</td>\n",
       "      <td>55000</td>\n",
       "      <td>Bachelor's Degree</td>\n",
       "      <td>Single</td>\n",
       "      <td>0</td>\n",
       "      <td>Rented</td>\n",
       "      <td>Average</td>\n",
       "    </tr>\n",
       "    <tr>\n",
       "      <th>58</th>\n",
       "      <td>25</td>\n",
       "      <td>Female</td>\n",
       "      <td>57500</td>\n",
       "      <td>Bachelor's Degree</td>\n",
       "      <td>Single</td>\n",
       "      <td>0</td>\n",
       "      <td>Rented</td>\n",
       "      <td>Average</td>\n",
       "    </tr>\n",
       "    <tr>\n",
       "      <th>90</th>\n",
       "      <td>25</td>\n",
       "      <td>Female</td>\n",
       "      <td>57500</td>\n",
       "      <td>Bachelor's Degree</td>\n",
       "      <td>Single</td>\n",
       "      <td>0</td>\n",
       "      <td>Rented</td>\n",
       "      <td>Average</td>\n",
       "    </tr>\n",
       "    <tr>\n",
       "      <th>122</th>\n",
       "      <td>25</td>\n",
       "      <td>Female</td>\n",
       "      <td>57500</td>\n",
       "      <td>Bachelor's Degree</td>\n",
       "      <td>Single</td>\n",
       "      <td>0</td>\n",
       "      <td>Rented</td>\n",
       "      <td>Average</td>\n",
       "    </tr>\n",
       "    <tr>\n",
       "      <th>...</th>\n",
       "      <td>...</td>\n",
       "      <td>...</td>\n",
       "      <td>...</td>\n",
       "      <td>...</td>\n",
       "      <td>...</td>\n",
       "      <td>...</td>\n",
       "      <td>...</td>\n",
       "      <td>...</td>\n",
       "    </tr>\n",
       "    <tr>\n",
       "      <th>146</th>\n",
       "      <td>51</td>\n",
       "      <td>Male</td>\n",
       "      <td>140000</td>\n",
       "      <td>Bachelor's Degree</td>\n",
       "      <td>Married</td>\n",
       "      <td>0</td>\n",
       "      <td>Owned</td>\n",
       "      <td>High</td>\n",
       "    </tr>\n",
       "    <tr>\n",
       "      <th>46</th>\n",
       "      <td>52</td>\n",
       "      <td>Male</td>\n",
       "      <td>130000</td>\n",
       "      <td>High School Diploma</td>\n",
       "      <td>Married</td>\n",
       "      <td>0</td>\n",
       "      <td>Owned</td>\n",
       "      <td>High</td>\n",
       "    </tr>\n",
       "    <tr>\n",
       "      <th>152</th>\n",
       "      <td>52</td>\n",
       "      <td>Male</td>\n",
       "      <td>130000</td>\n",
       "      <td>High School Diploma</td>\n",
       "      <td>Married</td>\n",
       "      <td>0</td>\n",
       "      <td>Owned</td>\n",
       "      <td>High</td>\n",
       "    </tr>\n",
       "    <tr>\n",
       "      <th>52</th>\n",
       "      <td>53</td>\n",
       "      <td>Male</td>\n",
       "      <td>122500</td>\n",
       "      <td>Associate's Degree</td>\n",
       "      <td>Married</td>\n",
       "      <td>0</td>\n",
       "      <td>Owned</td>\n",
       "      <td>High</td>\n",
       "    </tr>\n",
       "    <tr>\n",
       "      <th>158</th>\n",
       "      <td>53</td>\n",
       "      <td>Male</td>\n",
       "      <td>122500</td>\n",
       "      <td>Associate's Degree</td>\n",
       "      <td>Married</td>\n",
       "      <td>0</td>\n",
       "      <td>Owned</td>\n",
       "      <td>High</td>\n",
       "    </tr>\n",
       "  </tbody>\n",
       "</table>\n",
       "<p>98 rows × 8 columns</p>\n",
       "</div>"
      ],
      "text/plain": [
       "     Age  Gender  Income            Education Marital Status  \\\n",
       "29    25  Female   55000    Bachelor's Degree         Single   \n",
       "135   25  Female   55000    Bachelor's Degree         Single   \n",
       "58    25  Female   57500    Bachelor's Degree         Single   \n",
       "90    25  Female   57500    Bachelor's Degree         Single   \n",
       "122   25  Female   57500    Bachelor's Degree         Single   \n",
       "..   ...     ...     ...                  ...            ...   \n",
       "146   51    Male  140000    Bachelor's Degree        Married   \n",
       "46    52    Male  130000  High School Diploma        Married   \n",
       "152   52    Male  130000  High School Diploma        Married   \n",
       "52    53    Male  122500   Associate's Degree        Married   \n",
       "158   53    Male  122500   Associate's Degree        Married   \n",
       "\n",
       "     Number of Children Home Ownership Credit Score  \n",
       "29                    0         Rented      Average  \n",
       "135                   0         Rented      Average  \n",
       "58                    0         Rented      Average  \n",
       "90                    0         Rented      Average  \n",
       "122                   0         Rented      Average  \n",
       "..                  ...            ...          ...  \n",
       "146                   0          Owned         High  \n",
       "46                    0          Owned         High  \n",
       "152                   0          Owned         High  \n",
       "52                    0          Owned         High  \n",
       "158                   0          Owned         High  \n",
       "\n",
       "[98 rows x 8 columns]"
      ]
     },
     "execution_count": 47,
     "metadata": {},
     "output_type": "execute_result"
    }
   ],
   "source": [
    "# Verificando linhas duplicadas\n",
    "df[df.duplicated(keep=False)].sort_values(by=list(df.columns))"
   ]
  },
  {
   "cell_type": "code",
   "execution_count": 48,
   "id": "c7c1c660-d017-4a5a-89dc-90bd4c561995",
   "metadata": {},
   "outputs": [],
   "source": [
    "df.drop_duplicates(inplace=True)"
   ]
  },
  {
   "cell_type": "code",
   "execution_count": 49,
   "id": "ca2d6908-97e1-4b3d-9ae7-16ce896c2680",
   "metadata": {},
   "outputs": [
    {
     "data": {
      "text/plain": [
       "0"
      ]
     },
     "execution_count": 49,
     "metadata": {},
     "output_type": "execute_result"
    }
   ],
   "source": [
    "df.duplicated().sum()"
   ]
  },
  {
   "cell_type": "code",
   "execution_count": 11,
   "id": "b7836ab7-0a73-4c78-8aa9-90894d836e1e",
   "metadata": {},
   "outputs": [
    {
     "data": {
      "text/plain": [
       "Age                    int64\n",
       "Gender                object\n",
       "Income                 int64\n",
       "Education             object\n",
       "Marital Status        object\n",
       "Number of Children     int64\n",
       "Home Ownership        object\n",
       "Credit Score          object\n",
       "dtype: object"
      ]
     },
     "execution_count": 11,
     "metadata": {},
     "output_type": "execute_result"
    }
   ],
   "source": [
    "df.dtypes"
   ]
  },
  {
   "cell_type": "code",
   "execution_count": 12,
   "id": "39841dab-f662-407a-8b3e-9b7e4f83e07f",
   "metadata": {},
   "outputs": [
    {
     "name": "stdout",
     "output_type": "stream",
     "text": [
      "Valore únicos nas colunas:\n",
      "['Female' 'Male']\n",
      "[\"Bachelor's Degree\" \"Master's Degree\" 'Doctorate' 'High School Diploma'\n",
      " \"Associate's Degree\"]\n",
      "['Single' 'Married']\n",
      "['Rented' 'Owned']\n",
      "['High' 'Average' 'Low']\n"
     ]
    }
   ],
   "source": [
    "print(\"Valore únicos nas colunas:\")\n",
    "for col in df.select_dtypes(include = 'object'):\n",
    "    print(df[col].unique())"
   ]
  },
  {
   "cell_type": "markdown",
   "id": "6a784085-fee3-41aa-beb3-f3adaf5c4fdf",
   "metadata": {},
   "source": [
    "## Pré processamento de dados"
   ]
  },
  {
   "cell_type": "code",
   "execution_count": 43,
   "id": "bfd91d4d-3661-47c2-b83f-598afc895120",
   "metadata": {},
   "outputs": [
    {
     "data": {
      "text/plain": [
       "Index(['Age', 'Gender', 'Income', 'Education', 'Marital Status',\n",
       "       'Number of Children', 'Home Ownership', 'Credit Score'],\n",
       "      dtype='object')"
      ]
     },
     "execution_count": 43,
     "metadata": {},
     "output_type": "execute_result"
    }
   ],
   "source": [
    "df.columns"
   ]
  },
  {
   "cell_type": "code",
   "execution_count": 50,
   "id": "b27ac2f8-7573-4d9b-93dd-a0c030ad9685",
   "metadata": {},
   "outputs": [
    {
     "data": {
      "text/html": [
       "<div>\n",
       "<style scoped>\n",
       "    .dataframe tbody tr th:only-of-type {\n",
       "        vertical-align: middle;\n",
       "    }\n",
       "\n",
       "    .dataframe tbody tr th {\n",
       "        vertical-align: top;\n",
       "    }\n",
       "\n",
       "    .dataframe thead th {\n",
       "        text-align: right;\n",
       "    }\n",
       "</style>\n",
       "<table border=\"1\" class=\"dataframe\">\n",
       "  <thead>\n",
       "    <tr style=\"text-align: right;\">\n",
       "      <th></th>\n",
       "      <th>Age</th>\n",
       "      <th>Gender</th>\n",
       "      <th>Income</th>\n",
       "      <th>Education</th>\n",
       "      <th>Marital Status</th>\n",
       "      <th>Number of Children</th>\n",
       "      <th>Home Ownership</th>\n",
       "    </tr>\n",
       "  </thead>\n",
       "  <tbody>\n",
       "    <tr>\n",
       "      <th>0</th>\n",
       "      <td>25</td>\n",
       "      <td>Female</td>\n",
       "      <td>50000</td>\n",
       "      <td>Bachelor's Degree</td>\n",
       "      <td>Single</td>\n",
       "      <td>0</td>\n",
       "      <td>Rented</td>\n",
       "    </tr>\n",
       "    <tr>\n",
       "      <th>1</th>\n",
       "      <td>30</td>\n",
       "      <td>Male</td>\n",
       "      <td>100000</td>\n",
       "      <td>Master's Degree</td>\n",
       "      <td>Married</td>\n",
       "      <td>2</td>\n",
       "      <td>Owned</td>\n",
       "    </tr>\n",
       "    <tr>\n",
       "      <th>2</th>\n",
       "      <td>35</td>\n",
       "      <td>Female</td>\n",
       "      <td>75000</td>\n",
       "      <td>Doctorate</td>\n",
       "      <td>Married</td>\n",
       "      <td>1</td>\n",
       "      <td>Owned</td>\n",
       "    </tr>\n",
       "    <tr>\n",
       "      <th>3</th>\n",
       "      <td>40</td>\n",
       "      <td>Male</td>\n",
       "      <td>125000</td>\n",
       "      <td>High School Diploma</td>\n",
       "      <td>Single</td>\n",
       "      <td>0</td>\n",
       "      <td>Owned</td>\n",
       "    </tr>\n",
       "    <tr>\n",
       "      <th>4</th>\n",
       "      <td>45</td>\n",
       "      <td>Female</td>\n",
       "      <td>100000</td>\n",
       "      <td>Bachelor's Degree</td>\n",
       "      <td>Married</td>\n",
       "      <td>3</td>\n",
       "      <td>Owned</td>\n",
       "    </tr>\n",
       "    <tr>\n",
       "      <th>...</th>\n",
       "      <td>...</td>\n",
       "      <td>...</td>\n",
       "      <td>...</td>\n",
       "      <td>...</td>\n",
       "      <td>...</td>\n",
       "      <td>...</td>\n",
       "      <td>...</td>\n",
       "    </tr>\n",
       "    <tr>\n",
       "      <th>130</th>\n",
       "      <td>31</td>\n",
       "      <td>Male</td>\n",
       "      <td>95000</td>\n",
       "      <td>Doctorate</td>\n",
       "      <td>Single</td>\n",
       "      <td>0</td>\n",
       "      <td>Rented</td>\n",
       "    </tr>\n",
       "    <tr>\n",
       "      <th>131</th>\n",
       "      <td>26</td>\n",
       "      <td>Female</td>\n",
       "      <td>55000</td>\n",
       "      <td>Bachelor's Degree</td>\n",
       "      <td>Married</td>\n",
       "      <td>1</td>\n",
       "      <td>Owned</td>\n",
       "    </tr>\n",
       "    <tr>\n",
       "      <th>132</th>\n",
       "      <td>32</td>\n",
       "      <td>Male</td>\n",
       "      <td>85000</td>\n",
       "      <td>Master's Degree</td>\n",
       "      <td>Single</td>\n",
       "      <td>0</td>\n",
       "      <td>Rented</td>\n",
       "    </tr>\n",
       "    <tr>\n",
       "      <th>133</th>\n",
       "      <td>29</td>\n",
       "      <td>Female</td>\n",
       "      <td>68000</td>\n",
       "      <td>Doctorate</td>\n",
       "      <td>Married</td>\n",
       "      <td>2</td>\n",
       "      <td>Owned</td>\n",
       "    </tr>\n",
       "    <tr>\n",
       "      <th>134</th>\n",
       "      <td>34</td>\n",
       "      <td>Male</td>\n",
       "      <td>105000</td>\n",
       "      <td>Bachelor's Degree</td>\n",
       "      <td>Married</td>\n",
       "      <td>1</td>\n",
       "      <td>Rented</td>\n",
       "    </tr>\n",
       "  </tbody>\n",
       "</table>\n",
       "<p>102 rows × 7 columns</p>\n",
       "</div>"
      ],
      "text/plain": [
       "     Age  Gender  Income            Education Marital Status  \\\n",
       "0     25  Female   50000    Bachelor's Degree         Single   \n",
       "1     30    Male  100000      Master's Degree        Married   \n",
       "2     35  Female   75000            Doctorate        Married   \n",
       "3     40    Male  125000  High School Diploma         Single   \n",
       "4     45  Female  100000    Bachelor's Degree        Married   \n",
       "..   ...     ...     ...                  ...            ...   \n",
       "130   31    Male   95000            Doctorate         Single   \n",
       "131   26  Female   55000    Bachelor's Degree        Married   \n",
       "132   32    Male   85000      Master's Degree         Single   \n",
       "133   29  Female   68000            Doctorate        Married   \n",
       "134   34    Male  105000    Bachelor's Degree        Married   \n",
       "\n",
       "     Number of Children Home Ownership  \n",
       "0                     0         Rented  \n",
       "1                     2          Owned  \n",
       "2                     1          Owned  \n",
       "3                     0          Owned  \n",
       "4                     3          Owned  \n",
       "..                  ...            ...  \n",
       "130                   0         Rented  \n",
       "131                   1          Owned  \n",
       "132                   0         Rented  \n",
       "133                   2          Owned  \n",
       "134                   1         Rented  \n",
       "\n",
       "[102 rows x 7 columns]"
      ]
     },
     "execution_count": 50,
     "metadata": {},
     "output_type": "execute_result"
    }
   ],
   "source": [
    "# Features(X)\n",
    "x_credit = df.iloc[:, 0:7]\n",
    "x_credit"
   ]
  },
  {
   "cell_type": "code",
   "execution_count": 51,
   "id": "a710255f-d048-42dc-bed6-4dc38cb0ea62",
   "metadata": {},
   "outputs": [
    {
     "data": {
      "text/plain": [
       "0         High\n",
       "1         High\n",
       "2         High\n",
       "3         High\n",
       "4         High\n",
       "        ...   \n",
       "130       High\n",
       "131    Average\n",
       "132       High\n",
       "133    Average\n",
       "134       High\n",
       "Name: Credit Score, Length: 102, dtype: object"
      ]
     },
     "execution_count": 51,
     "metadata": {},
     "output_type": "execute_result"
    }
   ],
   "source": [
    "# Target(Y)\n",
    "y_credit = df['Credit Score']\n",
    "y_credit"
   ]
  },
  {
   "cell_type": "code",
   "execution_count": 52,
   "id": "ad41f51e-8156-445b-80fe-46535d314eca",
   "metadata": {},
   "outputs": [
    {
     "data": {
      "text/plain": [
       "array(['High', 'Average', 'Low'], dtype=object)"
      ]
     },
     "execution_count": 52,
     "metadata": {},
     "output_type": "execute_result"
    }
   ],
   "source": [
    "y_credit.unique()"
   ]
  },
  {
   "cell_type": "markdown",
   "id": "f1c23f02-fd3d-424c-b05b-9ee6c42e6db7",
   "metadata": {},
   "source": [
    "Utilização do One Hot Encoder para o pré-processamento dos dados"
   ]
  },
  {
   "cell_type": "code",
   "execution_count": 53,
   "id": "d42eaf26-c3c3-4e92-aa70-814d2911c132",
   "metadata": {},
   "outputs": [],
   "source": [
    "from sklearn.model_selection import train_test_split\n",
    "x_credit_treinamento, x_credit_teste, y_credit_treinamento, y_credit_teste = train_test_split(x_credit, y_credit, test_size = 0.25, random_state = 0)"
   ]
  },
  {
   "cell_type": "markdown",
   "id": "2c0d71f3-dccf-477e-94bf-73338794dd29",
   "metadata": {},
   "source": [
    "### Pré-processamento dos dados"
   ]
  },
  {
   "cell_type": "code",
   "execution_count": 54,
   "id": "fdebf396-1f48-4353-ab75-e6261e496072",
   "metadata": {},
   "outputs": [],
   "source": [
    "from sklearn.preprocessing import OneHotEncoder\n",
    "from sklearn.compose import ColumnTransformer\n",
    "import numpy as np"
   ]
  },
  {
   "cell_type": "markdown",
   "id": "4c88ad41-996d-4f3b-81f8-d76033ae4c2c",
   "metadata": {},
   "source": [
    "OBS: O 'fit_transform' deve ser usado apenas nos dados de treino, para aprender os parâmetros dos dados e aplicar a transformação. Já o 'transform' usa a transformação já treinada e aplica os parâmetros, então deve ser usado nos dados de teste."
   ]
  },
  {
   "cell_type": "code",
   "execution_count": 55,
   "id": "1473c51e-c6c6-4286-9b15-5ffc63b764b8",
   "metadata": {},
   "outputs": [],
   "source": [
    "OHE_credit = ColumnTransformer(transformers = [('OneHot', OneHotEncoder(), [1, 3, 4, 6])], remainder = 'passthrough')\n",
    "x_credit_treinamento = OHE_credit.fit_transform(x_credit_treinamento)\n",
    "x_credit_teste = OHE_credit.transform(x_credit_teste)"
   ]
  },
  {
   "cell_type": "code",
   "execution_count": 56,
   "id": "c6dd6f16-c588-48b9-82e0-10bac4d36156",
   "metadata": {},
   "outputs": [],
   "source": [
    "# Salvando o pré-proessamento OHE\n",
    "import pickle\n",
    "with open('Pickle/OHE_credit.pkl', 'wb') as arquivo:\n",
    "    pickle.dump(OHE_credit, arquivo)"
   ]
  },
  {
   "cell_type": "code",
   "execution_count": 57,
   "id": "41d9b3e2-c8f2-4aa6-8cdf-883ee864f639",
   "metadata": {},
   "outputs": [],
   "source": [
    "from sklearn.preprocessing import StandardScaler\n",
    "scaler_credit = StandardScaler()\n",
    "x_credit_treinamento = scaler_credit.fit_transform(x_credit_treinamento)\n",
    "x_credit_teste = scaler_credit.transform(x_credit_teste)"
   ]
  },
  {
   "cell_type": "code",
   "execution_count": 58,
   "id": "b9cb8511-dac4-4213-938c-a0013c64e635",
   "metadata": {},
   "outputs": [],
   "source": [
    "# Salvando o escalonamento Scaler\n",
    "with open('Pickle/scaler_credit.pkl', 'wb') as arquivo:\n",
    "    pickle.dump(scaler_credit, arquivo)"
   ]
  },
  {
   "cell_type": "code",
   "execution_count": 59,
   "id": "661eb41b-2daa-4306-8af4-7236fd291337",
   "metadata": {},
   "outputs": [],
   "source": [
    "from sklearn.preprocessing import LabelEncoder\n",
    "LE_credit = LabelEncoder()\n",
    "y_credit_treinamento = LE_credit.fit_transform(y_credit_treinamento)\n",
    "y_credit_teste = LE_credit.transform(y_credit_teste)"
   ]
  },
  {
   "cell_type": "code",
   "execution_count": 60,
   "id": "764c4b62-3c01-44b2-8960-3fed156c4b4b",
   "metadata": {},
   "outputs": [],
   "source": [
    "with open('Pickle/LE_credit.pkl', 'wb') as arquivo:\n",
    "    pickle.dump(LE_credit, arquivo)"
   ]
  },
  {
   "cell_type": "code",
   "execution_count": 61,
   "id": "836508bc-f3fc-4f0c-bd1e-3c6bd5c47045",
   "metadata": {},
   "outputs": [
    {
     "data": {
      "text/plain": [
       "((76, 14), (76,))"
      ]
     },
     "execution_count": 61,
     "metadata": {},
     "output_type": "execute_result"
    }
   ],
   "source": [
    "x_credit_treinamento.shape, y_credit_treinamento.shape"
   ]
  },
  {
   "cell_type": "code",
   "execution_count": 62,
   "id": "859272e9-7086-4241-a6c8-76c1e92e5697",
   "metadata": {},
   "outputs": [
    {
     "data": {
      "text/plain": [
       "((26, 14), (26,))"
      ]
     },
     "execution_count": 62,
     "metadata": {},
     "output_type": "execute_result"
    }
   ],
   "source": [
    "x_credit_teste.shape, y_credit_teste.shape"
   ]
  },
  {
   "cell_type": "code",
   "execution_count": 63,
   "id": "600209ac-1a92-4e3b-aac7-7a4475d23b31",
   "metadata": {},
   "outputs": [],
   "source": [
    "import pickle\n",
    "with open('Pickle/credit.pkl', mode = 'wb') as f:\n",
    "    pickle.dump([x_credit_treinamento, y_credit_treinamento, x_credit_teste, y_credit_teste], f)"
   ]
  },
  {
   "cell_type": "markdown",
   "id": "5f53089a-1076-44ec-97b4-58abfdb7ad3b",
   "metadata": {},
   "source": [
    "## Modelo Naive Bayes"
   ]
  },
  {
   "cell_type": "code",
   "execution_count": 28,
   "id": "52b08e0c-14c4-4614-aa0d-6f281cfd4110",
   "metadata": {},
   "outputs": [],
   "source": [
    "import pickle\n",
    "with open('Pickle/credit.pkl', mode = 'rb') as f:\n",
    "    x_credit_treinamento, y_credit_treinamento, x_credit_teste, y_credit_teste = pickle.load(f)"
   ]
  },
  {
   "cell_type": "code",
   "execution_count": 29,
   "id": "17479ef0-177e-43c1-959c-75e0e41ebe77",
   "metadata": {},
   "outputs": [],
   "source": [
    "from sklearn.naive_bayes import GaussianNB"
   ]
  },
  {
   "cell_type": "code",
   "execution_count": 30,
   "id": "7dbd6faa-986b-4fb4-b7a2-5ea2d1a7644b",
   "metadata": {},
   "outputs": [],
   "source": [
    "naive_credit = GaussianNB()\n",
    "naive_credit.fit(x_credit_treinamento, y_credit_treinamento)\n",
    "previsao_credit = naive_credit.predict(x_credit_teste)"
   ]
  },
  {
   "cell_type": "code",
   "execution_count": 31,
   "id": "66a8d226-83ed-49b0-9d0d-3c38f975103a",
   "metadata": {},
   "outputs": [
    {
     "data": {
      "text/plain": [
       "array([1, 1, 1, 1, 1, 1, 1, 1, 0, 0, 2, 1, 1, 0, 0, 1, 1, 2, 1, 1, 1, 1,\n",
       "       1, 0, 1, 0])"
      ]
     },
     "execution_count": 31,
     "metadata": {},
     "output_type": "execute_result"
    }
   ],
   "source": [
    "previsao_credit"
   ]
  },
  {
   "cell_type": "code",
   "execution_count": 32,
   "id": "124c7bb2-578d-45f5-abb3-e63c85bfbc7d",
   "metadata": {},
   "outputs": [
    {
     "data": {
      "text/plain": [
       "array([1, 1, 1, 1, 1, 1, 1, 1, 0, 0, 2, 1, 1, 0, 0, 1, 1, 2, 1, 1, 1, 1,\n",
       "       1, 0, 1, 0])"
      ]
     },
     "execution_count": 32,
     "metadata": {},
     "output_type": "execute_result"
    }
   ],
   "source": [
    "y_credit_teste"
   ]
  },
  {
   "cell_type": "code",
   "execution_count": 33,
   "id": "ce6b6866-f2ea-4b7c-a92b-3a97079a8e3c",
   "metadata": {},
   "outputs": [
    {
     "data": {
      "text/plain": [
       "1.0"
      ]
     },
     "execution_count": 33,
     "metadata": {},
     "output_type": "execute_result"
    }
   ],
   "source": [
    "naive_credit.score(x_credit_teste, y_credit_teste)"
   ]
  },
  {
   "cell_type": "code",
   "execution_count": 33,
   "id": "3d2c030a-31fe-41af-bc7f-624c346bb82c",
   "metadata": {},
   "outputs": [
    {
     "data": {
      "text/plain": [
       "1.0"
      ]
     },
     "execution_count": 33,
     "metadata": {},
     "output_type": "execute_result"
    }
   ],
   "source": [
    "from sklearn.metrics import accuracy_score, classification_report\n",
    "# 100% de acerto\n",
    "round(accuracy_score(y_credit_teste, previsao_credit), 2)"
   ]
  },
  {
   "cell_type": "code",
   "execution_count": 34,
   "id": "ecf7dcc0-caa9-46e6-9715-deea4ab411e2",
   "metadata": {},
   "outputs": [
    {
     "name": "stdout",
     "output_type": "stream",
     "text": [
      "              precision    recall  f1-score   support\n",
      "\n",
      "           0       1.00      1.00      1.00         6\n",
      "           1       1.00      1.00      1.00        18\n",
      "           2       1.00      1.00      1.00         2\n",
      "\n",
      "    accuracy                           1.00        26\n",
      "   macro avg       1.00      1.00      1.00        26\n",
      "weighted avg       1.00      1.00      1.00        26\n",
      "\n"
     ]
    }
   ],
   "source": [
    "print(classification_report(y_credit_teste, previsao_credit))"
   ]
  },
  {
   "cell_type": "code",
   "execution_count": 6,
   "id": "1a059725-88fb-435c-9f35-82c8f1f3a6fa",
   "metadata": {},
   "outputs": [
    {
     "data": {
      "image/png": "[encoded data removed]",
      "text/plain": [
       "<Figure size 800x550 with 1 Axes>"
      ]
     },
     "metadata": {},
     "output_type": "display_data"
    }
   ],
   "source": [
    "from yellowbrick.classifier import ConfusionMatrix\n",
    "import matplotlib.pyplot as plt\n",
    "\n",
    "# Carregando Label Encoder\n",
    "with open('Pickle/LE_credit.pkl', 'rb') as arquivo:\n",
    "    LE_credit = pickle.load(arquivo)\n",
    "\n",
    "# Separando as classes\n",
    "label = list(LE_credit.classes_)\n",
    "\n",
    "# Criação do visualizer\n",
    "cm = ConfusionMatrix(naive_credit, classes = label)\n",
    "cm.fit(x_credit_treinamento, y_credit_treinamento)\n",
    "cm.score(x_credit_teste, y_credit_teste)\n",
    "\n",
    "# Personalização\n",
    "cm.ax.set_title(\"Matriz de Confusão - Modelo Naive Bayes\")\n",
    "cm.ax.set_xlabel(\"Classe prevista\")\n",
    "cm.ax.set_ylabel(\"Classe real\")\n",
    "\n",
    "# Gráfico\n",
    "plt.tight_layout()\n",
    "plt.savefig('graphics/Matriz-Confusao-NB', dpi = 300, bbox_inches = 'tight')\n",
    "plt.show()"
   ]
  },
  {
   "cell_type": "code",
   "execution_count": 9,
   "id": "0615ed34-1acc-44cb-9a31-650eb3e5ba1e",
   "metadata": {},
   "outputs": [],
   "source": [
    "import pickle\n",
    "with open('Pickle/credit.pkl', mode = 'rb') as f:\n",
    "    x_credit_treinamento, y_credit_treinamento, x_credit_teste, y_credit_teste = pickle.load(f)\n",
    "    \n",
    "import numpy as np"
   ]
  },
  {
   "cell_type": "code",
   "execution_count": 10,
   "id": "e8e547fd-8f85-41d9-b7e3-1c0a122a9e0b",
   "metadata": {},
   "outputs": [
    {
     "data": {
      "text/plain": [
       "array([15, 57,  4], dtype=int64)"
      ]
     },
     "execution_count": 10,
     "metadata": {},
     "output_type": "execute_result"
    }
   ],
   "source": [
    "np.bincount(y_credit_treinamento)"
   ]
  },
  {
   "cell_type": "code",
   "execution_count": 25,
   "id": "5e255ddb-1191-465e-8333-28a8e0ac22a3",
   "metadata": {},
   "outputs": [
    {
     "name": "stdout",
     "output_type": "stream",
     "text": [
      "Desempenho do modelo em 10 divisões: [0.9090909090909091, 1.0, 1.0, 1.0, 1.0, 1.0, 1.0, 1.0, 1.0, 0.9]\n",
      "\n",
      "Média do desempenho do modelo: 0.9809090909090911\n",
      "\n",
      "\n"
     ]
    },
    {
     "name": "stderr",
     "output_type": "stream",
     "text": [
      "C:\\Users\\joaop\\AppData\\Roaming\\Python\\Python38\\site-packages\\sklearn\\model_selection\\_split.py:737: UserWarning: The least populated class in y has only 6 members, which is less than n_splits=10.\n",
      "  warnings.warn(\n"
     ]
    }
   ],
   "source": [
    "# Validação cruzada com 10 divisões diferentes de dados\n",
    "from sklearn.model_selection import cross_val_score\n",
    "\n",
    "scores = cross_val_score(naive_credit, OHE_credit.fit_transform(x_credit), LE_credit.fit_transform(y_credit), cv=10)\n",
    "\n",
    "print(f\"Desempenho do modelo em 10 divisões: {list(scores)}\\n\")\n",
    "print(f\"Média do desempenho do modelo: {scores.mean()}\\n\\n\")"
   ]
  },
  {
   "cell_type": "code",
   "execution_count": 54,
   "id": "0805ba74-216d-4aa1-8107-fdba59a98d3a",
   "metadata": {},
   "outputs": [],
   "source": [
    "# Salvando o modelo Naive Bayes\n",
    "with open('Pickle/modelo_naive_credit.pkl', 'wb') as arquivo:\n",
    "    pickle.dump(naive_credit, arquivo)"
   ]
  },
  {
   "cell_type": "markdown",
   "id": "749b4d2b-99aa-4424-984d-a5bdfd0e915d",
   "metadata": {},
   "source": [
    "### Modelo Random Forest"
   ]
  },
  {
   "cell_type": "code",
   "execution_count": 45,
   "id": "aac94bfd-3583-49bb-bd87-f56fa4d7cff4",
   "metadata": {},
   "outputs": [],
   "source": [
    "from sklearn.ensemble import RandomForestClassifier"
   ]
  },
  {
   "cell_type": "code",
   "execution_count": 46,
   "id": "c4721423-d707-461f-937c-d4b82e97db72",
   "metadata": {},
   "outputs": [
    {
     "data": {
      "text/html": [
       "<style>#sk-container-id-1 {color: black;}#sk-container-id-1 pre{padding: 0;}#sk-container-id-1 div.sk-toggleable {background-color: white;}#sk-container-id-1 label.sk-toggleable__label {cursor: pointer;display: block;width: 100%;margin-bottom: 0;padding: 0.3em;box-sizing: border-box;text-align: center;}#sk-container-id-1 label.sk-toggleable__label-arrow:before {content: \"▸\";float: left;margin-right: 0.25em;color: #696969;}#sk-container-id-1 label.sk-toggleable__label-arrow:hover:before {color: black;}#sk-container-id-1 div.sk-estimator:hover label.sk-toggleable__label-arrow:before {color: black;}#sk-container-id-1 div.sk-toggleable__content {max-height: 0;max-width: 0;overflow: hidden;text-align: left;background-color: #f0f8ff;}#sk-container-id-1 div.sk-toggleable__content pre {margin: 0.2em;color: black;border-radius: 0.25em;background-color: #f0f8ff;}#sk-container-id-1 input.sk-toggleable__control:checked~div.sk-toggleable__content {max-height: 200px;max-width: 100%;overflow: auto;}#sk-container-id-1 input.sk-toggleable__control:checked~label.sk-toggleable__label-arrow:before {content: \"▾\";}#sk-container-id-1 div.sk-estimator input.sk-toggleable__control:checked~label.sk-toggleable__label {background-color: #d4ebff;}#sk-container-id-1 div.sk-label input.sk-toggleable__control:checked~label.sk-toggleable__label {background-color: #d4ebff;}#sk-container-id-1 input.sk-hidden--visually {border: 0;clip: rect(1px 1px 1px 1px);clip: rect(1px, 1px, 1px, 1px);height: 1px;margin: -1px;overflow: hidden;padding: 0;position: absolute;width: 1px;}#sk-container-id-1 div.sk-estimator {font-family: monospace;background-color: #f0f8ff;border: 1px dotted black;border-radius: 0.25em;box-sizing: border-box;margin-bottom: 0.5em;}#sk-container-id-1 div.sk-estimator:hover {background-color: #d4ebff;}#sk-container-id-1 div.sk-parallel-item::after {content: \"\";width: 100%;border-bottom: 1px solid gray;flex-grow: 1;}#sk-container-id-1 div.sk-label:hover label.sk-toggleable__label {background-color: #d4ebff;}#sk-container-id-1 div.sk-serial::before {content: \"\";position: absolute;border-left: 1px solid gray;box-sizing: border-box;top: 0;bottom: 0;left: 50%;z-index: 0;}#sk-container-id-1 div.sk-serial {display: flex;flex-direction: column;align-items: center;background-color: white;padding-right: 0.2em;padding-left: 0.2em;position: relative;}#sk-container-id-1 div.sk-item {position: relative;z-index: 1;}#sk-container-id-1 div.sk-parallel {display: flex;align-items: stretch;justify-content: center;background-color: white;position: relative;}#sk-container-id-1 div.sk-item::before, #sk-container-id-1 div.sk-parallel-item::before {content: \"\";position: absolute;border-left: 1px solid gray;box-sizing: border-box;top: 0;bottom: 0;left: 50%;z-index: -1;}#sk-container-id-1 div.sk-parallel-item {display: flex;flex-direction: column;z-index: 1;position: relative;background-color: white;}#sk-container-id-1 div.sk-parallel-item:first-child::after {align-self: flex-end;width: 50%;}#sk-container-id-1 div.sk-parallel-item:last-child::after {align-self: flex-start;width: 50%;}#sk-container-id-1 div.sk-parallel-item:only-child::after {width: 0;}#sk-container-id-1 div.sk-dashed-wrapped {border: 1px dashed gray;margin: 0 0.4em 0.5em 0.4em;box-sizing: border-box;padding-bottom: 0.4em;background-color: white;}#sk-container-id-1 div.sk-label label {font-family: monospace;font-weight: bold;display: inline-block;line-height: 1.2em;}#sk-container-id-1 div.sk-label-container {text-align: center;}#sk-container-id-1 div.sk-container {/* jupyter's `normalize.less` sets `[hidden] { display: none; }` but bootstrap.min.css set `[hidden] { display: none !important; }` so we also need the `!important` here to be able to override the default hidden behavior on the sphinx rendered scikit-learn.org. See: https://github.com/scikit-learn/scikit-learn/issues/21755 */display: inline-block !important;position: relative;}#sk-container-id-1 div.sk-text-repr-fallback {display: none;}</style><div id=\"sk-container-id-1\" class=\"sk-top-container\"><div class=\"sk-text-repr-fallback\"><pre>RandomForestClassifier(criterion=&#x27;entropy&#x27;, n_estimators=40, random_state=0)</pre><b>In a Jupyter environment, please rerun this cell to show the HTML representation or trust the notebook. <br />On GitHub, the HTML representation is unable to render, please try loading this page with nbviewer.org.</b></div><div class=\"sk-container\" hidden><div class=\"sk-item\"><div class=\"sk-estimator sk-toggleable\"><input class=\"sk-toggleable__control sk-hidden--visually\" id=\"sk-estimator-id-1\" type=\"checkbox\" checked><label for=\"sk-estimator-id-1\" class=\"sk-toggleable__label sk-toggleable__label-arrow\">RandomForestClassifier</label><div class=\"sk-toggleable__content\"><pre>RandomForestClassifier(criterion=&#x27;entropy&#x27;, n_estimators=40, random_state=0)</pre></div></div></div></div></div>"
      ],
      "text/plain": [
       "RandomForestClassifier(criterion='entropy', n_estimators=40, random_state=0)"
      ]
     },
     "execution_count": 46,
     "metadata": {},
     "output_type": "execute_result"
    }
   ],
   "source": [
    "arvore_credit = RandomForestClassifier(n_estimators = 40, criterion = 'entropy', random_state = 0)\n",
    "arvore_credit.fit(x_credit_treinamento, y_credit_treinamento)"
   ]
  },
  {
   "cell_type": "code",
   "execution_count": 27,
   "id": "abaf9541-f40f-46f6-842a-bff259b9e8ef",
   "metadata": {},
   "outputs": [],
   "source": [
    "previsao_credit = arvore_credit.predict(x_credit_teste)"
   ]
  },
  {
   "cell_type": "code",
   "execution_count": 28,
   "id": "953a64b5-559b-4dac-bb66-af98763f5714",
   "metadata": {},
   "outputs": [
    {
     "data": {
      "text/plain": [
       "array([1, 1, 1, 1, 1, 1, 1, 1, 0, 0, 2, 1, 1, 0, 0, 1, 1, 2, 1, 1, 1, 1,\n",
       "       1, 0, 1, 0])"
      ]
     },
     "execution_count": 28,
     "metadata": {},
     "output_type": "execute_result"
    }
   ],
   "source": [
    "previsao_credit"
   ]
  },
  {
   "cell_type": "code",
   "execution_count": 30,
   "id": "ca360d40-992c-4f1c-b36e-850322b18f22",
   "metadata": {},
   "outputs": [
    {
     "data": {
      "text/plain": [
       "1.0"
      ]
     },
     "execution_count": 30,
     "metadata": {},
     "output_type": "execute_result"
    }
   ],
   "source": [
    "arvore_credit.score(x_credit_teste, y_credit_teste)"
   ]
  },
  {
   "cell_type": "code",
   "execution_count": 49,
   "id": "43270b89-1cda-4b0d-91f4-4ccdc73edf1a",
   "metadata": {},
   "outputs": [
    {
     "data": {
      "text/plain": [
       "1.0"
      ]
     },
     "execution_count": 49,
     "metadata": {},
     "output_type": "execute_result"
    }
   ],
   "source": [
    "round(accuracy_score(y_credit_teste, previsao_credit), 2)"
   ]
  },
  {
   "cell_type": "code",
   "execution_count": 50,
   "id": "399974b0-82e4-4aae-b00b-11a5c1b8f349",
   "metadata": {},
   "outputs": [
    {
     "name": "stdout",
     "output_type": "stream",
     "text": [
      "              precision    recall  f1-score   support\n",
      "\n",
      "           0       1.00      1.00      1.00         6\n",
      "           1       1.00      1.00      1.00        18\n",
      "           2       1.00      1.00      1.00         2\n",
      "\n",
      "    accuracy                           1.00        26\n",
      "   macro avg       1.00      1.00      1.00        26\n",
      "weighted avg       1.00      1.00      1.00        26\n",
      "\n"
     ]
    }
   ],
   "source": [
    "print(classification_report(y_credit_teste, previsao_credit))"
   ]
  },
  {
   "cell_type": "code",
   "execution_count": 4,
   "id": "ed487b4f-62a4-4048-954d-9ec6b50b904f",
   "metadata": {},
   "outputs": [
    {
     "data": {
      "image/png": "[encoded data removed]",
      "text/plain": [
       "<Figure size 800x550 with 1 Axes>"
      ]
     },
     "metadata": {},
     "output_type": "display_data"
    }
   ],
   "source": [
    "from yellowbrick.classifier import ConfusionMatrix\n",
    "import matplotlib.pyplot as plt\n",
    "\n",
    "# Carregando Label Encoder\n",
    "with open('Pickle/LE_credit.pkl', 'rb') as arquivo:\n",
    "    LE_credit = pickle.load(arquivo)\n",
    "\n",
    "# Separando as classes\n",
    "label = list(LE_credit.classes_)\n",
    "\n",
    "# Criação do visualizer\n",
    "cm = ConfusionMatrix(arvore_credit, classes = label, cmap='Blues')\n",
    "cm.fit(x_credit_treinamento, y_credit_treinamento)\n",
    "cm.score(x_credit_teste, y_credit_teste)\n",
    "\n",
    "# Personalização\n",
    "cm.ax.set_title(\"Matriz de Confusão - Modelo Random Forest\")\n",
    "cm.ax.set_xlabel(\"Classe prevista\")\n",
    "cm.ax.set_ylabel(\"Classe real\")\n",
    "\n",
    "# Gráfico\n",
    "plt.tight_layout()\n",
    "plt.savefig('graphics/Matriz-Confusao-RF', dpi = 300, bbox_inches = 'tight')\n",
    "plt.show()"
   ]
  },
  {
   "cell_type": "code",
   "execution_count": 53,
   "id": "4b61e109-15e0-41c4-bbda-646b6356b9f1",
   "metadata": {},
   "outputs": [
    {
     "name": "stderr",
     "output_type": "stream",
     "text": [
      "C:\\Users\\joaop\\AppData\\Roaming\\Python\\Python38\\site-packages\\sklearn\\model_selection\\_split.py:737: UserWarning: The least populated class in y has only 6 members, which is less than n_splits=10.\n",
      "  warnings.warn(\n"
     ]
    },
    {
     "name": "stdout",
     "output_type": "stream",
     "text": [
      "Desempenho do modelo em 10 divisões: [0.9090909090909091, 1.0, 1.0, 1.0, 1.0, 1.0, 1.0, 1.0, 1.0, 0.5]\n",
      "\n",
      "Média do desempenho do modelo: 0.940909090909091\n",
      "\n",
      "\n"
     ]
    }
   ],
   "source": [
    "from sklearn.model_selection import cross_val_score\n",
    "\n",
    "scores = cross_val_score(arvore_credit, OHE_credit.fit_transform(x_credit), LE_credit.fit_transform(y_credit), cv=10)\n",
    "\n",
    "print(f\"Desempenho do modelo em 10 divisões: {list(scores)}\\n\")\n",
    "print(f\"Média do desempenho do modelo: {scores.mean()}\\n\\n\")"
   ]
  },
  {
   "cell_type": "code",
   "execution_count": 52,
   "id": "1a3a934a-16df-4402-844b-531725467c6c",
   "metadata": {},
   "outputs": [],
   "source": [
    "# Salvando o modelo\n",
    "with open('Pickle/modelo_arvore_credit.pkl', 'wb') as arquivo:\n",
    "    pickle.dump(arvore_credit, arquivo)"
   ]
  },
  {
   "cell_type": "markdown",
   "id": "fe1e2331-5f89-4b01-bee0-2685cc78af19",
   "metadata": {},
   "source": [
    "## Próximos passos\n",
    "\n",
    "Plotar a importância das features (por exemplo: idade, escolaridade, etc.).\n",
    "\n",
    "Criar visualizações para responder as perguntas preditivas.\n",
    "\n",
    "Testar o modelo com perfis simulados, como você propôs:\n",
    "\n",
    ". Mulher jovem com ensino superior e renda média.\n",
    "\n",
    ". Homem mais velho com ensino médio e renda alta."
   ]
  },
  {
   "cell_type": "markdown",
   "id": "406cda64-ce61-4d35-95e2-a9f83166c651",
   "metadata": {},
   "source": [
    "### Analisando a importância das features"
   ]
  },
  {
   "cell_type": "code",
   "execution_count": 3,
   "id": "54a410fe-5771-4262-8fb5-3c23e9472433",
   "metadata": {},
   "outputs": [],
   "source": [
    "# Carregando os modelos\n",
    "import pickle\n",
    "with open('Pickle/modelo_arvore_credit.pkl', 'rb') as arquivo:\n",
    "    arvore_credit = pickle.load(arquivo)\n",
    "\n",
    "with open('Pickle/modelo_naive_credit.pkl', 'rb') as arquivo:\n",
    "    naive_credit = pickle.load(arquivo)\n",
    "\n",
    "with open('Pickle/credit.pkl', mode = 'rb') as f:\n",
    "    x_credit_treinamento, y_credit_treinamento, x_credit_teste, y_credit_teste = pickle.load(f)\n",
    "\n",
    "with open('Pickle/OHE_credit.pkl', 'rb') as arquivo:\n",
    "    OHE_credit = pickle.load(arquivo)"
   ]
  },
  {
   "cell_type": "code",
   "execution_count": 21,
   "id": "1732bd51-a714-41ed-b5f1-3de39accf1a5",
   "metadata": {},
   "outputs": [
    {
     "data": {
      "text/plain": [
       "array([1, 1, 1, 1, 1, 1, 1, 1, 0, 0, 2, 1, 1, 0, 0, 1, 1, 2, 1, 1, 1, 1,\n",
       "       1, 0, 1, 0])"
      ]
     },
     "execution_count": 21,
     "metadata": {},
     "output_type": "execute_result"
    }
   ],
   "source": [
    "previsao_arvore_credit = arvore_credit.predict(x_credit_teste)\n",
    "previsao_arvore_credit"
   ]
  },
  {
   "cell_type": "code",
   "execution_count": 22,
   "id": "a8dca85b-0c43-4279-840c-5de9eed24ad8",
   "metadata": {},
   "outputs": [
    {
     "data": {
      "text/plain": [
       "array([1, 1, 1, 1, 1, 1, 1, 1, 0, 0, 2, 1, 1, 0, 0, 1, 1, 2, 1, 1, 1, 1,\n",
       "       1, 0, 1, 0])"
      ]
     },
     "execution_count": 22,
     "metadata": {},
     "output_type": "execute_result"
    }
   ],
   "source": [
    "previsao_naive_credit = naive_credit.predict(x_credit_teste)\n",
    "previsao_naive_credit"
   ]
  },
  {
   "cell_type": "code",
   "execution_count": 25,
   "id": "de5f8601-f990-4bcf-8535-56564c09925d",
   "metadata": {},
   "outputs": [
    {
     "data": {
      "text/plain": [
       "array([0.02701812, 0.0120358 , 0.029991  , 0.02448702, 0.01432586,\n",
       "       0.02065534, 0.00714081, 0.01836131, 0.03511193, 0.09428693,\n",
       "       0.10780344, 0.28404327, 0.31120847, 0.01353071])"
      ]
     },
     "execution_count": 25,
     "metadata": {},
     "output_type": "execute_result"
    }
   ],
   "source": [
    "arvore_credit.feature_importances_"
   ]
  },
  {
   "cell_type": "code",
   "execution_count": 26,
   "id": "d988c2ff-7240-4a9c-bc06-33ad4afaaca4",
   "metadata": {},
   "outputs": [],
   "source": [
    "# Importancia de cada coluna das features(x)\n",
    "importances_arvore = arvore_credit.feature_importances_"
   ]
  },
  {
   "cell_type": "markdown",
   "id": "c639fbb3-2512-41fb-96e9-8b89fc0b9832",
   "metadata": {},
   "source": [
    "Agora é preciso acessar o nome das colunas após o pré-processamento(One Hot Encoder) para analisar a importancia de cada uma."
   ]
  },
  {
   "cell_type": "code",
   "execution_count": 27,
   "id": "7a743b4a-8c3e-402e-95b0-5809278b4dd2",
   "metadata": {},
   "outputs": [],
   "source": [
    "# Pega todos os nomes das colunas one-hot codificadas\n",
    "ohe = OHE_credit.named_transformers_['OneHot']\n",
    "ohe_feature_names = ohe.get_feature_names_out(['Gender', 'Education', 'Marital Status', 'Home Ownership'])"
   ]
  },
  {
   "cell_type": "markdown",
   "id": "f9900455-f205-4c32-8310-349a8b6c3e58",
   "metadata": {},
   "source": [
    "O One Hot Encoder foi usado para transformar os dados categóricos, mas os dados numéricos como \"Age\", \"Number of Children\"..., não foram transformadas, mas sim mantidas com o parâmetro remainder='passthrough'.\n",
    "\n",
    "E como o nome das colunas não ficam evidentes entre os dados categóricos transformados e os dados numéricos, é preciso juntar essas colunas em uma só."
   ]
  },
  {
   "cell_type": "code",
   "execution_count": 28,
   "id": "b4f13203-28f4-4107-8ede-b5609034849d",
   "metadata": {},
   "outputs": [],
   "source": [
    "# Junta com as colunas numéricas que não foram transformadas\n",
    "final_feature_names = list(ohe_feature_names) + ['Age', 'Income', 'Number of Children']"
   ]
  },
  {
   "cell_type": "markdown",
   "id": "e56a5ff5-5316-425a-8980-53a5fedf6f73",
   "metadata": {},
   "source": [
    "Após a junção dessas colunas, é preciso criar um Data frame com o nome das features e a importancia das features, para que possam ser analisados em grafico"
   ]
  },
  {
   "cell_type": "code",
   "execution_count": 29,
   "id": "6bb55b4c-272f-4d11-bbd2-1375009591c1",
   "metadata": {},
   "outputs": [
    {
     "data": {
      "text/html": [
       "<div>\n",
       "<style scoped>\n",
       "    .dataframe tbody tr th:only-of-type {\n",
       "        vertical-align: middle;\n",
       "    }\n",
       "\n",
       "    .dataframe tbody tr th {\n",
       "        vertical-align: top;\n",
       "    }\n",
       "\n",
       "    .dataframe thead th {\n",
       "        text-align: right;\n",
       "    }\n",
       "</style>\n",
       "<table border=\"1\" class=\"dataframe\">\n",
       "  <thead>\n",
       "    <tr style=\"text-align: right;\">\n",
       "      <th></th>\n",
       "      <th>Features</th>\n",
       "      <th>Importances</th>\n",
       "    </tr>\n",
       "  </thead>\n",
       "  <tbody>\n",
       "    <tr>\n",
       "      <th>12</th>\n",
       "      <td>Income</td>\n",
       "      <td>0.311208</td>\n",
       "    </tr>\n",
       "    <tr>\n",
       "      <th>11</th>\n",
       "      <td>Age</td>\n",
       "      <td>0.284043</td>\n",
       "    </tr>\n",
       "    <tr>\n",
       "      <th>10</th>\n",
       "      <td>Home Ownership_Rented</td>\n",
       "      <td>0.107803</td>\n",
       "    </tr>\n",
       "    <tr>\n",
       "      <th>9</th>\n",
       "      <td>Home Ownership_Owned</td>\n",
       "      <td>0.094287</td>\n",
       "    </tr>\n",
       "    <tr>\n",
       "      <th>8</th>\n",
       "      <td>Marital Status_Single</td>\n",
       "      <td>0.035112</td>\n",
       "    </tr>\n",
       "    <tr>\n",
       "      <th>2</th>\n",
       "      <td>Education_Associate's Degree</td>\n",
       "      <td>0.029991</td>\n",
       "    </tr>\n",
       "    <tr>\n",
       "      <th>0</th>\n",
       "      <td>Gender_Female</td>\n",
       "      <td>0.027018</td>\n",
       "    </tr>\n",
       "    <tr>\n",
       "      <th>3</th>\n",
       "      <td>Education_Bachelor's Degree</td>\n",
       "      <td>0.024487</td>\n",
       "    </tr>\n",
       "    <tr>\n",
       "      <th>5</th>\n",
       "      <td>Education_High School Diploma</td>\n",
       "      <td>0.020655</td>\n",
       "    </tr>\n",
       "    <tr>\n",
       "      <th>7</th>\n",
       "      <td>Marital Status_Married</td>\n",
       "      <td>0.018361</td>\n",
       "    </tr>\n",
       "    <tr>\n",
       "      <th>4</th>\n",
       "      <td>Education_Doctorate</td>\n",
       "      <td>0.014326</td>\n",
       "    </tr>\n",
       "    <tr>\n",
       "      <th>13</th>\n",
       "      <td>Number of Children</td>\n",
       "      <td>0.013531</td>\n",
       "    </tr>\n",
       "    <tr>\n",
       "      <th>1</th>\n",
       "      <td>Gender_Male</td>\n",
       "      <td>0.012036</td>\n",
       "    </tr>\n",
       "    <tr>\n",
       "      <th>6</th>\n",
       "      <td>Education_Master's Degree</td>\n",
       "      <td>0.007141</td>\n",
       "    </tr>\n",
       "  </tbody>\n",
       "</table>\n",
       "</div>"
      ],
      "text/plain": [
       "                         Features  Importances\n",
       "12                         Income     0.311208\n",
       "11                            Age     0.284043\n",
       "10          Home Ownership_Rented     0.107803\n",
       "9            Home Ownership_Owned     0.094287\n",
       "8           Marital Status_Single     0.035112\n",
       "2    Education_Associate's Degree     0.029991\n",
       "0                   Gender_Female     0.027018\n",
       "3     Education_Bachelor's Degree     0.024487\n",
       "5   Education_High School Diploma     0.020655\n",
       "7          Marital Status_Married     0.018361\n",
       "4             Education_Doctorate     0.014326\n",
       "13             Number of Children     0.013531\n",
       "1                     Gender_Male     0.012036\n",
       "6       Education_Master's Degree     0.007141"
      ]
     },
     "execution_count": 29,
     "metadata": {},
     "output_type": "execute_result"
    }
   ],
   "source": [
    "# Criação do data frame para análise da importância das features\n",
    "df_importances = pd.DataFrame({\n",
    "    'Features': final_feature_names,\n",
    "    'Importances': importances_arvore\n",
    "})\n",
    "\n",
    "# Ordenando os mais importante para os menos\n",
    "df_importances.sort_values(by = 'Importances', ascending = False)"
   ]
  },
  {
   "cell_type": "code",
   "execution_count": 33,
   "id": "0a3e6c91-0191-4013-82c9-1750ea2d7ec5",
   "metadata": {},
   "outputs": [],
   "source": [
    "# Importação das features do modelo Naive Bayes\n",
    "from sklearn.inspection import permutation_importance\n",
    "\n",
    "# Calcular importância por permutação\n",
    "resultado = permutation_importance(\n",
    "    naive_credit, x_credit_teste, y_credit_teste, n_repeats=10, random_state=0\n",
    ")\n",
    "\n",
    "# Criar DataFrame\n",
    "df_perm_importance = pd.DataFrame({\n",
    "    'Features': final_feature_names,\n",
    "    'Importances': resultado.importances_mean\n",
    "}).sort_values(by='Importances', ascending=False)"
   ]
  },
  {
   "cell_type": "code",
   "execution_count": 30,
   "id": "7d21e84d-ce63-4204-b65a-e187f9a6942f",
   "metadata": {},
   "outputs": [],
   "source": [
    "import seaborn as sns\n",
    "import matplotlib.pyplot as plt"
   ]
  },
  {
   "cell_type": "code",
   "execution_count": 31,
   "id": "f097b7d3-ac6b-4cff-884f-8af08f33e087",
   "metadata": {},
   "outputs": [
    {
     "data": {
      "image/png": "[encoded data removed]",
      "text/plain": [
       "<Figure size 1000x600 with 1 Axes>"
      ]
     },
     "metadata": {},
     "output_type": "display_data"
    }
   ],
   "source": [
    "# Importância das features (Modelo Random Forest)\n",
    "plt.figure(figsize=(10, 6))\n",
    "\n",
    "sns.barplot(data = df_importances, x = df_importances['Importances'], y = df_importances['Features']).set(title = 'Importância das features (Modelo Random Forest)')\n",
    "\n",
    "plt.grid(True)\n",
    "\n",
    "plt.savefig('graphics/importância-das-features-RF.png', dpi = 300, bbox_inches = 'tight')"
   ]
  },
  {
   "cell_type": "code",
   "execution_count": 35,
   "id": "6e7f53ad-dd73-4dec-9227-6fcb74724dde",
   "metadata": {},
   "outputs": [
    {
     "data": {
      "image/png": "[encoded data removed]",
      "text/plain": [
       "<Figure size 1000x600 with 1 Axes>"
      ]
     },
     "metadata": {},
     "output_type": "display_data"
    }
   ],
   "source": [
    "# Importância das features (Modelo Naive Bayes)\n",
    "plt.figure(figsize=(10, 6))\n",
    "\n",
    "sns.barplot(data = df_perm_importance, x = df_perm_importance['Importances'], y = df_importances['Features']).set(title = 'Importância das features (Modelo Naive Bayes)')\n",
    "\n",
    "plt.grid(True)\n",
    "\n",
    "plt.savefig('graphics/importância-das-features-NB.png', dpi = 300, bbox_inches = 'tight')"
   ]
  },
  {
   "cell_type": "markdown",
   "id": "fbc1267c-d946-421c-a9af-e847e597b0ba",
   "metadata": {},
   "source": [
    "## Respondendo primeira pergunta\n",
    "1. \"Com base em dados como idade, renda, escolaridade e outros fatores, é possível prever a classificação do crédito de uma pessoa?\"\n",
    "\n",
    "Para responder essa pergunta, será feita uma simulação de um novo registro, com os dados necessários para fazer a previsão."
   ]
  },
  {
   "cell_type": "code",
   "execution_count": 12,
   "id": "2be8645c-bcb9-4a26-87fa-888a130e5ce1",
   "metadata": {},
   "outputs": [
    {
     "data": {
      "text/html": [
       "<div>\n",
       "<style scoped>\n",
       "    .dataframe tbody tr th:only-of-type {\n",
       "        vertical-align: middle;\n",
       "    }\n",
       "\n",
       "    .dataframe tbody tr th {\n",
       "        vertical-align: top;\n",
       "    }\n",
       "\n",
       "    .dataframe thead th {\n",
       "        text-align: right;\n",
       "    }\n",
       "</style>\n",
       "<table border=\"1\" class=\"dataframe\">\n",
       "  <thead>\n",
       "    <tr style=\"text-align: right;\">\n",
       "      <th></th>\n",
       "      <th>Age</th>\n",
       "      <th>Gender</th>\n",
       "      <th>Income</th>\n",
       "      <th>Education</th>\n",
       "      <th>Marital Status</th>\n",
       "      <th>Number of Children</th>\n",
       "      <th>Home Ownership</th>\n",
       "      <th>Credit Score</th>\n",
       "    </tr>\n",
       "  </thead>\n",
       "  <tbody>\n",
       "    <tr>\n",
       "      <th>0</th>\n",
       "      <td>25</td>\n",
       "      <td>Female</td>\n",
       "      <td>50000</td>\n",
       "      <td>Bachelor's Degree</td>\n",
       "      <td>Single</td>\n",
       "      <td>0</td>\n",
       "      <td>Rented</td>\n",
       "      <td>High</td>\n",
       "    </tr>\n",
       "    <tr>\n",
       "      <th>1</th>\n",
       "      <td>30</td>\n",
       "      <td>Male</td>\n",
       "      <td>100000</td>\n",
       "      <td>Master's Degree</td>\n",
       "      <td>Married</td>\n",
       "      <td>2</td>\n",
       "      <td>Owned</td>\n",
       "      <td>High</td>\n",
       "    </tr>\n",
       "    <tr>\n",
       "      <th>2</th>\n",
       "      <td>35</td>\n",
       "      <td>Female</td>\n",
       "      <td>75000</td>\n",
       "      <td>Doctorate</td>\n",
       "      <td>Married</td>\n",
       "      <td>1</td>\n",
       "      <td>Owned</td>\n",
       "      <td>High</td>\n",
       "    </tr>\n",
       "    <tr>\n",
       "      <th>3</th>\n",
       "      <td>40</td>\n",
       "      <td>Male</td>\n",
       "      <td>125000</td>\n",
       "      <td>High School Diploma</td>\n",
       "      <td>Single</td>\n",
       "      <td>0</td>\n",
       "      <td>Owned</td>\n",
       "      <td>High</td>\n",
       "    </tr>\n",
       "    <tr>\n",
       "      <th>4</th>\n",
       "      <td>45</td>\n",
       "      <td>Female</td>\n",
       "      <td>100000</td>\n",
       "      <td>Bachelor's Degree</td>\n",
       "      <td>Married</td>\n",
       "      <td>3</td>\n",
       "      <td>Owned</td>\n",
       "      <td>High</td>\n",
       "    </tr>\n",
       "  </tbody>\n",
       "</table>\n",
       "</div>"
      ],
      "text/plain": [
       "   Age  Gender  Income            Education Marital Status  \\\n",
       "0   25  Female   50000    Bachelor's Degree         Single   \n",
       "1   30    Male  100000      Master's Degree        Married   \n",
       "2   35  Female   75000            Doctorate        Married   \n",
       "3   40    Male  125000  High School Diploma         Single   \n",
       "4   45  Female  100000    Bachelor's Degree        Married   \n",
       "\n",
       "   Number of Children Home Ownership Credit Score  \n",
       "0                   0         Rented         High  \n",
       "1                   2          Owned         High  \n",
       "2                   1          Owned         High  \n",
       "3                   0          Owned         High  \n",
       "4                   3          Owned         High  "
      ]
     },
     "execution_count": 12,
     "metadata": {},
     "output_type": "execute_result"
    }
   ],
   "source": [
    "df.head()"
   ]
  },
  {
   "cell_type": "code",
   "execution_count": 13,
   "id": "322c1f5b-62a0-40ff-8c76-a4c25c1ceea7",
   "metadata": {},
   "outputs": [
    {
     "data": {
      "text/html": [
       "<div>\n",
       "<style scoped>\n",
       "    .dataframe tbody tr th:only-of-type {\n",
       "        vertical-align: middle;\n",
       "    }\n",
       "\n",
       "    .dataframe tbody tr th {\n",
       "        vertical-align: top;\n",
       "    }\n",
       "\n",
       "    .dataframe thead th {\n",
       "        text-align: right;\n",
       "    }\n",
       "</style>\n",
       "<table border=\"1\" class=\"dataframe\">\n",
       "  <thead>\n",
       "    <tr style=\"text-align: right;\">\n",
       "      <th></th>\n",
       "      <th>Age</th>\n",
       "      <th>Gender</th>\n",
       "      <th>Income</th>\n",
       "      <th>Education</th>\n",
       "      <th>Marital Status</th>\n",
       "      <th>Number of Children</th>\n",
       "      <th>Home Ownership</th>\n",
       "    </tr>\n",
       "  </thead>\n",
       "  <tbody>\n",
       "    <tr>\n",
       "      <th>0</th>\n",
       "      <td>30</td>\n",
       "      <td>Male</td>\n",
       "      <td>5000</td>\n",
       "      <td>Bachelor's Degree</td>\n",
       "      <td>Single</td>\n",
       "      <td>0</td>\n",
       "      <td>Rented</td>\n",
       "    </tr>\n",
       "  </tbody>\n",
       "</table>\n",
       "</div>"
      ],
      "text/plain": [
       "   Age Gender  Income          Education Marital Status  Number of Children  \\\n",
       "0   30   Male    5000  Bachelor's Degree         Single                   0   \n",
       "\n",
       "  Home Ownership  \n",
       "0         Rented  "
      ]
     },
     "execution_count": 13,
     "metadata": {},
     "output_type": "execute_result"
    }
   ],
   "source": [
    "# Simulação de um novo registro\n",
    "pessoa1 = pd.DataFrame([{\n",
    "    \"Age\": 30,\n",
    "    \"Gender\": \"Male\",\n",
    "    \"Income\": 5000,\n",
    "    \"Education\": \"Bachelor's Degree\",\n",
    "    \"Marital Status\": \"Single\",\n",
    "    \"Number of Children\": 0,\n",
    "    \"Home Ownership\": \"Rented\",\n",
    "}])\n",
    "pessoa1"
   ]
  },
  {
   "cell_type": "markdown",
   "id": "b6c7413c-83c5-48c2-8711-33c96ec513e6",
   "metadata": {},
   "source": [
    "Assim como no modelo, é preciso fazer o pré-processamento desses dados para que o modelo possa reconhecer"
   ]
  },
  {
   "cell_type": "code",
   "execution_count": 22,
   "id": "26a254d4-9420-462a-89fb-123699fc551c",
   "metadata": {},
   "outputs": [],
   "source": [
    "# Carregando o encoder e o scaler\n",
    "import pickle\n",
    "with open('Pickle/OHE_credit.pkl', 'rb') as arquivo:\n",
    "    OHE_credit = pickle.load(arquivo)\n",
    "\n",
    "with open('Pickle/LE_credit.pkl', 'rb') as arquivo:\n",
    "    LE_credit = pickle.load(arquivo)"
   ]
  },
  {
   "cell_type": "code",
   "execution_count": 15,
   "id": "91c1fa65-a42d-492c-aade-80959490855e",
   "metadata": {},
   "outputs": [],
   "source": [
    "with open('Pickle/scaler_credit.pkl', 'rb') as arquivo:\n",
    "    scaler_credit = pickle.load(arquivo)"
   ]
  },
  {
   "cell_type": "markdown",
   "id": "4cbf4814-21cd-4555-bd6b-ee3c6545e0d6",
   "metadata": {},
   "source": [
    "OBS: Para os novos dados que serão usados para previsão, não deve-se usar o \"fit_transform\" como no treinamento para o pré-processamento, mas sim o \"transform\""
   ]
  },
  {
   "cell_type": "code",
   "execution_count": 16,
   "id": "cc7115bb-22a6-4936-96ed-d3f443a404d5",
   "metadata": {},
   "outputs": [
    {
     "data": {
      "text/plain": [
       "array([[-1.        ,  1.        , -0.41137668,  1.67332005, -0.51639778,\n",
       "        -0.4330127 , -0.53678263, -1.11143786,  1.11143786, -1.61834719,\n",
       "         1.61834719, -1.03804622, -2.6716938 , -0.68350674]])"
      ]
     },
     "execution_count": 16,
     "metadata": {},
     "output_type": "execute_result"
    }
   ],
   "source": [
    "# Fazendo o pré-processamento\n",
    "pessoa1 = OHE_credit.transform(pessoa1)\n",
    "pessoa1 = scaler_credit.transform(pessoa1)\n",
    "pessoa1"
   ]
  },
  {
   "cell_type": "markdown",
   "id": "7ac1d6f3-8a26-4fc9-a31c-9b007327fbd1",
   "metadata": {},
   "source": [
    "Agora que o registro foi pré-processado, já é possível realizar a previsão com os modelos"
   ]
  },
  {
   "cell_type": "code",
   "execution_count": 17,
   "id": "e16409b6-1f5d-4948-ace4-86356ea71678",
   "metadata": {},
   "outputs": [],
   "source": [
    "# Carregando o modelo\n",
    "with open('Pickle/modelo_arvore_credit.pkl', 'rb') as arquivo:\n",
    "    arvore_credit = pickle.load(arquivo)\n",
    "\n",
    "with open('Pickle/modelo_naive_credit.pkl', 'rb') as arquivo:\n",
    "    naive_credit = pickle.load(arquivo)"
   ]
  },
  {
   "cell_type": "code",
   "execution_count": 19,
   "id": "6467e57c-a5d5-4e7f-bf6d-d9188dd33d77",
   "metadata": {},
   "outputs": [
    {
     "data": {
      "text/plain": [
       "array([0])"
      ]
     },
     "execution_count": 19,
     "metadata": {},
     "output_type": "execute_result"
    }
   ],
   "source": [
    "# Previsão Random Forest\n",
    "previsao_arvore = arvore_credit.predict(pessoa1)\n",
    "previsao_arvore"
   ]
  },
  {
   "cell_type": "code",
   "execution_count": 20,
   "id": "52dc54ed-9d0f-4734-93d6-6a8c1fe64813",
   "metadata": {},
   "outputs": [
    {
     "data": {
      "text/plain": [
       "array([0])"
      ]
     },
     "execution_count": 20,
     "metadata": {},
     "output_type": "execute_result"
    }
   ],
   "source": [
    "# Previsão Naive Bayes\n",
    "previsao_naive = naive_credit.predict(pessoa1)\n",
    "previsao_naive"
   ]
  },
  {
   "cell_type": "code",
   "execution_count": 23,
   "id": "9724bdc3-543c-48c4-95d4-278775513e4f",
   "metadata": {},
   "outputs": [
    {
     "name": "stdout",
     "output_type": "stream",
     "text": [
      "['Average' 'High' 'Low']\n"
     ]
    }
   ],
   "source": [
    "print(LE_credit.classes_)"
   ]
  },
  {
   "cell_type": "code",
   "execution_count": 24,
   "id": "aa87df83-f9c8-40f4-a75e-6f49f6023676",
   "metadata": {},
   "outputs": [
    {
     "name": "stdout",
     "output_type": "stream",
     "text": [
      "0 → Average\n",
      "1 → High\n",
      "2 → Low\n"
     ]
    }
   ],
   "source": [
    "for codigo, classe in enumerate(LE_credit.classes_):\n",
    "    print(f\"{codigo} → {classe}\")"
   ]
  },
  {
   "cell_type": "markdown",
   "id": "f75c42e5-efb6-493a-969e-34908a64160b",
   "metadata": {},
   "source": [
    "Como é possível ver, a previsão da pessoa1 classificou o crédito com 0, ou seja, chance média ou 'Average', mas para melhorar a resposta é preciso decodificar o Label Encoder com 'inverse_transform'"
   ]
  },
  {
   "cell_type": "code",
   "execution_count": 25,
   "id": "a7087694-40fd-4e53-90bd-261dde367bf1",
   "metadata": {},
   "outputs": [],
   "source": [
    "# Decodificando os rótulos do Label Encoder\n",
    "resultado_arvore = LE_credit.inverse_transform(previsao_arvore)\n",
    "resultado_naive = LE_credit.inverse_transform(previsao_naive)"
   ]
  },
  {
   "cell_type": "code",
   "execution_count": 116,
   "id": "77f4e363-ea19-4210-8ecb-41e0d461ba19",
   "metadata": {},
   "outputs": [
    {
     "name": "stdout",
     "output_type": "stream",
     "text": [
      "Classificação de crédito prevista da pessoa 1: Average\n"
     ]
    }
   ],
   "source": [
    "print(f\"Classificação de crédito prevista da pessoa 1(Random Forest): {resultado_arvore[0]}\")\n",
    "print(f\"Classificação de crédito prevista da pessoa 1(Naive Bayes): {resultado_arvore[0]}\")"
   ]
  },
  {
   "cell_type": "markdown",
   "id": "8de7436f-591f-4ad6-b14d-7ad50b86b4af",
   "metadata": {},
   "source": [
    "### Respondendo a primeira pergunta\n",
    "Sim, como é possível ver, tanto o modelo Random Forest quanto o modelo Naive Bayes conseguiram prever a classificação do crédito de uma pessoa, resultando na mesma resposta, ou seja, \"Avarage\" ou classificação média, com uma acurácia de 100% em ambos os modelos."
   ]
  },
  {
   "cell_type": "markdown",
   "id": "706f792f-9f18-44ae-9fc0-4b8fbb406948",
   "metadata": {},
   "source": [
    "## Segunda pergunta\n",
    "2. \"Pessoas casadas têm mais chances de ter crédito alto do que pessoas solteiras?\"\n",
    "\n",
    "Para verificar essa informação, é preciso simular duas pessoas que tem condições iguais, como idade, salário e etc. Mas com a diferença de que a primeira pessoa será solteira e a outra será casada, para verificar se isso irá alterar as classificações"
   ]
  },
  {
   "cell_type": "code",
   "execution_count": 26,
   "id": "1227dce2-d5ef-4411-94f5-c18c1a2cf33d",
   "metadata": {},
   "outputs": [],
   "source": [
    "# Pessoa solteira\n",
    "solteiro = pd.DataFrame([{\n",
    "    \"Age\": 30,\n",
    "    \"Gender\": \"Male\",\n",
    "    \"Income\": 5000,\n",
    "    \"Education\": \"Bachelor's Degree\",\n",
    "    \"Marital Status\": \"Single\",\n",
    "    \"Number of Children\": 0,\n",
    "    \"Home Ownership\": \"Rented\",\n",
    "}])\n",
    "\n",
    "# Pessoa casada\n",
    "casado = pd.DataFrame([{\n",
    "    \"Age\": 30,\n",
    "    \"Gender\": \"Male\",\n",
    "    \"Income\": 5000,\n",
    "    \"Education\": \"Bachelor's Degree\",\n",
    "    \"Marital Status\": \"Married\",\n",
    "    \"Number of Children\": 0,\n",
    "    \"Home Ownership\": \"Rented\",\n",
    "}])"
   ]
  },
  {
   "cell_type": "code",
   "execution_count": 27,
   "id": "bf13095c-98a2-41a8-bc3f-0b9290a6fd62",
   "metadata": {},
   "outputs": [
    {
     "data": {
      "text/plain": [
       "array([[-1.        ,  1.        , -0.41137668,  1.67332005, -0.51639778,\n",
       "        -0.4330127 , -0.53678263, -1.11143786,  1.11143786, -1.61834719,\n",
       "         1.61834719, -1.03804622, -2.6716938 , -0.68350674]])"
      ]
     },
     "execution_count": 27,
     "metadata": {},
     "output_type": "execute_result"
    }
   ],
   "source": [
    "# Pré-processamento dos dados\n",
    "solteiro = OHE_credit.transform(solteiro)\n",
    "solteiro = scaler_credit.transform(solteiro)\n",
    "solteiro"
   ]
  },
  {
   "cell_type": "code",
   "execution_count": 28,
   "id": "ba5ebcf5-39e1-4b00-942f-d24d1b5622c9",
   "metadata": {},
   "outputs": [
    {
     "data": {
      "text/plain": [
       "array([[-1.        ,  1.        , -0.41137668,  1.67332005, -0.51639778,\n",
       "        -0.4330127 , -0.53678263,  0.89973541, -0.89973541, -1.61834719,\n",
       "         1.61834719, -1.03804622, -2.6716938 , -0.68350674]])"
      ]
     },
     "execution_count": 28,
     "metadata": {},
     "output_type": "execute_result"
    }
   ],
   "source": [
    "casado = OHE_credit.transform(casado)\n",
    "casado = scaler_credit.transform(casado)\n",
    "casado"
   ]
  },
  {
   "cell_type": "code",
   "execution_count": 29,
   "id": "204704bd-225a-46c5-99ee-bf80b80a9b08",
   "metadata": {},
   "outputs": [
    {
     "data": {
      "text/plain": [
       "array([0])"
      ]
     },
     "execution_count": 29,
     "metadata": {},
     "output_type": "execute_result"
    }
   ],
   "source": [
    "previsao_solteiro_RF = arvore_credit.predict(solteiro)\n",
    "previsao_solteiro_RF"
   ]
  },
  {
   "cell_type": "code",
   "execution_count": 30,
   "id": "ecd43a92-d735-4a89-be49-7fb5794766a4",
   "metadata": {},
   "outputs": [
    {
     "data": {
      "text/plain": [
       "array([0])"
      ]
     },
     "execution_count": 30,
     "metadata": {},
     "output_type": "execute_result"
    }
   ],
   "source": [
    "previsao_solteiro_NB = naive_credit.predict(solteiro)\n",
    "previsao_solteiro_NB"
   ]
  },
  {
   "cell_type": "code",
   "execution_count": 31,
   "id": "f478adef-5a25-421b-96fb-e0d3aee06212",
   "metadata": {},
   "outputs": [
    {
     "data": {
      "text/plain": [
       "array([0])"
      ]
     },
     "execution_count": 31,
     "metadata": {},
     "output_type": "execute_result"
    }
   ],
   "source": [
    "previsao_casado_RF = arvore_credit.predict(casado)\n",
    "previsao_casado_RF"
   ]
  },
  {
   "cell_type": "code",
   "execution_count": 32,
   "id": "040106a1-3d75-4886-99af-3922186c9203",
   "metadata": {},
   "outputs": [
    {
     "data": {
      "text/plain": [
       "array([0])"
      ]
     },
     "execution_count": 32,
     "metadata": {},
     "output_type": "execute_result"
    }
   ],
   "source": [
    "previsao_casado_NB = naive_credit.predict(casado)\n",
    "previsao_casado_NB"
   ]
  },
  {
   "cell_type": "code",
   "execution_count": 33,
   "id": "86ad9577-6adb-4887-9936-0a57b1896910",
   "metadata": {},
   "outputs": [
    {
     "name": "stdout",
     "output_type": "stream",
     "text": [
      "Classificação de crédito prevista da pessoa solteira (Random Forest): Average\n",
      "Classificação de crédito prevista da pessoa casada (Random Forest): Average\n",
      "\n",
      "Classificação de crédito prevista da pessoa solteira (Naive Bayes): Average\n",
      "Classificação de crédito prevista da pessoa casada (Naive Bayes): Average\n"
     ]
    }
   ],
   "source": [
    "with open('Pickle/LE_credit.pkl', 'rb') as arquivo:\n",
    "    LE_credit = pickle.load(arquivo)\n",
    "\n",
    "# Decodificando os rótulos do Label Encoder\n",
    "resultado_solteiro_RF = LE_credit.inverse_transform(previsao_solteiro_RF)\n",
    "resultado_casado_RF = LE_credit.inverse_transform(previsao_casado_RF)\n",
    "\n",
    "resultado_solteiro_NB = LE_credit.inverse_transform(previsao_solteiro_NB)\n",
    "resultado_casado_NB = LE_credit.inverse_transform(previsao_casado_NB)\n",
    "\n",
    "print(f\"Classificação de crédito prevista da pessoa solteira (Random Forest): {resultado_solteiro_RF[0]}\")\n",
    "print(f\"Classificação de crédito prevista da pessoa casada (Random Forest): {resultado_casado_RF[0]}\\n\")\n",
    "\n",
    "print(f\"Classificação de crédito prevista da pessoa solteira (Naive Bayes): {resultado_solteiro_NB[0]}\")\n",
    "print(f\"Classificação de crédito prevista da pessoa casada (Naive Bayes): {resultado_casado_NB[0]}\")"
   ]
  },
  {
   "cell_type": "markdown",
   "id": "23c999db-2701-4334-81cd-a6f113420efd",
   "metadata": {},
   "source": [
    "### Respondendo segunda pergunta\n",
    "Mais uma vez, os modelos apresentam resultados iguais para esse caso, onde foram comparados duas pessoas com condições identicas e com apenas o estado civíl alterado, com a classificação média de crédito, ou seja, o fato de uma pessoa ser casada não se torna um fator determinante para ter um crédito mais alto, de acordo com os modelos treinados. Porém, pode ser que outros fatores como renda, escolaridade ou número de filhos possam ter um peso maior nessa análise, mas o estado civíl não."
   ]
  },
  {
   "cell_type": "markdown",
   "id": "fd1f0a2e-e94b-4e4c-8de7-8b16b3acd1ca",
   "metadata": {},
   "source": [
    "## Terceira pergunta\n",
    "\n",
    "3. \"O número de filhos afeta diretamente a pontuação de crédito de um indivíduo?\"\n",
    "   \n",
    "→ Objetivo: Entender se a feature Number of Children tem relevância na predição."
   ]
  },
  {
   "cell_type": "markdown",
   "id": "26277399-dd01-4eb4-9d0f-315395e9cc84",
   "metadata": {},
   "source": [
    "Para verificar se o número de filhos tem um impacto no crédito, será feita a mesma coisa que a pergunta anterior, usar dois indivíduos com condições iguais, apenas com a diferença de que um terá filhos e o outro nenhum, para verificar o peso dessa variável."
   ]
  },
  {
   "cell_type": "code",
   "execution_count": 64,
   "id": "213df944-7938-4662-a45a-7e8b6a042e6a",
   "metadata": {},
   "outputs": [],
   "source": [
    "# Carregamento dos modelos e encoders\n",
    "import pickle\n",
    "with open('Pickle/modelo_arvore_credit.pkl', 'rb') as arquivo:\n",
    "    arvore_credit = pickle.load(arquivo)\n",
    "\n",
    "with open('Pickle/modelo_naive_credit.pkl', 'rb') as arquivo:\n",
    "    naive_credit = pickle.load(arquivo)\n",
    "\n",
    "with open('Pickle/OHE_credit.pkl', 'rb') as arquivo:\n",
    "    OHE_credit = pickle.load(arquivo)\n",
    "\n",
    "with open('Pickle/LE_credit.pkl', 'rb') as arquivo:\n",
    "    LE_credit = pickle.load(arquivo)\n",
    "\n",
    "with open('Pickle/scaler_credit.pkl', 'rb') as arquivo:\n",
    "    scaler_credit = pickle.load(arquivo)"
   ]
  },
  {
   "cell_type": "code",
   "execution_count": 65,
   "id": "05c00d8e-ebcb-452b-8d25-4ac596f65426",
   "metadata": {},
   "outputs": [],
   "source": [
    "# Trabalhadora sem filho\n",
    "trabalhadora1 = pd.DataFrame([{\n",
    "    \"Age\": 30,\n",
    "    \"Gender\": \"Female\",\n",
    "    \"Income\": 4000,\n",
    "    \"Education\": \"Bachelor's Degree\",\n",
    "    \"Marital Status\": \"Single\",\n",
    "    \"Number of Children\": 0,\n",
    "    \"Home Ownership\": \"Rented\",\n",
    "}])\n",
    "\n",
    "# Trabalhadora com filhos\n",
    "trabalhadora2 = pd.DataFrame([{\n",
    "    \"Age\": 30,\n",
    "    \"Gender\": \"Female\",\n",
    "    \"Income\": 4000,\n",
    "    \"Education\": \"Bachelor's Degree\",\n",
    "    \"Marital Status\": \"Married\",\n",
    "    \"Number of Children\": 2,\n",
    "    \"Home Ownership\": \"Rented\",\n",
    "}])"
   ]
  },
  {
   "cell_type": "code",
   "execution_count": 66,
   "id": "9c8637e7-0ca5-4246-95a4-6402b6db0275",
   "metadata": {},
   "outputs": [
    {
     "data": {
      "text/plain": [
       "array([[ 1.        , -1.        , -0.41137668,  1.67332005, -0.51639778,\n",
       "        -0.4330127 , -0.53678263, -1.11143786,  1.11143786, -1.61834719,\n",
       "         1.61834719, -1.03804622, -2.70296815, -0.68350674]])"
      ]
     },
     "execution_count": 66,
     "metadata": {},
     "output_type": "execute_result"
    }
   ],
   "source": [
    "# Pré-processamento\n",
    "trabalhadora1 = OHE_credit.transform(trabalhadora1)\n",
    "trabalhadora1 = scaler_credit.transform(trabalhadora1)\n",
    "trabalhadora1"
   ]
  },
  {
   "cell_type": "code",
   "execution_count": 67,
   "id": "8eedf851-462e-4b1a-bea4-2ac2eeeac315",
   "metadata": {},
   "outputs": [
    {
     "data": {
      "text/plain": [
       "array([[ 1.        , -1.        , -0.41137668,  1.67332005, -0.51639778,\n",
       "        -0.4330127 , -0.53678263,  0.89973541, -0.89973541, -1.61834719,\n",
       "         1.61834719, -1.03804622, -2.70296815,  1.67769837]])"
      ]
     },
     "execution_count": 67,
     "metadata": {},
     "output_type": "execute_result"
    }
   ],
   "source": [
    "trabalhadora2 = OHE_credit.transform(trabalhadora2)\n",
    "trabalhadora2 = scaler_credit.transform(trabalhadora2)\n",
    "trabalhadora2"
   ]
  },
  {
   "cell_type": "code",
   "execution_count": 68,
   "id": "e1627698-f1e0-4fd4-8267-08e716bbea4d",
   "metadata": {},
   "outputs": [
    {
     "name": "stdout",
     "output_type": "stream",
     "text": [
      "Previsão de crédito da trabalhadora 1 (Random Forest): Low\n",
      "Previsão de crédito da trabalhadora 2 (Random Forest): High\n",
      "\n",
      "Previsão de crédito da trabalhadora 1 (Naive Bayes): Average\n",
      "Previsão de crédito da trabalhadora 2 (Naive Bayes): Average\n"
     ]
    }
   ],
   "source": [
    "# Previsão de classes (Random Forest e Naive Bayes)\n",
    "previsao_trab1_RF = arvore_credit.predict(trabalhadora1)\n",
    "previsao_trab2_RF = arvore_credit.predict(trabalhadora2)\n",
    "\n",
    "previsao_trab1_NB = naive_credit.predict(trabalhadora1)\n",
    "previsao_trab2_NB = naive_credit.predict(trabalhadora2)\n",
    "\n",
    "# Decodificação\n",
    "resultado1_RF = LE_credit.inverse_transform(previsao_trab1_RF)\n",
    "resultado2_RF = LE_credit.inverse_transform(previsao_trab2_RF)\n",
    "\n",
    "resultado1_NB = LE_credit.inverse_transform(previsao_trab1_NB)\n",
    "resultado2_NB = LE_credit.inverse_transform(previsao_trab2_NB)\n",
    "\n",
    "# Resultado\n",
    "print(f'Previsão de crédito da trabalhadora 1 (Random Forest): {resultado1_RF[0]}')\n",
    "print(f'Previsão de crédito da trabalhadora 2 (Random Forest): {resultado2_RF[0]}\\n')\n",
    "\n",
    "print(f'Previsão de crédito da trabalhadora 1 (Naive Bayes): {resultado1_NB[0]}')\n",
    "print(f'Previsão de crédito da trabalhadora 2 (Naive Bayes): {resultado2_NB[0]}')"
   ]
  },
  {
   "cell_type": "markdown",
   "id": "7684608c-05b8-44aa-880d-41434e8e9adf",
   "metadata": {},
   "source": [
    "## Outro caso\n",
    "Agora será aumentado o número de filhos da trabalhadora, para verificar se essa variável pode alterar seus resultados na previsão."
   ]
  },
  {
   "cell_type": "code",
   "execution_count": 69,
   "id": "76e20d59-3d36-44db-bbdf-f0da593742de",
   "metadata": {},
   "outputs": [],
   "source": [
    "# Trabalhadora sem filho\n",
    "trabalhadora1 = pd.DataFrame([{\n",
    "    \"Age\": 30,\n",
    "    \"Gender\": \"Female\",\n",
    "    \"Income\": 4000,\n",
    "    \"Education\": \"Bachelor's Degree\",\n",
    "    \"Marital Status\": \"Single\",\n",
    "    \"Number of Children\": 0,\n",
    "    \"Home Ownership\": \"Rented\",\n",
    "}])\n",
    "\n",
    "# Trabalhadora com 4 filhos\n",
    "trabalhadora2 = pd.DataFrame([{\n",
    "    \"Age\": 30,\n",
    "    \"Gender\": \"Female\",\n",
    "    \"Income\": 4000,\n",
    "    \"Education\": \"Bachelor's Degree\",\n",
    "    \"Marital Status\": \"Married\",\n",
    "    \"Number of Children\": 4,\n",
    "    \"Home Ownership\": \"Rented\",\n",
    "}])"
   ]
  },
  {
   "cell_type": "code",
   "execution_count": 70,
   "id": "88b1951d-2cfb-4f43-b858-5f145631daf2",
   "metadata": {},
   "outputs": [],
   "source": [
    "trabalhadora1 = OHE_credit.transform(trabalhadora1)\n",
    "trabalhadora1 = scaler_credit.transform(trabalhadora1)\n",
    "\n",
    "trabalhadora2 = OHE_credit.transform(trabalhadora2)\n",
    "trabalhadora2 = scaler_credit.transform(trabalhadora2)"
   ]
  },
  {
   "cell_type": "code",
   "execution_count": 71,
   "id": "e89c703a-b89e-4fdd-a23a-308dfe4499ed",
   "metadata": {},
   "outputs": [
    {
     "name": "stdout",
     "output_type": "stream",
     "text": [
      "Previsão de crédito da trabalhadora 1 (Random Forest): Low\n",
      "Previsão de crédito da trabalhadora 2 (Random Forest): High\n",
      "\n",
      "Previsão de crédito da trabalhadora 1 (Naive Bayes): Average\n",
      "Previsão de crédito da trabalhadora 2 (Naive Bayes): High\n"
     ]
    }
   ],
   "source": [
    "# Previsão de classes (Random Forest e Naive Bayes)\n",
    "previsao_trab1_RF = arvore_credit.predict(trabalhadora1)\n",
    "previsao_trab2_RF = arvore_credit.predict(trabalhadora2)\n",
    "\n",
    "previsao_trab1_NB = naive_credit.predict(trabalhadora1)\n",
    "previsao_trab2_NB = naive_credit.predict(trabalhadora2)\n",
    "\n",
    "# Decodificação\n",
    "resultado1_RF = LE_credit.inverse_transform(previsao_trab1_RF)\n",
    "resultado2_RF = LE_credit.inverse_transform(previsao_trab2_RF)\n",
    "\n",
    "resultado1_NB = LE_credit.inverse_transform(previsao_trab1_NB)\n",
    "resultado2_NB = LE_credit.inverse_transform(previsao_trab2_NB)\n",
    "\n",
    "# Resultado\n",
    "print(f'Previsão de crédito da trabalhadora 1 (Random Forest): {resultado1_RF[0]}')\n",
    "print(f'Previsão de crédito da trabalhadora 2 (Random Forest): {resultado2_RF[0]}\\n')\n",
    "\n",
    "print(f'Previsão de crédito da trabalhadora 1 (Naive Bayes): {resultado1_NB[0]}')\n",
    "print(f'Previsão de crédito da trabalhadora 2 (Naive Bayes): {resultado2_NB[0]}')"
   ]
  },
  {
   "cell_type": "markdown",
   "id": "e1dcdd58-32bf-4866-8349-915dcbdbbb8d",
   "metadata": {},
   "source": [
    "### Respondendo a terceira pergunta\n",
    "Nesse caso em específico os modelos apresentaram resultados diferentes, tanto no caso da trabalhadora que possui 2 filhos quanto no outro caso onde ela possui 4 filhos, porém mesmo que esses modelos tenham resultados diferentes, eles apontam uma informação em comum, de que a trabalhadora com filhos tem maiores chances de ter uma classificação alta de crédito, o que indica que ela tem maior chance de pagar suas dívidas, o que provavelmente está relacionado com uma estabilidade financeira pelo seu casamento. Portanto, os modelos interpretaram que o número de filhos pode afetar a classificação de crédito de uma pessoa."
   ]
  },
  {
   "cell_type": "markdown",
   "id": "8aa77c16-6d12-4df1-9f7e-b1218fa9cffb",
   "metadata": {},
   "source": [
    "## Quarta pergunta\n",
    "4. \"O tipo de moradia (própria ou alugada) impacta o score de crédito?\"\n",
    "\n",
    "→ Objetivo: Avaliar a importância de Home Ownership na previsão de crédito."
   ]
  },
  {
   "cell_type": "markdown",
   "id": "4468002f-4cc1-4435-bb3e-c0a229b9c504",
   "metadata": {},
   "source": [
    "Para responder essa pergunta, será usada a mesma estratégia que as perguntas anteriores, comparar duas pessoas com condições identicas, com a única diferença o tipo de moradia dessa vez, para verificar o peso dessa vairável na predição."
   ]
  },
  {
   "cell_type": "code",
   "execution_count": 4,
   "id": "3378c48b-6890-46ad-826a-5d9652cd327c",
   "metadata": {},
   "outputs": [
    {
     "data": {
      "text/html": [
       "<div>\n",
       "<style scoped>\n",
       "    .dataframe tbody tr th:only-of-type {\n",
       "        vertical-align: middle;\n",
       "    }\n",
       "\n",
       "    .dataframe tbody tr th {\n",
       "        vertical-align: top;\n",
       "    }\n",
       "\n",
       "    .dataframe thead th {\n",
       "        text-align: right;\n",
       "    }\n",
       "</style>\n",
       "<table border=\"1\" class=\"dataframe\">\n",
       "  <thead>\n",
       "    <tr style=\"text-align: right;\">\n",
       "      <th></th>\n",
       "      <th>Age</th>\n",
       "      <th>Gender</th>\n",
       "      <th>Income</th>\n",
       "      <th>Education</th>\n",
       "      <th>Marital Status</th>\n",
       "      <th>Number of Children</th>\n",
       "      <th>Home Ownership</th>\n",
       "      <th>Credit Score</th>\n",
       "    </tr>\n",
       "  </thead>\n",
       "  <tbody>\n",
       "    <tr>\n",
       "      <th>0</th>\n",
       "      <td>25</td>\n",
       "      <td>Female</td>\n",
       "      <td>50000</td>\n",
       "      <td>Bachelor's Degree</td>\n",
       "      <td>Single</td>\n",
       "      <td>0</td>\n",
       "      <td>Rented</td>\n",
       "      <td>High</td>\n",
       "    </tr>\n",
       "    <tr>\n",
       "      <th>1</th>\n",
       "      <td>30</td>\n",
       "      <td>Male</td>\n",
       "      <td>100000</td>\n",
       "      <td>Master's Degree</td>\n",
       "      <td>Married</td>\n",
       "      <td>2</td>\n",
       "      <td>Owned</td>\n",
       "      <td>High</td>\n",
       "    </tr>\n",
       "    <tr>\n",
       "      <th>2</th>\n",
       "      <td>35</td>\n",
       "      <td>Female</td>\n",
       "      <td>75000</td>\n",
       "      <td>Doctorate</td>\n",
       "      <td>Married</td>\n",
       "      <td>1</td>\n",
       "      <td>Owned</td>\n",
       "      <td>High</td>\n",
       "    </tr>\n",
       "    <tr>\n",
       "      <th>3</th>\n",
       "      <td>40</td>\n",
       "      <td>Male</td>\n",
       "      <td>125000</td>\n",
       "      <td>High School Diploma</td>\n",
       "      <td>Single</td>\n",
       "      <td>0</td>\n",
       "      <td>Owned</td>\n",
       "      <td>High</td>\n",
       "    </tr>\n",
       "    <tr>\n",
       "      <th>4</th>\n",
       "      <td>45</td>\n",
       "      <td>Female</td>\n",
       "      <td>100000</td>\n",
       "      <td>Bachelor's Degree</td>\n",
       "      <td>Married</td>\n",
       "      <td>3</td>\n",
       "      <td>Owned</td>\n",
       "      <td>High</td>\n",
       "    </tr>\n",
       "  </tbody>\n",
       "</table>\n",
       "</div>"
      ],
      "text/plain": [
       "   Age  Gender  Income            Education Marital Status  \\\n",
       "0   25  Female   50000    Bachelor's Degree         Single   \n",
       "1   30    Male  100000      Master's Degree        Married   \n",
       "2   35  Female   75000            Doctorate        Married   \n",
       "3   40    Male  125000  High School Diploma         Single   \n",
       "4   45  Female  100000    Bachelor's Degree        Married   \n",
       "\n",
       "   Number of Children Home Ownership Credit Score  \n",
       "0                   0         Rented         High  \n",
       "1                   2          Owned         High  \n",
       "2                   1          Owned         High  \n",
       "3                   0          Owned         High  \n",
       "4                   3          Owned         High  "
      ]
     },
     "execution_count": 4,
     "metadata": {},
     "output_type": "execute_result"
    }
   ],
   "source": [
    "df.head()"
   ]
  },
  {
   "cell_type": "code",
   "execution_count": 1,
   "id": "2d0f67df-51d3-4f45-9a85-cfccf5350190",
   "metadata": {},
   "outputs": [],
   "source": [
    "# Carregamento dos modelos e encoders\n",
    "import pickle\n",
    "with open('Pickle/modelo_arvore_credit.pkl', 'rb') as arquivo:\n",
    "    arvore_credit = pickle.load(arquivo)\n",
    "\n",
    "with open('Pickle/modelo_naive_credit.pkl', 'rb') as arquivo:\n",
    "    naive_credit = pickle.load(arquivo)\n",
    "\n",
    "with open('Pickle/OHE_credit.pkl', 'rb') as arquivo:\n",
    "    OHE_credit = pickle.load(arquivo)\n",
    "\n",
    "with open('Pickle/LE_credit.pkl', 'rb') as arquivo:\n",
    "    LE_credit = pickle.load(arquivo)\n",
    "\n",
    "with open('Pickle/scaler_credit.pkl', 'rb') as arquivo:\n",
    "    scaler_credit = pickle.load(arquivo)"
   ]
  },
  {
   "cell_type": "code",
   "execution_count": 4,
   "id": "b3c80c7f-ab84-4655-9919-610174a578ba",
   "metadata": {},
   "outputs": [],
   "source": [
    "# Morador de aluguel\n",
    "morador_aluguel = pd.DataFrame([{\n",
    "    \"Age\": 25,\n",
    "    \"Gender\": \"Male\",\n",
    "    \"Income\": 4000,\n",
    "    \"Education\": \"Bachelor's Degree\",\n",
    "    \"Marital Status\": \"Single\",\n",
    "    \"Number of Children\": 0,\n",
    "    \"Home Ownership\": \"Rented\"\n",
    "}])\n",
    "\n",
    "# Morador com casa própria\n",
    "morador_cp = pd.DataFrame([{\n",
    "    \"Age\": 25,\n",
    "    \"Gender\": \"Male\",\n",
    "    \"Income\": 4000,\n",
    "    \"Education\": \"Bachelor's Degree\",\n",
    "    \"Marital Status\": \"Single\",\n",
    "    \"Number of Children\": 0,\n",
    "    \"Home Ownership\": \"Owned\"\n",
    "}])"
   ]
  },
  {
   "cell_type": "code",
   "execution_count": 5,
   "id": "67cf3607-049a-4a4e-ac56-bb3388d9af37",
   "metadata": {},
   "outputs": [
    {
     "data": {
      "text/plain": [
       "array([[-1.        ,  1.        , -0.41137668,  1.67332005, -0.51639778,\n",
       "        -0.4330127 , -0.53678263, -1.11143786,  1.11143786, -1.61834719,\n",
       "         1.61834719, -1.59756049, -2.70296815, -0.68350674]])"
      ]
     },
     "execution_count": 5,
     "metadata": {},
     "output_type": "execute_result"
    }
   ],
   "source": [
    "# Pré-processamento dos dados\n",
    "morador_aluguel = OHE_credit.transform(morador_aluguel)\n",
    "morador_aluguel = scaler_credit.transform(morador_aluguel)\n",
    "morador_aluguel"
   ]
  },
  {
   "cell_type": "code",
   "execution_count": 6,
   "id": "8bd0c3dc-7e9d-4e5a-9321-f7b28dcb5ec2",
   "metadata": {},
   "outputs": [
    {
     "data": {
      "text/plain": [
       "array([[-1.        ,  1.        , -0.41137668,  1.67332005, -0.51639778,\n",
       "        -0.4330127 , -0.53678263, -1.11143786,  1.11143786,  0.61791438,\n",
       "        -0.61791438, -1.59756049, -2.70296815, -0.68350674]])"
      ]
     },
     "execution_count": 6,
     "metadata": {},
     "output_type": "execute_result"
    }
   ],
   "source": [
    "morador_cp = OHE_credit.transform(morador_cp)\n",
    "morador_cp = scaler_credit.transform(morador_cp)\n",
    "morador_cp"
   ]
  },
  {
   "cell_type": "code",
   "execution_count": 8,
   "id": "cb78c19b-1592-416b-b8c6-bf4f9e8c83c0",
   "metadata": {},
   "outputs": [
    {
     "name": "stdout",
     "output_type": "stream",
     "text": [
      "Classificação de crédito do morador de aluguel (Random Forest): Average\n",
      "Classificação de crédito do morador de casa própria (Random Forest): Average\n",
      "\n",
      "Classificação de crédito do morador de aluguel (Naive Bayes): Average\n",
      "Classificação de crédito do morador de casa própria (Naive Bayes): Average\n",
      "\n"
     ]
    }
   ],
   "source": [
    "# Previsões\n",
    "previsao_aluguel_RF = arvore_credit.predict(morador_aluguel)\n",
    "previsao_cp_RF = arvore_credit.predict(morador_cp)\n",
    "\n",
    "previsao_aluguel_NB = naive_credit.predict(morador_aluguel)\n",
    "previsao_cp_NB = naive_credit.predict(morador_cp)\n",
    "\n",
    "# Decodificação\n",
    "resultado_aluguel_RF = LE_credit.inverse_transform(previsao_aluguel_RF)\n",
    "resultado_cp_RF = LE_credit.inverse_transform(previsao_cp_RF)\n",
    "\n",
    "resultado_aluguel_NB = LE_credit.inverse_transform(previsao_aluguel_NB)\n",
    "resultado_cp_NB = LE_credit.inverse_transform(previsao_cp_NB)\n",
    "\n",
    "# Resultado\n",
    "print(f\"Classificação de crédito do morador de aluguel (Random Forest): {resultado_aluguel_RF[0]}\")\n",
    "print(f\"Classificação de crédito do morador de casa própria (Random Forest): {resultado_cp_RF[0]}\\n\")\n",
    "\n",
    "print(f\"Classificação de crédito do morador de aluguel (Naive Bayes): {resultado_aluguel_NB[0]}\")\n",
    "print(f\"Classificação de crédito do morador de casa própria (Naive Bayes): {resultado_cp_NB[0]}\\n\")"
   ]
  },
  {
   "cell_type": "markdown",
   "id": "e7d6fa02-9761-428a-bfc1-4f8dd727ffb6",
   "metadata": {},
   "source": [
    "## Outra opção\n",
    "- Comparar uma pessoa de baixa renda mas com casa própria e outra com alta renda e casa alugada"
   ]
  },
  {
   "cell_type": "code",
   "execution_count": 18,
   "id": "553a686f-7187-4408-8072-7637de7910b9",
   "metadata": {},
   "outputs": [],
   "source": [
    "# Morador de aluguel\n",
    "morador_aluguel = pd.DataFrame([{\n",
    "    \"Age\": 25,\n",
    "    \"Gender\": \"Male\",\n",
    "    \"Income\": 0,\n",
    "    \"Education\": \"Bachelor's Degree\",\n",
    "    \"Marital Status\": \"Single\",\n",
    "    \"Number of Children\": 0,\n",
    "    \"Home Ownership\": \"Rented\"\n",
    "}])\n",
    "\n",
    "# Morador com casa própria\n",
    "morador_cp = pd.DataFrame([{\n",
    "    \"Age\": 25,\n",
    "    \"Gender\": \"Male\",\n",
    "    \"Income\": 10000,\n",
    "    \"Education\": \"Bachelor's Degree\",\n",
    "    \"Marital Status\": \"Single\",\n",
    "    \"Number of Children\": 0,\n",
    "    \"Home Ownership\": \"Owned\"\n",
    "}])"
   ]
  },
  {
   "cell_type": "code",
   "execution_count": 19,
   "id": "5c31d47b-9d6c-4091-8e57-1199ca7ce11c",
   "metadata": {},
   "outputs": [],
   "source": [
    "# Pré-processamento dos dados\n",
    "morador_aluguel = OHE_credit.transform(morador_aluguel)\n",
    "morador_aluguel = scaler_credit.transform(morador_aluguel)\n",
    "\n",
    "morador_cp = OHE_credit.transform(morador_cp)\n",
    "morador_cp = scaler_credit.transform(morador_cp)"
   ]
  },
  {
   "cell_type": "code",
   "execution_count": 20,
   "id": "bca8b9a8-dd1f-47bd-b671-293f73c6fadb",
   "metadata": {},
   "outputs": [
    {
     "name": "stdout",
     "output_type": "stream",
     "text": [
      "Classificação de crédito do morador de aluguel (Random Forest): Average\n",
      "Classificação de crédito do morador de casa própria (Random Forest): Average\n",
      "\n",
      "Classificação de crédito do morador de aluguel (Naive Bayes): Average\n",
      "Classificação de crédito do morador de casa própria (Naive Bayes): Average\n",
      "\n"
     ]
    }
   ],
   "source": [
    "# Previsões\n",
    "previsao_aluguel_RF = arvore_credit.predict(morador_aluguel)\n",
    "previsao_cp_RF = arvore_credit.predict(morador_cp)\n",
    "\n",
    "previsao_aluguel_NB = naive_credit.predict(morador_aluguel)\n",
    "previsao_cp_NB = naive_credit.predict(morador_cp)\n",
    "\n",
    "# Decodificação\n",
    "resultado_aluguel_RF = LE_credit.inverse_transform(previsao_aluguel_RF)\n",
    "resultado_cp_RF = LE_credit.inverse_transform(previsao_cp_RF)\n",
    "\n",
    "resultado_aluguel_NB = LE_credit.inverse_transform(previsao_aluguel_NB)\n",
    "resultado_cp_NB = LE_credit.inverse_transform(previsao_cp_NB)\n",
    "\n",
    "# Resultado\n",
    "print(f\"Classificação de crédito do morador de aluguel (Random Forest): {resultado_aluguel_RF[0]}\")\n",
    "print(f\"Classificação de crédito do morador de casa própria (Random Forest): {resultado_cp_RF[0]}\\n\")\n",
    "\n",
    "print(f\"Classificação de crédito do morador de aluguel (Naive Bayes): {resultado_aluguel_NB[0]}\")\n",
    "print(f\"Classificação de crédito do morador de casa própria (Naive Bayes): {resultado_cp_NB[0]}\\n\")"
   ]
  },
  {
   "cell_type": "markdown",
   "id": "6f328d4a-a4ab-4433-b190-e84e3ee68148",
   "metadata": {},
   "source": [
    "### Respondendo a quarta pergunta\n",
    "Mais uma vez, ambos os modelos Random Forest e Naive Bayes chegam em resultados iguais para ambos os casos, tanto o morador de aluguel quanto o morador de casa própria possuem classificação média de crédito, de acordo com a previsão dos modelos. Porém, ocorre um resultado inesperado em outro caso, onde foram alterados os salários dos moradores, o morador de aluguel tem 0 reais, e o morador de casa própria tem 10.000 reais, porém mesmo assim ambos os modelos classificaram os moradores com classificação média de crédito, o que não faz sentido no contexto real, porém iso não quer dizer que os modelos estejam errados, porque eles interpretaram que a diferença de salário e de tipo de moradia não tiveram peso para alterar suas classificações de crédito, de acordo com os dados do dataset usados na previsão, o que também indica que outras variáveis tem um peso maior, como o \"Number of Children\", que causou uma mudança de classificação na pergunta anterior. Portanto, mesmo que pareça que essas previsões não tenham sentido, na verdade os modelos apenas aprenderam com os padrões dos dados do dataset, o que indica uma certa inconsistência nos dados originais."
   ]
  },
  {
   "cell_type": "markdown",
   "id": "b0d38b60-f85b-4ab6-95a1-155adcf2bb62",
   "metadata": {},
   "source": [
    "## Quinta pergunta\n",
    "5. \"Qual perfil tem maior chance de ter crédito alto: uma mulher jovem com ensino superior e renda média, ou um homem mais velho com ensino médio e alta renda?\"\n",
    "\n",
    "→ Objetivo: Criar perfis simulados com base nas colunas Age, Gender, Income, Education, e ver o comportamento do modelo ao classificá-los."
   ]
  },
  {
   "cell_type": "code",
   "execution_count": 8,
   "id": "403bd8a4-d597-4c1c-bf75-9fdb4f29b9e5",
   "metadata": {},
   "outputs": [
    {
     "data": {
      "text/html": [
       "<div>\n",
       "<style scoped>\n",
       "    .dataframe tbody tr th:only-of-type {\n",
       "        vertical-align: middle;\n",
       "    }\n",
       "\n",
       "    .dataframe tbody tr th {\n",
       "        vertical-align: top;\n",
       "    }\n",
       "\n",
       "    .dataframe thead th {\n",
       "        text-align: right;\n",
       "    }\n",
       "</style>\n",
       "<table border=\"1\" class=\"dataframe\">\n",
       "  <thead>\n",
       "    <tr style=\"text-align: right;\">\n",
       "      <th></th>\n",
       "      <th>Age</th>\n",
       "      <th>Gender</th>\n",
       "      <th>Income</th>\n",
       "      <th>Education</th>\n",
       "      <th>Marital Status</th>\n",
       "      <th>Number of Children</th>\n",
       "      <th>Home Ownership</th>\n",
       "      <th>Credit Score</th>\n",
       "    </tr>\n",
       "  </thead>\n",
       "  <tbody>\n",
       "    <tr>\n",
       "      <th>0</th>\n",
       "      <td>25</td>\n",
       "      <td>Female</td>\n",
       "      <td>50000</td>\n",
       "      <td>Bachelor's Degree</td>\n",
       "      <td>Single</td>\n",
       "      <td>0</td>\n",
       "      <td>Rented</td>\n",
       "      <td>High</td>\n",
       "    </tr>\n",
       "    <tr>\n",
       "      <th>1</th>\n",
       "      <td>30</td>\n",
       "      <td>Male</td>\n",
       "      <td>100000</td>\n",
       "      <td>Master's Degree</td>\n",
       "      <td>Married</td>\n",
       "      <td>2</td>\n",
       "      <td>Owned</td>\n",
       "      <td>High</td>\n",
       "    </tr>\n",
       "    <tr>\n",
       "      <th>2</th>\n",
       "      <td>35</td>\n",
       "      <td>Female</td>\n",
       "      <td>75000</td>\n",
       "      <td>Doctorate</td>\n",
       "      <td>Married</td>\n",
       "      <td>1</td>\n",
       "      <td>Owned</td>\n",
       "      <td>High</td>\n",
       "    </tr>\n",
       "    <tr>\n",
       "      <th>3</th>\n",
       "      <td>40</td>\n",
       "      <td>Male</td>\n",
       "      <td>125000</td>\n",
       "      <td>High School Diploma</td>\n",
       "      <td>Single</td>\n",
       "      <td>0</td>\n",
       "      <td>Owned</td>\n",
       "      <td>High</td>\n",
       "    </tr>\n",
       "    <tr>\n",
       "      <th>4</th>\n",
       "      <td>45</td>\n",
       "      <td>Female</td>\n",
       "      <td>100000</td>\n",
       "      <td>Bachelor's Degree</td>\n",
       "      <td>Married</td>\n",
       "      <td>3</td>\n",
       "      <td>Owned</td>\n",
       "      <td>High</td>\n",
       "    </tr>\n",
       "  </tbody>\n",
       "</table>\n",
       "</div>"
      ],
      "text/plain": [
       "   Age  Gender  Income            Education Marital Status  \\\n",
       "0   25  Female   50000    Bachelor's Degree         Single   \n",
       "1   30    Male  100000      Master's Degree        Married   \n",
       "2   35  Female   75000            Doctorate        Married   \n",
       "3   40    Male  125000  High School Diploma         Single   \n",
       "4   45  Female  100000    Bachelor's Degree        Married   \n",
       "\n",
       "   Number of Children Home Ownership Credit Score  \n",
       "0                   0         Rented         High  \n",
       "1                   2          Owned         High  \n",
       "2                   1          Owned         High  \n",
       "3                   0          Owned         High  \n",
       "4                   3          Owned         High  "
      ]
     },
     "execution_count": 8,
     "metadata": {},
     "output_type": "execute_result"
    }
   ],
   "source": [
    "df.head()"
   ]
  },
  {
   "cell_type": "code",
   "execution_count": 21,
   "id": "17460011-80a1-4fb3-9eb8-773a10c5b815",
   "metadata": {},
   "outputs": [],
   "source": [
    "# Carregamento dos modelos e encoders\n",
    "import pickle\n",
    "with open('Pickle/modelo_arvore_credit.pkl', 'rb') as arquivo:\n",
    "    arvore_credit = pickle.load(arquivo)\n",
    "\n",
    "with open('Pickle/modelo_naive_credit.pkl', 'rb') as arquivo:\n",
    "    naive_credit = pickle.load(arquivo)\n",
    "\n",
    "with open('Pickle/OHE_credit.pkl', 'rb') as arquivo:\n",
    "    OHE_credit = pickle.load(arquivo)\n",
    "\n",
    "with open('Pickle/LE_credit.pkl', 'rb') as arquivo:\n",
    "    LE_credit = pickle.load(arquivo)\n",
    "\n",
    "with open('Pickle/scaler_credit.pkl', 'rb') as arquivo:\n",
    "    scaler_credit = pickle.load(arquivo)"
   ]
  },
  {
   "cell_type": "code",
   "execution_count": 22,
   "id": "2f26ef0f-7ff7-47d8-9556-a6edeebb05b1",
   "metadata": {},
   "outputs": [],
   "source": [
    "# Mulher jovem\n",
    "Julia = pd.DataFrame([{\n",
    "    \"Age\": 25,\n",
    "    \"Gender\": \"Female\",\n",
    "    \"Income\": 8000,\n",
    "    \"Education\": \"Bachelor's Degree\",\n",
    "    \"Marital Status\": \"Single\",\n",
    "    \"Number of Children\": 0,\n",
    "    \"Home Ownership\": \"Owned\"\n",
    "}])\n",
    "\n",
    "# Homem mais velho\n",
    "Paulo = pd.DataFrame([{\n",
    "    \"Age\": 50,\n",
    "    \"Gender\": \"Male\",\n",
    "    \"Income\": 15000,\n",
    "    \"Education\": \"High School Diploma\",\n",
    "    \"Marital Status\": \"Single\",\n",
    "    \"Number of Children\": 0,\n",
    "    \"Home Ownership\": \"Owned\"\n",
    "}])"
   ]
  },
  {
   "cell_type": "code",
   "execution_count": 23,
   "id": "5c93aa31-f7d0-4d57-83e8-366025e970e5",
   "metadata": {},
   "outputs": [],
   "source": [
    "# Pré-processamento dos dados\n",
    "Julia = OHE_credit.transform(Julia)\n",
    "Julia = scaler_credit.transform(Julia)\n",
    "\n",
    "Paulo = OHE_credit.transform(Paulo)\n",
    "Paulo = scaler_credit.transform(Paulo)"
   ]
  },
  {
   "cell_type": "code",
   "execution_count": 24,
   "id": "54112c1e-20e7-46c4-811b-8b1de9ef50eb",
   "metadata": {},
   "outputs": [
    {
     "name": "stdout",
     "output_type": "stream",
     "text": [
      "Classificação de crédito de Júlia, mulher jovem (Random Forest): Average\n",
      "Classificação de crédito de Paulo, homem mais velho (Random Forest): High\n",
      "\n",
      "Classificação de crédito de Júlia, mulher jovem (Naive Bayes): Average\n",
      "Classificação de crédito de Paulo, homem mais velho (Naive Bayes): High\n",
      "\n"
     ]
    }
   ],
   "source": [
    "# Previsão\n",
    "previsao_Julia_RF = arvore_credit.predict(Julia)\n",
    "previsao_Paulo_RF = arvore_credit.predict(Paulo)\n",
    "\n",
    "previsao_Julia_NB = naive_credit.predict(Julia)\n",
    "previsao_Paulo_NB = naive_credit.predict(Paulo)\n",
    "\n",
    "# Decodificação\n",
    "resultado_Julia_RF = LE_credit.inverse_transform(previsao_Julia_RF)\n",
    "resultado_Paulo_RF = LE_credit.inverse_transform(previsao_Paulo_RF)\n",
    "\n",
    "resultado_Julia_NB = LE_credit.inverse_transform(previsao_Julia_NB)\n",
    "resultado_Paulo_NB = LE_credit.inverse_transform(previsao_Paulo_NB)\n",
    "\n",
    "# Resultado\n",
    "print(f\"Classificação de crédito de Júlia, mulher jovem (Random Forest): {resultado_Julia_RF[0]}\")\n",
    "print(f\"Classificação de crédito de Paulo, homem mais velho (Random Forest): {resultado_Paulo_RF[0]}\\n\")\n",
    "\n",
    "print(f\"Classificação de crédito de Júlia, mulher jovem (Naive Bayes): {resultado_Julia_NB[0]}\")\n",
    "print(f\"Classificação de crédito de Paulo, homem mais velho (Naive Bayes): {resultado_Paulo_NB[0]}\\n\")"
   ]
  },
  {
   "cell_type": "markdown",
   "id": "b4044d24-e5c9-4e6c-a99c-d713932754b8",
   "metadata": {},
   "source": [
    "### Respondendo quinta pergunta\n",
    "Nesse caso, os modelos apresentaram os mesmos resultados na comparação entre duas pessaos fictícias e que possuem condições diferentes, no caso da \"Júlia\" que é uma mulher jovem com renda média, ensino superior tem um classificação de crédito médio, ou seja, menos chances de pegar as dívidas do que Paulo, o homem mais velho, com apenas o ensino médio completo, mas com um salário alto. Além disso, anteriormente no modelo Random Forest, foi visto que as colunas com maiores importâncias são de \"Age\" e \"Income\", ou seja, essas duas colunas tem um peso grande na análise, e a interação entre essas variáveis acabou interpretando que Paulo tem mais chances de pagar suas dívidas do que Júlia, e da mesma forma foi interpretado pelo modelo Naive Bayes."
   ]
  },
  {
   "cell_type": "code",
   "execution_count": null,
   "id": "9581a1a1-1a05-46c8-aa26-2d51bbaedf9e",
   "metadata": {},
   "outputs": [],
   "source": []
  }
 ],
 "metadata": {
  "kernelspec": {
   "display_name": "Python 3 (ipykernel)",
   "language": "python",
   "name": "python3"
  },
  "language_info": {
   "codemirror_mode": {
    "name": "ipython",
    "version": 3
   },
   "file_extension": ".py",
   "mimetype": "text/x-python",
   "name": "python",
   "nbconvert_exporter": "python",
   "pygments_lexer": "ipython3",
   "version": "3.8.2"
  }
 },
 "nbformat": 4,
 "nbformat_minor": 5
}
