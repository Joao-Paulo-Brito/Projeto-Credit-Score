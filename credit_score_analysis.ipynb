{
 "cells": [
  {
   "cell_type": "markdown",
   "id": "931c9b34-240e-47f7-9603-63de47d6f830",
   "metadata": {},
   "source": [
    "# PERGUNTAS PARA A ANÁLISE\n",
    "\n",
    "1. \"Com base em dados como idade, renda, escolaridade e outros fatores, é possível prever a classificação do crédito de uma pessoa?\"<br>\n",
    "→ Objetivo: Prever a variável Credit Score.<br>\n",
    "→ Tipo: Classificação multiclasse (High, Medium, Low).<br><br>\n",
    "\n",
    "2. \"Pessoas casadas têm mais chances de ter crédito alto do que pessoas solteiras?\"<br>\n",
    "→ Objetivo: Avaliar a influência de Marital Status sobre o Credit Score.<br>\n",
    "→ Você pode usar visualizações e também verificar a importância das features no modelo.<br><br>\n",
    "\n",
    "3. \"O número de filhos afeta diretamente a pontuação de crédito de um indivíduo?\"<br>\n",
    "→ Objetivo: Entender se a feature Number of Children tem relevância na predição.<br><br>\n",
    "\n",
    "4. \"O tipo de moradia (própria ou alugada) impacta o score de crédito?\"<br>\n",
    "→ Objetivo: Avaliar a importância de Home Ownership na previsão de crédito.<br><br>\n",
    "\n",
    "5. \"Qual perfil tem maior chance de ter crédito alto: uma mulher jovem com ensino superior e renda média, ou um homem mais velho com ensino médio e alta renda?\"<br>\n",
    "→ Objetivo: Criar perfis simulados com base nas colunas Age, Gender, Income, Education, e ver o comportamento do modelo ao classificá-los.<br>"
   ]
  },
  {
   "cell_type": "code",
   "execution_count": 1,
   "id": "780fb93e-6eea-4545-a0fc-4cd4f07ef927",
   "metadata": {},
   "outputs": [],
   "source": [
    "import pandas as pd"
   ]
  },
  {
   "cell_type": "code",
   "execution_count": 2,
   "id": "137f9160-b1fd-4a83-b32d-c3f5935f1192",
   "metadata": {},
   "outputs": [],
   "source": [
    "df = pd.read_csv('data/Credit-Score.csv')"
   ]
  },
  {
   "cell_type": "code",
   "execution_count": 3,
   "id": "462c5147-8994-4cd5-b25f-ff628d891729",
   "metadata": {},
   "outputs": [
    {
     "data": {
      "text/html": [
       "<div>\n",
       "<style scoped>\n",
       "    .dataframe tbody tr th:only-of-type {\n",
       "        vertical-align: middle;\n",
       "    }\n",
       "\n",
       "    .dataframe tbody tr th {\n",
       "        vertical-align: top;\n",
       "    }\n",
       "\n",
       "    .dataframe thead th {\n",
       "        text-align: right;\n",
       "    }\n",
       "</style>\n",
       "<table border=\"1\" class=\"dataframe\">\n",
       "  <thead>\n",
       "    <tr style=\"text-align: right;\">\n",
       "      <th></th>\n",
       "      <th>Age</th>\n",
       "      <th>Gender</th>\n",
       "      <th>Income</th>\n",
       "      <th>Education</th>\n",
       "      <th>Marital Status</th>\n",
       "      <th>Number of Children</th>\n",
       "      <th>Home Ownership</th>\n",
       "      <th>Credit Score</th>\n",
       "    </tr>\n",
       "  </thead>\n",
       "  <tbody>\n",
       "    <tr>\n",
       "      <th>0</th>\n",
       "      <td>25</td>\n",
       "      <td>Female</td>\n",
       "      <td>50000</td>\n",
       "      <td>Bachelor's Degree</td>\n",
       "      <td>Single</td>\n",
       "      <td>0</td>\n",
       "      <td>Rented</td>\n",
       "      <td>High</td>\n",
       "    </tr>\n",
       "    <tr>\n",
       "      <th>1</th>\n",
       "      <td>30</td>\n",
       "      <td>Male</td>\n",
       "      <td>100000</td>\n",
       "      <td>Master's Degree</td>\n",
       "      <td>Married</td>\n",
       "      <td>2</td>\n",
       "      <td>Owned</td>\n",
       "      <td>High</td>\n",
       "    </tr>\n",
       "    <tr>\n",
       "      <th>2</th>\n",
       "      <td>35</td>\n",
       "      <td>Female</td>\n",
       "      <td>75000</td>\n",
       "      <td>Doctorate</td>\n",
       "      <td>Married</td>\n",
       "      <td>1</td>\n",
       "      <td>Owned</td>\n",
       "      <td>High</td>\n",
       "    </tr>\n",
       "    <tr>\n",
       "      <th>3</th>\n",
       "      <td>40</td>\n",
       "      <td>Male</td>\n",
       "      <td>125000</td>\n",
       "      <td>High School Diploma</td>\n",
       "      <td>Single</td>\n",
       "      <td>0</td>\n",
       "      <td>Owned</td>\n",
       "      <td>High</td>\n",
       "    </tr>\n",
       "    <tr>\n",
       "      <th>4</th>\n",
       "      <td>45</td>\n",
       "      <td>Female</td>\n",
       "      <td>100000</td>\n",
       "      <td>Bachelor's Degree</td>\n",
       "      <td>Married</td>\n",
       "      <td>3</td>\n",
       "      <td>Owned</td>\n",
       "      <td>High</td>\n",
       "    </tr>\n",
       "  </tbody>\n",
       "</table>\n",
       "</div>"
      ],
      "text/plain": [
       "   Age  Gender  Income            Education Marital Status  \\\n",
       "0   25  Female   50000    Bachelor's Degree         Single   \n",
       "1   30    Male  100000      Master's Degree        Married   \n",
       "2   35  Female   75000            Doctorate        Married   \n",
       "3   40    Male  125000  High School Diploma         Single   \n",
       "4   45  Female  100000    Bachelor's Degree        Married   \n",
       "\n",
       "   Number of Children Home Ownership Credit Score  \n",
       "0                   0         Rented         High  \n",
       "1                   2          Owned         High  \n",
       "2                   1          Owned         High  \n",
       "3                   0          Owned         High  \n",
       "4                   3          Owned         High  "
      ]
     },
     "execution_count": 3,
     "metadata": {},
     "output_type": "execute_result"
    }
   ],
   "source": [
    "df.head()"
   ]
  },
  {
   "cell_type": "markdown",
   "id": "5680960d-3753-4248-bd56-a8d3c288727f",
   "metadata": {},
   "source": [
    "### Tratamento de dados"
   ]
  },
  {
   "cell_type": "code",
   "execution_count": 4,
   "id": "6c34671c-477a-4d8a-bb98-bedace48f16e",
   "metadata": {},
   "outputs": [
    {
     "data": {
      "text/plain": [
       "Age                   0\n",
       "Gender                0\n",
       "Income                0\n",
       "Education             0\n",
       "Marital Status        0\n",
       "Number of Children    0\n",
       "Home Ownership        0\n",
       "Credit Score          0\n",
       "dtype: int64"
      ]
     },
     "execution_count": 4,
     "metadata": {},
     "output_type": "execute_result"
    }
   ],
   "source": [
    "# Valores nulos\n",
    "df.isnull().sum()"
   ]
  },
  {
   "cell_type": "code",
   "execution_count": 5,
   "id": "fcaa4bdb-312d-4989-b696-e8e735ba1ecd",
   "metadata": {},
   "outputs": [
    {
     "data": {
      "text/plain": [
       "Age                   0\n",
       "Gender                0\n",
       "Income                0\n",
       "Education             0\n",
       "Marital Status        0\n",
       "Number of Children    0\n",
       "Home Ownership        0\n",
       "Credit Score          0\n",
       "dtype: int64"
      ]
     },
     "execution_count": 5,
     "metadata": {},
     "output_type": "execute_result"
    }
   ],
   "source": [
    "# Valores ausentes\n",
    "df.isna().sum()"
   ]
  },
  {
   "cell_type": "code",
   "execution_count": 6,
   "id": "f18f637b-2c5a-428e-9dab-2df410923731",
   "metadata": {},
   "outputs": [
    {
     "data": {
      "text/plain": [
       "62"
      ]
     },
     "execution_count": 6,
     "metadata": {},
     "output_type": "execute_result"
    }
   ],
   "source": [
    "# Valores duplicados\n",
    "df.duplicated().sum()"
   ]
  },
  {
   "cell_type": "code",
   "execution_count": 7,
   "id": "f65f9595-afaf-4f37-9e29-332818bd573d",
   "metadata": {},
   "outputs": [
    {
     "name": "stdout",
     "output_type": "stream",
     "text": [
      "     Age  Gender  Income            Education Marital Status  \\\n",
      "73    27  Female   37500  High School Diploma         Single   \n",
      "74    32    Male   57500   Associate's Degree         Single   \n",
      "79    28  Female   32500   Associate's Degree         Single   \n",
      "80    33    Male   52500  High School Diploma         Single   \n",
      "81    38  Female   67500    Bachelor's Degree        Married   \n",
      "..   ...     ...     ...                  ...            ...   \n",
      "159   29  Female   27500  High School Diploma         Single   \n",
      "160   34    Male   47500   Associate's Degree         Single   \n",
      "161   39  Female   62500    Bachelor's Degree        Married   \n",
      "162   44    Male   87500      Master's Degree         Single   \n",
      "163   49  Female   77500            Doctorate        Married   \n",
      "\n",
      "     Number of Children Home Ownership Credit Score  \n",
      "73                    0         Rented          Low  \n",
      "74                    0         Rented      Average  \n",
      "79                    0         Rented          Low  \n",
      "80                    0         Rented      Average  \n",
      "81                    2          Owned         High  \n",
      "..                  ...            ...          ...  \n",
      "159                   0         Rented          Low  \n",
      "160                   0         Rented      Average  \n",
      "161                   2          Owned         High  \n",
      "162                   0          Owned         High  \n",
      "163                   1          Owned         High  \n",
      "\n",
      "[62 rows x 8 columns]\n"
     ]
    }
   ],
   "source": [
    "duplicadas = df[df.duplicated()]\n",
    "print(duplicadas)"
   ]
  },
  {
   "cell_type": "code",
   "execution_count": 8,
   "id": "86e15533-0559-4198-aff7-9516de9245c8",
   "metadata": {},
   "outputs": [
    {
     "data": {
      "text/html": [
       "<div>\n",
       "<style scoped>\n",
       "    .dataframe tbody tr th:only-of-type {\n",
       "        vertical-align: middle;\n",
       "    }\n",
       "\n",
       "    .dataframe tbody tr th {\n",
       "        vertical-align: top;\n",
       "    }\n",
       "\n",
       "    .dataframe thead th {\n",
       "        text-align: right;\n",
       "    }\n",
       "</style>\n",
       "<table border=\"1\" class=\"dataframe\">\n",
       "  <thead>\n",
       "    <tr style=\"text-align: right;\">\n",
       "      <th></th>\n",
       "      <th>Age</th>\n",
       "      <th>Gender</th>\n",
       "      <th>Income</th>\n",
       "      <th>Education</th>\n",
       "      <th>Marital Status</th>\n",
       "      <th>Number of Children</th>\n",
       "      <th>Home Ownership</th>\n",
       "      <th>Credit Score</th>\n",
       "    </tr>\n",
       "  </thead>\n",
       "  <tbody>\n",
       "    <tr>\n",
       "      <th>29</th>\n",
       "      <td>25</td>\n",
       "      <td>Female</td>\n",
       "      <td>55000</td>\n",
       "      <td>Bachelor's Degree</td>\n",
       "      <td>Single</td>\n",
       "      <td>0</td>\n",
       "      <td>Rented</td>\n",
       "      <td>Average</td>\n",
       "    </tr>\n",
       "    <tr>\n",
       "      <th>135</th>\n",
       "      <td>25</td>\n",
       "      <td>Female</td>\n",
       "      <td>55000</td>\n",
       "      <td>Bachelor's Degree</td>\n",
       "      <td>Single</td>\n",
       "      <td>0</td>\n",
       "      <td>Rented</td>\n",
       "      <td>Average</td>\n",
       "    </tr>\n",
       "    <tr>\n",
       "      <th>58</th>\n",
       "      <td>25</td>\n",
       "      <td>Female</td>\n",
       "      <td>57500</td>\n",
       "      <td>Bachelor's Degree</td>\n",
       "      <td>Single</td>\n",
       "      <td>0</td>\n",
       "      <td>Rented</td>\n",
       "      <td>Average</td>\n",
       "    </tr>\n",
       "    <tr>\n",
       "      <th>90</th>\n",
       "      <td>25</td>\n",
       "      <td>Female</td>\n",
       "      <td>57500</td>\n",
       "      <td>Bachelor's Degree</td>\n",
       "      <td>Single</td>\n",
       "      <td>0</td>\n",
       "      <td>Rented</td>\n",
       "      <td>Average</td>\n",
       "    </tr>\n",
       "    <tr>\n",
       "      <th>122</th>\n",
       "      <td>25</td>\n",
       "      <td>Female</td>\n",
       "      <td>57500</td>\n",
       "      <td>Bachelor's Degree</td>\n",
       "      <td>Single</td>\n",
       "      <td>0</td>\n",
       "      <td>Rented</td>\n",
       "      <td>Average</td>\n",
       "    </tr>\n",
       "    <tr>\n",
       "      <th>...</th>\n",
       "      <td>...</td>\n",
       "      <td>...</td>\n",
       "      <td>...</td>\n",
       "      <td>...</td>\n",
       "      <td>...</td>\n",
       "      <td>...</td>\n",
       "      <td>...</td>\n",
       "      <td>...</td>\n",
       "    </tr>\n",
       "    <tr>\n",
       "      <th>146</th>\n",
       "      <td>51</td>\n",
       "      <td>Male</td>\n",
       "      <td>140000</td>\n",
       "      <td>Bachelor's Degree</td>\n",
       "      <td>Married</td>\n",
       "      <td>0</td>\n",
       "      <td>Owned</td>\n",
       "      <td>High</td>\n",
       "    </tr>\n",
       "    <tr>\n",
       "      <th>46</th>\n",
       "      <td>52</td>\n",
       "      <td>Male</td>\n",
       "      <td>130000</td>\n",
       "      <td>High School Diploma</td>\n",
       "      <td>Married</td>\n",
       "      <td>0</td>\n",
       "      <td>Owned</td>\n",
       "      <td>High</td>\n",
       "    </tr>\n",
       "    <tr>\n",
       "      <th>152</th>\n",
       "      <td>52</td>\n",
       "      <td>Male</td>\n",
       "      <td>130000</td>\n",
       "      <td>High School Diploma</td>\n",
       "      <td>Married</td>\n",
       "      <td>0</td>\n",
       "      <td>Owned</td>\n",
       "      <td>High</td>\n",
       "    </tr>\n",
       "    <tr>\n",
       "      <th>52</th>\n",
       "      <td>53</td>\n",
       "      <td>Male</td>\n",
       "      <td>122500</td>\n",
       "      <td>Associate's Degree</td>\n",
       "      <td>Married</td>\n",
       "      <td>0</td>\n",
       "      <td>Owned</td>\n",
       "      <td>High</td>\n",
       "    </tr>\n",
       "    <tr>\n",
       "      <th>158</th>\n",
       "      <td>53</td>\n",
       "      <td>Male</td>\n",
       "      <td>122500</td>\n",
       "      <td>Associate's Degree</td>\n",
       "      <td>Married</td>\n",
       "      <td>0</td>\n",
       "      <td>Owned</td>\n",
       "      <td>High</td>\n",
       "    </tr>\n",
       "  </tbody>\n",
       "</table>\n",
       "<p>98 rows × 8 columns</p>\n",
       "</div>"
      ],
      "text/plain": [
       "     Age  Gender  Income            Education Marital Status  \\\n",
       "29    25  Female   55000    Bachelor's Degree         Single   \n",
       "135   25  Female   55000    Bachelor's Degree         Single   \n",
       "58    25  Female   57500    Bachelor's Degree         Single   \n",
       "90    25  Female   57500    Bachelor's Degree         Single   \n",
       "122   25  Female   57500    Bachelor's Degree         Single   \n",
       "..   ...     ...     ...                  ...            ...   \n",
       "146   51    Male  140000    Bachelor's Degree        Married   \n",
       "46    52    Male  130000  High School Diploma        Married   \n",
       "152   52    Male  130000  High School Diploma        Married   \n",
       "52    53    Male  122500   Associate's Degree        Married   \n",
       "158   53    Male  122500   Associate's Degree        Married   \n",
       "\n",
       "     Number of Children Home Ownership Credit Score  \n",
       "29                    0         Rented      Average  \n",
       "135                   0         Rented      Average  \n",
       "58                    0         Rented      Average  \n",
       "90                    0         Rented      Average  \n",
       "122                   0         Rented      Average  \n",
       "..                  ...            ...          ...  \n",
       "146                   0          Owned         High  \n",
       "46                    0          Owned         High  \n",
       "152                   0          Owned         High  \n",
       "52                    0          Owned         High  \n",
       "158                   0          Owned         High  \n",
       "\n",
       "[98 rows x 8 columns]"
      ]
     },
     "execution_count": 8,
     "metadata": {},
     "output_type": "execute_result"
    }
   ],
   "source": [
    "# Verificando linhas duplicadas\n",
    "df[df.duplicated(keep=False)].sort_values(by=list(df.columns))"
   ]
  },
  {
   "cell_type": "code",
   "execution_count": 9,
   "id": "c7c1c660-d017-4a5a-89dc-90bd4c561995",
   "metadata": {},
   "outputs": [],
   "source": [
    "df.drop_duplicates(inplace=True)"
   ]
  },
  {
   "cell_type": "code",
   "execution_count": 10,
   "id": "ca2d6908-97e1-4b3d-9ae7-16ce896c2680",
   "metadata": {},
   "outputs": [
    {
     "data": {
      "text/plain": [
       "0"
      ]
     },
     "execution_count": 10,
     "metadata": {},
     "output_type": "execute_result"
    }
   ],
   "source": [
    "df.duplicated().sum()"
   ]
  },
  {
   "cell_type": "code",
   "execution_count": 11,
   "id": "b7836ab7-0a73-4c78-8aa9-90894d836e1e",
   "metadata": {},
   "outputs": [
    {
     "data": {
      "text/plain": [
       "Age                    int64\n",
       "Gender                object\n",
       "Income                 int64\n",
       "Education             object\n",
       "Marital Status        object\n",
       "Number of Children     int64\n",
       "Home Ownership        object\n",
       "Credit Score          object\n",
       "dtype: object"
      ]
     },
     "execution_count": 11,
     "metadata": {},
     "output_type": "execute_result"
    }
   ],
   "source": [
    "df.dtypes"
   ]
  },
  {
   "cell_type": "code",
   "execution_count": 12,
   "id": "39841dab-f662-407a-8b3e-9b7e4f83e07f",
   "metadata": {},
   "outputs": [
    {
     "name": "stdout",
     "output_type": "stream",
     "text": [
      "Valore únicos nas colunas:\n",
      "['Female' 'Male']\n",
      "[\"Bachelor's Degree\" \"Master's Degree\" 'Doctorate' 'High School Diploma'\n",
      " \"Associate's Degree\"]\n",
      "['Single' 'Married']\n",
      "['Rented' 'Owned']\n",
      "['High' 'Average' 'Low']\n"
     ]
    }
   ],
   "source": [
    "print(\"Valore únicos nas colunas:\")\n",
    "for col in df.select_dtypes(include = 'object'):\n",
    "    print(df[col].unique())"
   ]
  },
  {
   "cell_type": "markdown",
   "id": "6a784085-fee3-41aa-beb3-f3adaf5c4fdf",
   "metadata": {},
   "source": [
    "## Pré processamento de dados"
   ]
  },
  {
   "cell_type": "code",
   "execution_count": 43,
   "id": "bfd91d4d-3661-47c2-b83f-598afc895120",
   "metadata": {},
   "outputs": [
    {
     "data": {
      "text/plain": [
       "Index(['Age', 'Gender', 'Income', 'Education', 'Marital Status',\n",
       "       'Number of Children', 'Home Ownership', 'Credit Score'],\n",
       "      dtype='object')"
      ]
     },
     "execution_count": 43,
     "metadata": {},
     "output_type": "execute_result"
    }
   ],
   "source": [
    "df.columns"
   ]
  },
  {
   "cell_type": "code",
   "execution_count": 13,
   "id": "b27ac2f8-7573-4d9b-93dd-a0c030ad9685",
   "metadata": {},
   "outputs": [
    {
     "data": {
      "text/html": [
       "<div>\n",
       "<style scoped>\n",
       "    .dataframe tbody tr th:only-of-type {\n",
       "        vertical-align: middle;\n",
       "    }\n",
       "\n",
       "    .dataframe tbody tr th {\n",
       "        vertical-align: top;\n",
       "    }\n",
       "\n",
       "    .dataframe thead th {\n",
       "        text-align: right;\n",
       "    }\n",
       "</style>\n",
       "<table border=\"1\" class=\"dataframe\">\n",
       "  <thead>\n",
       "    <tr style=\"text-align: right;\">\n",
       "      <th></th>\n",
       "      <th>Age</th>\n",
       "      <th>Gender</th>\n",
       "      <th>Income</th>\n",
       "      <th>Education</th>\n",
       "      <th>Marital Status</th>\n",
       "      <th>Number of Children</th>\n",
       "      <th>Home Ownership</th>\n",
       "    </tr>\n",
       "  </thead>\n",
       "  <tbody>\n",
       "    <tr>\n",
       "      <th>0</th>\n",
       "      <td>25</td>\n",
       "      <td>Female</td>\n",
       "      <td>50000</td>\n",
       "      <td>Bachelor's Degree</td>\n",
       "      <td>Single</td>\n",
       "      <td>0</td>\n",
       "      <td>Rented</td>\n",
       "    </tr>\n",
       "    <tr>\n",
       "      <th>1</th>\n",
       "      <td>30</td>\n",
       "      <td>Male</td>\n",
       "      <td>100000</td>\n",
       "      <td>Master's Degree</td>\n",
       "      <td>Married</td>\n",
       "      <td>2</td>\n",
       "      <td>Owned</td>\n",
       "    </tr>\n",
       "    <tr>\n",
       "      <th>2</th>\n",
       "      <td>35</td>\n",
       "      <td>Female</td>\n",
       "      <td>75000</td>\n",
       "      <td>Doctorate</td>\n",
       "      <td>Married</td>\n",
       "      <td>1</td>\n",
       "      <td>Owned</td>\n",
       "    </tr>\n",
       "    <tr>\n",
       "      <th>3</th>\n",
       "      <td>40</td>\n",
       "      <td>Male</td>\n",
       "      <td>125000</td>\n",
       "      <td>High School Diploma</td>\n",
       "      <td>Single</td>\n",
       "      <td>0</td>\n",
       "      <td>Owned</td>\n",
       "    </tr>\n",
       "    <tr>\n",
       "      <th>4</th>\n",
       "      <td>45</td>\n",
       "      <td>Female</td>\n",
       "      <td>100000</td>\n",
       "      <td>Bachelor's Degree</td>\n",
       "      <td>Married</td>\n",
       "      <td>3</td>\n",
       "      <td>Owned</td>\n",
       "    </tr>\n",
       "    <tr>\n",
       "      <th>...</th>\n",
       "      <td>...</td>\n",
       "      <td>...</td>\n",
       "      <td>...</td>\n",
       "      <td>...</td>\n",
       "      <td>...</td>\n",
       "      <td>...</td>\n",
       "      <td>...</td>\n",
       "    </tr>\n",
       "    <tr>\n",
       "      <th>130</th>\n",
       "      <td>31</td>\n",
       "      <td>Male</td>\n",
       "      <td>95000</td>\n",
       "      <td>Doctorate</td>\n",
       "      <td>Single</td>\n",
       "      <td>0</td>\n",
       "      <td>Rented</td>\n",
       "    </tr>\n",
       "    <tr>\n",
       "      <th>131</th>\n",
       "      <td>26</td>\n",
       "      <td>Female</td>\n",
       "      <td>55000</td>\n",
       "      <td>Bachelor's Degree</td>\n",
       "      <td>Married</td>\n",
       "      <td>1</td>\n",
       "      <td>Owned</td>\n",
       "    </tr>\n",
       "    <tr>\n",
       "      <th>132</th>\n",
       "      <td>32</td>\n",
       "      <td>Male</td>\n",
       "      <td>85000</td>\n",
       "      <td>Master's Degree</td>\n",
       "      <td>Single</td>\n",
       "      <td>0</td>\n",
       "      <td>Rented</td>\n",
       "    </tr>\n",
       "    <tr>\n",
       "      <th>133</th>\n",
       "      <td>29</td>\n",
       "      <td>Female</td>\n",
       "      <td>68000</td>\n",
       "      <td>Doctorate</td>\n",
       "      <td>Married</td>\n",
       "      <td>2</td>\n",
       "      <td>Owned</td>\n",
       "    </tr>\n",
       "    <tr>\n",
       "      <th>134</th>\n",
       "      <td>34</td>\n",
       "      <td>Male</td>\n",
       "      <td>105000</td>\n",
       "      <td>Bachelor's Degree</td>\n",
       "      <td>Married</td>\n",
       "      <td>1</td>\n",
       "      <td>Rented</td>\n",
       "    </tr>\n",
       "  </tbody>\n",
       "</table>\n",
       "<p>102 rows × 7 columns</p>\n",
       "</div>"
      ],
      "text/plain": [
       "     Age  Gender  Income            Education Marital Status  \\\n",
       "0     25  Female   50000    Bachelor's Degree         Single   \n",
       "1     30    Male  100000      Master's Degree        Married   \n",
       "2     35  Female   75000            Doctorate        Married   \n",
       "3     40    Male  125000  High School Diploma         Single   \n",
       "4     45  Female  100000    Bachelor's Degree        Married   \n",
       "..   ...     ...     ...                  ...            ...   \n",
       "130   31    Male   95000            Doctorate         Single   \n",
       "131   26  Female   55000    Bachelor's Degree        Married   \n",
       "132   32    Male   85000      Master's Degree         Single   \n",
       "133   29  Female   68000            Doctorate        Married   \n",
       "134   34    Male  105000    Bachelor's Degree        Married   \n",
       "\n",
       "     Number of Children Home Ownership  \n",
       "0                     0         Rented  \n",
       "1                     2          Owned  \n",
       "2                     1          Owned  \n",
       "3                     0          Owned  \n",
       "4                     3          Owned  \n",
       "..                  ...            ...  \n",
       "130                   0         Rented  \n",
       "131                   1          Owned  \n",
       "132                   0         Rented  \n",
       "133                   2          Owned  \n",
       "134                   1         Rented  \n",
       "\n",
       "[102 rows x 7 columns]"
      ]
     },
     "execution_count": 13,
     "metadata": {},
     "output_type": "execute_result"
    }
   ],
   "source": [
    "# Features(X)\n",
    "x_credit = df.iloc[:, 0:7]\n",
    "x_credit"
   ]
  },
  {
   "cell_type": "code",
   "execution_count": 14,
   "id": "a710255f-d048-42dc-bed6-4dc38cb0ea62",
   "metadata": {},
   "outputs": [
    {
     "data": {
      "text/plain": [
       "0         High\n",
       "1         High\n",
       "2         High\n",
       "3         High\n",
       "4         High\n",
       "        ...   \n",
       "130       High\n",
       "131    Average\n",
       "132       High\n",
       "133    Average\n",
       "134       High\n",
       "Name: Credit Score, Length: 102, dtype: object"
      ]
     },
     "execution_count": 14,
     "metadata": {},
     "output_type": "execute_result"
    }
   ],
   "source": [
    "# Target(Y)\n",
    "y_credit = df['Credit Score']\n",
    "y_credit"
   ]
  },
  {
   "cell_type": "markdown",
   "id": "f1c23f02-fd3d-424c-b05b-9ee6c42e6db7",
   "metadata": {},
   "source": [
    "Utilização do One Hot Encoder para o pré-processamento dos dados"
   ]
  },
  {
   "cell_type": "code",
   "execution_count": 25,
   "id": "1388ad5a-92e3-4eaa-b131-2028ebb8dde8",
   "metadata": {},
   "outputs": [],
   "source": [
    "from sklearn.preprocessing import OneHotEncoder\n",
    "from sklearn.compose import ColumnTransformer\n",
    "import numpy as np"
   ]
  },
  {
   "cell_type": "code",
   "execution_count": 16,
   "id": "42a5fe9c-1b4f-457a-9c9d-a445026cedf3",
   "metadata": {},
   "outputs": [],
   "source": [
    "OHE_credit = ColumnTransformer(transformers = [('OneHot', OneHotEncoder(), [1, 3, 4, 6])], remainder = 'passthrough')"
   ]
  },
  {
   "cell_type": "code",
   "execution_count": 17,
   "id": "f4e78725-30d9-40e7-9512-b16f9a4a914c",
   "metadata": {},
   "outputs": [],
   "source": [
    "x_credit = OHE_credit.fit_transform(x_credit)"
   ]
  },
  {
   "cell_type": "code",
   "execution_count": 18,
   "id": "055d2428-06de-4da1-9085-545833537270",
   "metadata": {},
   "outputs": [
    {
     "data": {
      "text/plain": [
       "array([[1.00e+00, 0.00e+00, 0.00e+00, ..., 2.50e+01, 5.00e+04, 0.00e+00],\n",
       "       [0.00e+00, 1.00e+00, 0.00e+00, ..., 3.00e+01, 1.00e+05, 2.00e+00],\n",
       "       [1.00e+00, 0.00e+00, 0.00e+00, ..., 3.50e+01, 7.50e+04, 1.00e+00],\n",
       "       ...,\n",
       "       [0.00e+00, 1.00e+00, 0.00e+00, ..., 3.20e+01, 8.50e+04, 0.00e+00],\n",
       "       [1.00e+00, 0.00e+00, 0.00e+00, ..., 2.90e+01, 6.80e+04, 2.00e+00],\n",
       "       [0.00e+00, 1.00e+00, 0.00e+00, ..., 3.40e+01, 1.05e+05, 1.00e+00]])"
      ]
     },
     "execution_count": 18,
     "metadata": {},
     "output_type": "execute_result"
    }
   ],
   "source": [
    "x_credit"
   ]
  },
  {
   "cell_type": "markdown",
   "id": "66b35996-642c-4dfa-afc7-a865d13bea49",
   "metadata": {},
   "source": [
    "Escalonamento com StandardScaler"
   ]
  },
  {
   "cell_type": "code",
   "execution_count": 19,
   "id": "5258ec10-b03e-4aeb-a3ea-66fecb823e75",
   "metadata": {},
   "outputs": [],
   "source": [
    "from sklearn.preprocessing import StandardScaler\n",
    "scaler_credit = StandardScaler()\n",
    "x_credit = scaler_credit.fit_transform(x_credit)"
   ]
  },
  {
   "cell_type": "code",
   "execution_count": 20,
   "id": "ac30ad56-0d0c-40e7-be8c-f4aafe71f9eb",
   "metadata": {},
   "outputs": [
    {
     "data": {
      "text/plain": [
       "array([[ 0.98058068, -0.98058068, -0.39886202, ..., -1.60978928,\n",
       "        -1.18758425, -0.73715445],\n",
       "       [-1.0198039 ,  1.0198039 , -0.39886202, ..., -1.03284442,\n",
       "         0.36242974,  1.50731582],\n",
       "       [ 0.98058068, -0.98058068, -0.39886202, ..., -0.45589956,\n",
       "        -0.41257725,  0.38508068],\n",
       "       ...,\n",
       "       [-1.0198039 ,  1.0198039 , -0.39886202, ..., -0.80206648,\n",
       "        -0.10257446, -0.73715445],\n",
       "       [ 0.98058068, -0.98058068, -0.39886202, ..., -1.14823339,\n",
       "        -0.62957921,  1.50731582],\n",
       "       [-1.0198039 ,  1.0198039 , -0.39886202, ..., -0.57128853,\n",
       "         0.51743114,  0.38508068]])"
      ]
     },
     "execution_count": 20,
     "metadata": {},
     "output_type": "execute_result"
    }
   ],
   "source": [
    "x_credit"
   ]
  },
  {
   "cell_type": "markdown",
   "id": "3e7dd4a7-9ea9-4fc3-aa05-58a50705bb2f",
   "metadata": {},
   "source": [
    "Utilização do Label Encoder para codificar o target(Y)"
   ]
  },
  {
   "cell_type": "code",
   "execution_count": 21,
   "id": "3785a490-31b3-4fc0-9ab2-1e8650da053d",
   "metadata": {},
   "outputs": [],
   "source": [
    "from sklearn.preprocessing import LabelEncoder"
   ]
  },
  {
   "cell_type": "code",
   "execution_count": 22,
   "id": "2ab2b189-a355-4365-b106-b9fe46d1b940",
   "metadata": {},
   "outputs": [],
   "source": [
    "LE_credit = LabelEncoder()\n",
    "y_credit = LE_credit.fit_transform(y_credit)"
   ]
  },
  {
   "cell_type": "code",
   "execution_count": 23,
   "id": "00a96b5f-d87c-438a-9166-0a8280f26776",
   "metadata": {},
   "outputs": [
    {
     "data": {
      "text/plain": [
       "array([1, 1, 1, 1, 1, 1, 0, 0, 1, 1, 1, 1, 2, 0, 1, 1, 1, 1, 2, 0, 1, 1,\n",
       "       1, 1, 2, 0, 1, 1, 1, 0, 1, 1, 1, 1, 1, 0, 0, 1, 1, 1, 1, 2, 0, 1,\n",
       "       1, 1, 1, 2, 0, 1, 1, 1, 1, 2, 0, 1, 1, 1, 0, 1, 1, 0, 1, 1, 1, 1,\n",
       "       1, 0, 0, 1, 1, 1, 1, 1, 1, 1, 1, 1, 1, 0, 1, 1, 0, 0, 1, 1, 1, 1,\n",
       "       1, 1, 1, 1, 1, 1, 1, 0, 1, 1, 0, 1, 0, 1])"
      ]
     },
     "execution_count": 23,
     "metadata": {},
     "output_type": "execute_result"
    }
   ],
   "source": [
    "y_credit"
   ]
  },
  {
   "cell_type": "code",
   "execution_count": 26,
   "id": "d78c92b7-5f0d-4ad6-9a57-5aeadb67f0df",
   "metadata": {},
   "outputs": [
    {
     "data": {
      "text/plain": [
       "array([0, 1, 2])"
      ]
     },
     "execution_count": 26,
     "metadata": {},
     "output_type": "execute_result"
    }
   ],
   "source": [
    "np.unique(y_credit)"
   ]
  },
  {
   "cell_type": "markdown",
   "id": "cb5cff17-8561-4229-86eb-0e9eb2817457",
   "metadata": {},
   "source": [
    "Separando em dados de treino e teste"
   ]
  },
  {
   "cell_type": "code",
   "execution_count": 27,
   "id": "a752c619-2af3-43bc-860a-97f7ac81a120",
   "metadata": {},
   "outputs": [],
   "source": [
    "from sklearn.model_selection import train_test_split"
   ]
  },
  {
   "cell_type": "code",
   "execution_count": 28,
   "id": "d42eaf26-c3c3-4e92-aa70-814d2911c132",
   "metadata": {},
   "outputs": [],
   "source": [
    "x_credit_treinamento, x_credit_teste, y_credit_treinamento, y_credit_teste = train_test_split(x_credit, y_credit, test_size = 0.25, random_state = 0)"
   ]
  },
  {
   "cell_type": "code",
   "execution_count": 29,
   "id": "30f449a7-c9ca-48d5-b49e-9bed742756aa",
   "metadata": {},
   "outputs": [
    {
     "data": {
      "text/plain": [
       "((76, 14), (76,))"
      ]
     },
     "execution_count": 29,
     "metadata": {},
     "output_type": "execute_result"
    }
   ],
   "source": [
    "x_credit_treinamento.shape, y_credit_treinamento.shape"
   ]
  },
  {
   "cell_type": "code",
   "execution_count": 30,
   "id": "101f04f9-1a26-4462-87f8-3b0643bdc3b3",
   "metadata": {},
   "outputs": [
    {
     "data": {
      "text/plain": [
       "((26, 14), (26,))"
      ]
     },
     "execution_count": 30,
     "metadata": {},
     "output_type": "execute_result"
    }
   ],
   "source": [
    "x_credit_teste.shape, y_credit_teste.shape"
   ]
  },
  {
   "cell_type": "markdown",
   "id": "5569c8a7-68e9-48b5-bfa8-c960d342258c",
   "metadata": {},
   "source": [
    "Salvando os dados de treino e teste"
   ]
  },
  {
   "cell_type": "code",
   "execution_count": 1,
   "id": "8025b530-0f40-49bb-8af4-08f0b4e0ec45",
   "metadata": {},
   "outputs": [],
   "source": [
    "import pickle"
   ]
  },
  {
   "cell_type": "code",
   "execution_count": 32,
   "id": "424ca6a1-da30-4afb-8aeb-8930407d6d74",
   "metadata": {},
   "outputs": [],
   "source": [
    "with open('Pickle/credit.pkl', mode = 'wb') as f:\n",
    "    pickle.dump([x_credit_treinamento, y_credit_treinamento, x_credit_teste, y_credit_teste], f)"
   ]
  },
  {
   "cell_type": "code",
   "execution_count": 2,
   "id": "cf8769e8-699c-4ac9-92e5-cb1cfa96a300",
   "metadata": {},
   "outputs": [],
   "source": [
    "with open('Pickle/credit.pkl', mode = 'rb') as f:\n",
    "    x_credit_treinamento, y_credit_treinamento, x_credit_teste, y_credit_teste = pickle.load(f)"
   ]
  },
  {
   "cell_type": "code",
   "execution_count": 3,
   "id": "0c48163c-8039-4596-b3c2-18dee51da394",
   "metadata": {},
   "outputs": [
    {
     "data": {
      "text/plain": [
       "((76, 14), (76,))"
      ]
     },
     "execution_count": 3,
     "metadata": {},
     "output_type": "execute_result"
    }
   ],
   "source": [
    "x_credit_treinamento.shape, y_credit_treinamento.shape"
   ]
  },
  {
   "cell_type": "code",
   "execution_count": 4,
   "id": "38cfad87-ff73-48c0-ad16-4376c2011f67",
   "metadata": {},
   "outputs": [
    {
     "data": {
      "text/plain": [
       "((26, 14), (26,))"
      ]
     },
     "execution_count": 4,
     "metadata": {},
     "output_type": "execute_result"
    }
   ],
   "source": [
    "x_credit_teste.shape, y_credit_teste.shape"
   ]
  },
  {
   "cell_type": "markdown",
   "id": "1ea79b5e-b0e8-4e97-b83e-3968c19c46af",
   "metadata": {},
   "source": [
    "### Treinando modelo Naive Bayes"
   ]
  },
  {
   "cell_type": "code",
   "execution_count": 5,
   "id": "aec24169-627c-4874-981c-05197e1aa370",
   "metadata": {},
   "outputs": [],
   "source": [
    "from sklearn.naive_bayes import GaussianNB"
   ]
  },
  {
   "cell_type": "code",
   "execution_count": 6,
   "id": "28d19e23-f42b-45ec-b33e-c2e0b9b821ac",
   "metadata": {},
   "outputs": [
    {
     "data": {
      "text/html": [
       "<style>#sk-container-id-1 {color: black;}#sk-container-id-1 pre{padding: 0;}#sk-container-id-1 div.sk-toggleable {background-color: white;}#sk-container-id-1 label.sk-toggleable__label {cursor: pointer;display: block;width: 100%;margin-bottom: 0;padding: 0.3em;box-sizing: border-box;text-align: center;}#sk-container-id-1 label.sk-toggleable__label-arrow:before {content: \"▸\";float: left;margin-right: 0.25em;color: #696969;}#sk-container-id-1 label.sk-toggleable__label-arrow:hover:before {color: black;}#sk-container-id-1 div.sk-estimator:hover label.sk-toggleable__label-arrow:before {color: black;}#sk-container-id-1 div.sk-toggleable__content {max-height: 0;max-width: 0;overflow: hidden;text-align: left;background-color: #f0f8ff;}#sk-container-id-1 div.sk-toggleable__content pre {margin: 0.2em;color: black;border-radius: 0.25em;background-color: #f0f8ff;}#sk-container-id-1 input.sk-toggleable__control:checked~div.sk-toggleable__content {max-height: 200px;max-width: 100%;overflow: auto;}#sk-container-id-1 input.sk-toggleable__control:checked~label.sk-toggleable__label-arrow:before {content: \"▾\";}#sk-container-id-1 div.sk-estimator input.sk-toggleable__control:checked~label.sk-toggleable__label {background-color: #d4ebff;}#sk-container-id-1 div.sk-label input.sk-toggleable__control:checked~label.sk-toggleable__label {background-color: #d4ebff;}#sk-container-id-1 input.sk-hidden--visually {border: 0;clip: rect(1px 1px 1px 1px);clip: rect(1px, 1px, 1px, 1px);height: 1px;margin: -1px;overflow: hidden;padding: 0;position: absolute;width: 1px;}#sk-container-id-1 div.sk-estimator {font-family: monospace;background-color: #f0f8ff;border: 1px dotted black;border-radius: 0.25em;box-sizing: border-box;margin-bottom: 0.5em;}#sk-container-id-1 div.sk-estimator:hover {background-color: #d4ebff;}#sk-container-id-1 div.sk-parallel-item::after {content: \"\";width: 100%;border-bottom: 1px solid gray;flex-grow: 1;}#sk-container-id-1 div.sk-label:hover label.sk-toggleable__label {background-color: #d4ebff;}#sk-container-id-1 div.sk-serial::before {content: \"\";position: absolute;border-left: 1px solid gray;box-sizing: border-box;top: 0;bottom: 0;left: 50%;z-index: 0;}#sk-container-id-1 div.sk-serial {display: flex;flex-direction: column;align-items: center;background-color: white;padding-right: 0.2em;padding-left: 0.2em;position: relative;}#sk-container-id-1 div.sk-item {position: relative;z-index: 1;}#sk-container-id-1 div.sk-parallel {display: flex;align-items: stretch;justify-content: center;background-color: white;position: relative;}#sk-container-id-1 div.sk-item::before, #sk-container-id-1 div.sk-parallel-item::before {content: \"\";position: absolute;border-left: 1px solid gray;box-sizing: border-box;top: 0;bottom: 0;left: 50%;z-index: -1;}#sk-container-id-1 div.sk-parallel-item {display: flex;flex-direction: column;z-index: 1;position: relative;background-color: white;}#sk-container-id-1 div.sk-parallel-item:first-child::after {align-self: flex-end;width: 50%;}#sk-container-id-1 div.sk-parallel-item:last-child::after {align-self: flex-start;width: 50%;}#sk-container-id-1 div.sk-parallel-item:only-child::after {width: 0;}#sk-container-id-1 div.sk-dashed-wrapped {border: 1px dashed gray;margin: 0 0.4em 0.5em 0.4em;box-sizing: border-box;padding-bottom: 0.4em;background-color: white;}#sk-container-id-1 div.sk-label label {font-family: monospace;font-weight: bold;display: inline-block;line-height: 1.2em;}#sk-container-id-1 div.sk-label-container {text-align: center;}#sk-container-id-1 div.sk-container {/* jupyter's `normalize.less` sets `[hidden] { display: none; }` but bootstrap.min.css set `[hidden] { display: none !important; }` so we also need the `!important` here to be able to override the default hidden behavior on the sphinx rendered scikit-learn.org. See: https://github.com/scikit-learn/scikit-learn/issues/21755 */display: inline-block !important;position: relative;}#sk-container-id-1 div.sk-text-repr-fallback {display: none;}</style><div id=\"sk-container-id-1\" class=\"sk-top-container\"><div class=\"sk-text-repr-fallback\"><pre>GaussianNB()</pre><b>In a Jupyter environment, please rerun this cell to show the HTML representation or trust the notebook. <br />On GitHub, the HTML representation is unable to render, please try loading this page with nbviewer.org.</b></div><div class=\"sk-container\" hidden><div class=\"sk-item\"><div class=\"sk-estimator sk-toggleable\"><input class=\"sk-toggleable__control sk-hidden--visually\" id=\"sk-estimator-id-1\" type=\"checkbox\" checked><label for=\"sk-estimator-id-1\" class=\"sk-toggleable__label sk-toggleable__label-arrow\">GaussianNB</label><div class=\"sk-toggleable__content\"><pre>GaussianNB()</pre></div></div></div></div></div>"
      ],
      "text/plain": [
       "GaussianNB()"
      ]
     },
     "execution_count": 6,
     "metadata": {},
     "output_type": "execute_result"
    }
   ],
   "source": [
    "naive_credit = GaussianNB()\n",
    "naive_credit.fit(x_credit_treinamento, y_credit_treinamento)"
   ]
  },
  {
   "cell_type": "code",
   "execution_count": 7,
   "id": "7c76c16a-1b6d-4765-ae82-866c4a868060",
   "metadata": {},
   "outputs": [],
   "source": [
    "previsao_credit = naive_credit.predict(x_credit_teste)"
   ]
  },
  {
   "cell_type": "code",
   "execution_count": 8,
   "id": "6efb648a-451d-4a4a-89b7-254682aff2b4",
   "metadata": {},
   "outputs": [
    {
     "data": {
      "text/plain": [
       "array([1, 1, 1, 1, 1, 1, 1, 1, 0, 0, 2, 1, 1, 0, 0, 1, 1, 2, 1, 1, 1, 1,\n",
       "       1, 0, 1, 0])"
      ]
     },
     "execution_count": 8,
     "metadata": {},
     "output_type": "execute_result"
    }
   ],
   "source": [
    "previsao_credit"
   ]
  },
  {
   "cell_type": "code",
   "execution_count": 9,
   "id": "a131fc93-b3d4-4d15-80e7-a17f4785a399",
   "metadata": {},
   "outputs": [
    {
     "data": {
      "text/plain": [
       "array([1, 1, 1, 1, 1, 1, 1, 1, 0, 0, 2, 1, 1, 0, 0, 1, 1, 2, 1, 1, 1, 1,\n",
       "       1, 0, 1, 0])"
      ]
     },
     "execution_count": 9,
     "metadata": {},
     "output_type": "execute_result"
    }
   ],
   "source": [
    "y_credit_teste"
   ]
  },
  {
   "cell_type": "code",
   "execution_count": 10,
   "id": "0d707b90-f78d-4735-b43b-6c99ba4ed4b8",
   "metadata": {},
   "outputs": [],
   "source": [
    "from sklearn.metrics import accuracy_score, classification_report"
   ]
  },
  {
   "cell_type": "code",
   "execution_count": 11,
   "id": "878e69af-9652-4d32-94fc-43261c5b1abf",
   "metadata": {},
   "outputs": [
    {
     "data": {
      "text/plain": [
       "1.0"
      ]
     },
     "execution_count": 11,
     "metadata": {},
     "output_type": "execute_result"
    }
   ],
   "source": [
    "# 100% de acerto\n",
    "round(accuracy_score(y_credit_teste, previsao_credit), 2)"
   ]
  },
  {
   "cell_type": "code",
   "execution_count": 12,
   "id": "e3547dbd-ff42-419c-b61f-3777ec2d7c25",
   "metadata": {},
   "outputs": [
    {
     "name": "stdout",
     "output_type": "stream",
     "text": [
      "              precision    recall  f1-score   support\n",
      "\n",
      "           0       1.00      1.00      1.00         6\n",
      "           1       1.00      1.00      1.00        18\n",
      "           2       1.00      1.00      1.00         2\n",
      "\n",
      "    accuracy                           1.00        26\n",
      "   macro avg       1.00      1.00      1.00        26\n",
      "weighted avg       1.00      1.00      1.00        26\n",
      "\n"
     ]
    }
   ],
   "source": [
    "print(classification_report(y_credit_teste, previsao_credit))"
   ]
  },
  {
   "cell_type": "code",
   "execution_count": 13,
   "id": "09310c2f-2f23-482c-9df3-e0bdb832cc2c",
   "metadata": {},
   "outputs": [
    {
     "data": {
      "text/plain": [
       "1.0"
      ]
     },
     "execution_count": 13,
     "metadata": {},
     "output_type": "execute_result"
    },
    {
     "data": {
      "image/png": "[encoded data removed]",
      "text/plain": [
       "<Figure size 800x550 with 1 Axes>"
      ]
     },
     "metadata": {},
     "output_type": "display_data"
    }
   ],
   "source": [
    "from yellowbrick.classifier import ConfusionMatrix\n",
    "cm = ConfusionMatrix(naive_credit)\n",
    "cm.fit(x_credit_treinamento, y_credit_treinamento)\n",
    "cm.score(x_credit_teste, y_credit_teste)"
   ]
  },
  {
   "cell_type": "markdown",
   "id": "d3dd144c-9e39-4b28-8199-0c22f6a847ce",
   "metadata": {},
   "source": [
    "## Modelo treinado\n",
    "Todos os dados foram pré processados e inseridos no modelo naive bayes, com uma previsão de 100% de acerto.<BR><br>\n",
    "\n",
    "Mas como a previsão foi boa até demais, pode ser que isso seja um overfitting, quando os dados tem um desempenho bom no treinamento mas tem um mal desempenho com os dados de teste."
   ]
  },
  {
   "cell_type": "code",
   "execution_count": 16,
   "id": "99396214-5ec9-4f11-8ff1-b6e0bc7a1e8e",
   "metadata": {},
   "outputs": [
    {
     "name": "stdout",
     "output_type": "stream",
     "text": [
      "Treino: 0.89\n"
     ]
    }
   ],
   "source": [
    "# Previsão de treino\n",
    "previsao_treino = naive_credit.predict(x_credit_treinamento)\n",
    "print(f\"Treino: {round(accuracy_score(y_credit_treinamento, previsao_treino), 2)}\")"
   ]
  },
  {
   "cell_type": "code",
   "execution_count": 19,
   "id": "f72c710f-38ba-4ce7-8592-bf9a332165d4",
   "metadata": {},
   "outputs": [
    {
     "name": "stdout",
     "output_type": "stream",
     "text": [
      "Teste: 1.0\n"
     ]
    }
   ],
   "source": [
    "# Previsão de teste\n",
    "previsao_teste = naive_credit.predict(x_credit_teste)\n",
    "print(f\"Teste: {round(accuracy_score(y_credit_teste, previsao_teste), 2)}\")"
   ]
  },
  {
   "cell_type": "markdown",
   "id": "dec738a2-33af-45fe-9dbf-f455b1cffc9e",
   "metadata": {},
   "source": [
    "## Problema detectado pelo GPT: Vazamento de dados\n",
    "Quando um modelo tem um desempenho melhor no teste do que no treino, isso não é normal ou esperado, e um dos motivos mais suspeitos é o vazamento de dados(data leakage), o que foi exatamente o que aconteceu nesse caso.<br><br>\n",
    "\n",
    "### Separação de treino e teste antes do pré-processamento\n",
    "O vazamento de dados acontece quando o modelo de machine learning utiliza informações dos dados de treinamento que não deveriam ser usadas, que no caso são os dados de teste, o que atrapalha na previsão dos resultados. Portanto, os dados devem ser separados em treino e teste antes de utilizar o processamento de dados de One Hot Encoder, Label encoder e Standard Scaler, porque caso contrário, o modelo vai ter acesso aos dados de teste durante o treinamento e haverá vazamento de dados."
   ]
  },
  {
   "cell_type": "code",
   "execution_count": 3,
   "id": "1885d623-1c8e-45f8-855b-44d9a739cc37",
   "metadata": {},
   "outputs": [
    {
     "data": {
      "text/html": [
       "<div>\n",
       "<style scoped>\n",
       "    .dataframe tbody tr th:only-of-type {\n",
       "        vertical-align: middle;\n",
       "    }\n",
       "\n",
       "    .dataframe tbody tr th {\n",
       "        vertical-align: top;\n",
       "    }\n",
       "\n",
       "    .dataframe thead th {\n",
       "        text-align: right;\n",
       "    }\n",
       "</style>\n",
       "<table border=\"1\" class=\"dataframe\">\n",
       "  <thead>\n",
       "    <tr style=\"text-align: right;\">\n",
       "      <th></th>\n",
       "      <th>Age</th>\n",
       "      <th>Gender</th>\n",
       "      <th>Income</th>\n",
       "      <th>Education</th>\n",
       "      <th>Marital Status</th>\n",
       "      <th>Number of Children</th>\n",
       "      <th>Home Ownership</th>\n",
       "    </tr>\n",
       "  </thead>\n",
       "  <tbody>\n",
       "    <tr>\n",
       "      <th>0</th>\n",
       "      <td>25</td>\n",
       "      <td>Female</td>\n",
       "      <td>50000</td>\n",
       "      <td>Bachelor's Degree</td>\n",
       "      <td>Single</td>\n",
       "      <td>0</td>\n",
       "      <td>Rented</td>\n",
       "    </tr>\n",
       "    <tr>\n",
       "      <th>1</th>\n",
       "      <td>30</td>\n",
       "      <td>Male</td>\n",
       "      <td>100000</td>\n",
       "      <td>Master's Degree</td>\n",
       "      <td>Married</td>\n",
       "      <td>2</td>\n",
       "      <td>Owned</td>\n",
       "    </tr>\n",
       "    <tr>\n",
       "      <th>2</th>\n",
       "      <td>35</td>\n",
       "      <td>Female</td>\n",
       "      <td>75000</td>\n",
       "      <td>Doctorate</td>\n",
       "      <td>Married</td>\n",
       "      <td>1</td>\n",
       "      <td>Owned</td>\n",
       "    </tr>\n",
       "    <tr>\n",
       "      <th>3</th>\n",
       "      <td>40</td>\n",
       "      <td>Male</td>\n",
       "      <td>125000</td>\n",
       "      <td>High School Diploma</td>\n",
       "      <td>Single</td>\n",
       "      <td>0</td>\n",
       "      <td>Owned</td>\n",
       "    </tr>\n",
       "    <tr>\n",
       "      <th>4</th>\n",
       "      <td>45</td>\n",
       "      <td>Female</td>\n",
       "      <td>100000</td>\n",
       "      <td>Bachelor's Degree</td>\n",
       "      <td>Married</td>\n",
       "      <td>3</td>\n",
       "      <td>Owned</td>\n",
       "    </tr>\n",
       "    <tr>\n",
       "      <th>...</th>\n",
       "      <td>...</td>\n",
       "      <td>...</td>\n",
       "      <td>...</td>\n",
       "      <td>...</td>\n",
       "      <td>...</td>\n",
       "      <td>...</td>\n",
       "      <td>...</td>\n",
       "    </tr>\n",
       "    <tr>\n",
       "      <th>159</th>\n",
       "      <td>29</td>\n",
       "      <td>Female</td>\n",
       "      <td>27500</td>\n",
       "      <td>High School Diploma</td>\n",
       "      <td>Single</td>\n",
       "      <td>0</td>\n",
       "      <td>Rented</td>\n",
       "    </tr>\n",
       "    <tr>\n",
       "      <th>160</th>\n",
       "      <td>34</td>\n",
       "      <td>Male</td>\n",
       "      <td>47500</td>\n",
       "      <td>Associate's Degree</td>\n",
       "      <td>Single</td>\n",
       "      <td>0</td>\n",
       "      <td>Rented</td>\n",
       "    </tr>\n",
       "    <tr>\n",
       "      <th>161</th>\n",
       "      <td>39</td>\n",
       "      <td>Female</td>\n",
       "      <td>62500</td>\n",
       "      <td>Bachelor's Degree</td>\n",
       "      <td>Married</td>\n",
       "      <td>2</td>\n",
       "      <td>Owned</td>\n",
       "    </tr>\n",
       "    <tr>\n",
       "      <th>162</th>\n",
       "      <td>44</td>\n",
       "      <td>Male</td>\n",
       "      <td>87500</td>\n",
       "      <td>Master's Degree</td>\n",
       "      <td>Single</td>\n",
       "      <td>0</td>\n",
       "      <td>Owned</td>\n",
       "    </tr>\n",
       "    <tr>\n",
       "      <th>163</th>\n",
       "      <td>49</td>\n",
       "      <td>Female</td>\n",
       "      <td>77500</td>\n",
       "      <td>Doctorate</td>\n",
       "      <td>Married</td>\n",
       "      <td>1</td>\n",
       "      <td>Owned</td>\n",
       "    </tr>\n",
       "  </tbody>\n",
       "</table>\n",
       "<p>164 rows × 7 columns</p>\n",
       "</div>"
      ],
      "text/plain": [
       "     Age  Gender  Income            Education Marital Status  \\\n",
       "0     25  Female   50000    Bachelor's Degree         Single   \n",
       "1     30    Male  100000      Master's Degree        Married   \n",
       "2     35  Female   75000            Doctorate        Married   \n",
       "3     40    Male  125000  High School Diploma         Single   \n",
       "4     45  Female  100000    Bachelor's Degree        Married   \n",
       "..   ...     ...     ...                  ...            ...   \n",
       "159   29  Female   27500  High School Diploma         Single   \n",
       "160   34    Male   47500   Associate's Degree         Single   \n",
       "161   39  Female   62500    Bachelor's Degree        Married   \n",
       "162   44    Male   87500      Master's Degree         Single   \n",
       "163   49  Female   77500            Doctorate        Married   \n",
       "\n",
       "     Number of Children Home Ownership  \n",
       "0                     0         Rented  \n",
       "1                     2          Owned  \n",
       "2                     1          Owned  \n",
       "3                     0          Owned  \n",
       "4                     3          Owned  \n",
       "..                  ...            ...  \n",
       "159                   0         Rented  \n",
       "160                   0         Rented  \n",
       "161                   2          Owned  \n",
       "162                   0          Owned  \n",
       "163                   1          Owned  \n",
       "\n",
       "[164 rows x 7 columns]"
      ]
     },
     "execution_count": 3,
     "metadata": {},
     "output_type": "execute_result"
    }
   ],
   "source": [
    "# Features(X)\n",
    "x_credit = df.iloc[:, 0:7]\n",
    "x_credit"
   ]
  },
  {
   "cell_type": "code",
   "execution_count": 4,
   "id": "6d51b70d-3643-408a-9103-8c592fe7d39c",
   "metadata": {},
   "outputs": [
    {
     "data": {
      "text/plain": [
       "0         High\n",
       "1         High\n",
       "2         High\n",
       "3         High\n",
       "4         High\n",
       "        ...   \n",
       "159        Low\n",
       "160    Average\n",
       "161       High\n",
       "162       High\n",
       "163       High\n",
       "Name: Credit Score, Length: 164, dtype: object"
      ]
     },
     "execution_count": 4,
     "metadata": {},
     "output_type": "execute_result"
    }
   ],
   "source": [
    "# Target(Y)\n",
    "y_credit = df['Credit Score']\n",
    "y_credit"
   ]
  },
  {
   "cell_type": "code",
   "execution_count": 9,
   "id": "0fe98b22-a65c-4513-87b0-8602dc944fd6",
   "metadata": {},
   "outputs": [],
   "source": [
    "from sklearn.model_selection import train_test_split\n",
    "x_credit_treinamento, x_credit_teste, y_credit_treinamento, y_credit_teste = train_test_split(x_credit, y_credit, test_size = 0.25, random_state = 0)"
   ]
  },
  {
   "cell_type": "markdown",
   "id": "2c0d71f3-dccf-477e-94bf-73338794dd29",
   "metadata": {},
   "source": [
    "### Pré-processamento dos dados"
   ]
  },
  {
   "cell_type": "code",
   "execution_count": 15,
   "id": "fdebf396-1f48-4353-ab75-e6261e496072",
   "metadata": {},
   "outputs": [],
   "source": [
    "from sklearn.preprocessing import OneHotEncoder\n",
    "from sklearn.compose import ColumnTransformer\n",
    "import numpy as np"
   ]
  },
  {
   "cell_type": "code",
   "execution_count": 22,
   "id": "1473c51e-c6c6-4286-9b15-5ffc63b764b8",
   "metadata": {},
   "outputs": [],
   "source": [
    "OHE_credit = ColumnTransformer(transformers = [('OneHot', OneHotEncoder(), [1, 3, 4, 6])], remainder = 'passthrough')\n",
    "x_credit_treinamento = OHE_credit.fit_transform(x_credit_treinamento)\n",
    "x_credit_teste = OHE_credit.fit_transform(x_credit_teste)"
   ]
  },
  {
   "cell_type": "code",
   "execution_count": 23,
   "id": "41d9b3e2-c8f2-4aa6-8cdf-883ee864f639",
   "metadata": {},
   "outputs": [],
   "source": [
    "from sklearn.preprocessing import StandardScaler\n",
    "scaler_credit = StandardScaler()\n",
    "x_credit_treinamento = scaler_credit.fit_transform(x_credit_treinamento)\n",
    "x_credit_teste = scaler_credit.fit_transform(x_credit_teste)"
   ]
  },
  {
   "cell_type": "code",
   "execution_count": 24,
   "id": "661eb41b-2daa-4306-8af4-7236fd291337",
   "metadata": {},
   "outputs": [],
   "source": [
    "from sklearn.preprocessing import LabelEncoder\n",
    "LE_credit = LabelEncoder()\n",
    "y_credit_treinamento = LE_credit.fit_transform(y_credit_treinamento)\n",
    "y_credit_teste = LE_credit.fit_transform(y_credit_teste)"
   ]
  },
  {
   "cell_type": "code",
   "execution_count": 25,
   "id": "836508bc-f3fc-4f0c-bd1e-3c6bd5c47045",
   "metadata": {},
   "outputs": [
    {
     "data": {
      "text/plain": [
       "((123, 14), (123,))"
      ]
     },
     "execution_count": 25,
     "metadata": {},
     "output_type": "execute_result"
    }
   ],
   "source": [
    "x_credit_treinamento.shape, y_credit_treinamento.shape"
   ]
  },
  {
   "cell_type": "code",
   "execution_count": 26,
   "id": "859272e9-7086-4241-a6c8-76c1e92e5697",
   "metadata": {},
   "outputs": [
    {
     "data": {
      "text/plain": [
       "((41, 14), (41,))"
      ]
     },
     "execution_count": 26,
     "metadata": {},
     "output_type": "execute_result"
    }
   ],
   "source": [
    "x_credit_teste.shape, y_credit_teste.shape"
   ]
  },
  {
   "cell_type": "code",
   "execution_count": 27,
   "id": "600209ac-1a92-4e3b-aac7-7a4475d23b31",
   "metadata": {},
   "outputs": [],
   "source": [
    "import pickle\n",
    "with open('Pickle/credit.pkl', mode = 'wb') as f:\n",
    "    pickle.dump([x_credit_treinamento, y_credit_treinamento, x_credit_teste, y_credit_teste], f)"
   ]
  },
  {
   "cell_type": "markdown",
   "id": "5f53089a-1076-44ec-97b4-58abfdb7ad3b",
   "metadata": {},
   "source": [
    "## Retreinando o modelo Naive Bayes"
   ]
  },
  {
   "cell_type": "code",
   "execution_count": 6,
   "id": "52b08e0c-14c4-4614-aa0d-6f281cfd4110",
   "metadata": {},
   "outputs": [],
   "source": [
    "import pickle\n",
    "with open('Pickle/credit.pkl', mode = 'rb') as f:\n",
    "    x_credit_treinamento, y_credit_treinamento, x_credit_teste, y_credit_teste = pickle.load(f)"
   ]
  },
  {
   "cell_type": "code",
   "execution_count": 7,
   "id": "17479ef0-177e-43c1-959c-75e0e41ebe77",
   "metadata": {},
   "outputs": [],
   "source": [
    "from sklearn.naive_bayes import GaussianNB"
   ]
  },
  {
   "cell_type": "code",
   "execution_count": 8,
   "id": "7dbd6faa-986b-4fb4-b7a2-5ea2d1a7644b",
   "metadata": {},
   "outputs": [],
   "source": [
    "naive_credit = GaussianNB()\n",
    "naive_credit.fit(x_credit_treinamento, y_credit_treinamento)\n",
    "previsao_credit = naive_credit.predict(x_credit_teste)"
   ]
  },
  {
   "cell_type": "code",
   "execution_count": 9,
   "id": "66a8d226-83ed-49b0-9d0d-3c38f975103a",
   "metadata": {},
   "outputs": [
    {
     "data": {
      "text/plain": [
       "array([1, 1, 1, 1, 1, 1, 1, 1, 1, 1, 1, 1, 1, 1, 1, 1, 1, 1, 1, 1, 1, 1,\n",
       "       1, 1, 1, 1, 1, 1, 1, 1, 1, 1, 1, 1, 1, 1, 1, 1, 1, 1, 1])"
      ]
     },
     "execution_count": 9,
     "metadata": {},
     "output_type": "execute_result"
    }
   ],
   "source": [
    "previsao_credit"
   ]
  },
  {
   "cell_type": "code",
   "execution_count": 10,
   "id": "124c7bb2-578d-45f5-abb3-e63c85bfbc7d",
   "metadata": {},
   "outputs": [
    {
     "data": {
      "text/plain": [
       "array([1, 1, 0, 0, 1, 1, 1, 1, 1, 1, 1, 1, 1, 1, 0, 1, 1, 1, 1, 1, 1, 1,\n",
       "       1, 1, 2, 1, 1, 0, 1, 1, 1, 0, 1, 2, 1, 0, 0, 1, 0, 1, 1])"
      ]
     },
     "execution_count": 10,
     "metadata": {},
     "output_type": "execute_result"
    }
   ],
   "source": [
    "y_credit_teste"
   ]
  },
  {
   "cell_type": "code",
   "execution_count": 11,
   "id": "3d2c030a-31fe-41af-bc7f-624c346bb82c",
   "metadata": {},
   "outputs": [
    {
     "data": {
      "text/plain": [
       "0.76"
      ]
     },
     "execution_count": 11,
     "metadata": {},
     "output_type": "execute_result"
    }
   ],
   "source": [
    "from sklearn.metrics import accuracy_score, classification_report\n",
    "# 100% de acerto\n",
    "round(accuracy_score(y_credit_teste, previsao_credit), 2)"
   ]
  },
  {
   "cell_type": "code",
   "execution_count": 12,
   "id": "ecf7dcc0-caa9-46e6-9715-deea4ab411e2",
   "metadata": {},
   "outputs": [
    {
     "name": "stdout",
     "output_type": "stream",
     "text": [
      "              precision    recall  f1-score   support\n",
      "\n",
      "           0       0.00      0.00      0.00         8\n",
      "           1       0.76      1.00      0.86        31\n",
      "           2       0.00      0.00      0.00         2\n",
      "\n",
      "    accuracy                           0.76        41\n",
      "   macro avg       0.25      0.33      0.29        41\n",
      "weighted avg       0.57      0.76      0.65        41\n",
      "\n"
     ]
    },
    {
     "name": "stderr",
     "output_type": "stream",
     "text": [
      "C:\\Users\\joaop\\AppData\\Roaming\\Python\\Python38\\site-packages\\sklearn\\metrics\\_classification.py:1471: UndefinedMetricWarning: Precision and F-score are ill-defined and being set to 0.0 in labels with no predicted samples. Use `zero_division` parameter to control this behavior.\n",
      "  _warn_prf(average, modifier, msg_start, len(result))\n",
      "C:\\Users\\joaop\\AppData\\Roaming\\Python\\Python38\\site-packages\\sklearn\\metrics\\_classification.py:1471: UndefinedMetricWarning: Precision and F-score are ill-defined and being set to 0.0 in labels with no predicted samples. Use `zero_division` parameter to control this behavior.\n",
      "  _warn_prf(average, modifier, msg_start, len(result))\n",
      "C:\\Users\\joaop\\AppData\\Roaming\\Python\\Python38\\site-packages\\sklearn\\metrics\\_classification.py:1471: UndefinedMetricWarning: Precision and F-score are ill-defined and being set to 0.0 in labels with no predicted samples. Use `zero_division` parameter to control this behavior.\n",
      "  _warn_prf(average, modifier, msg_start, len(result))\n"
     ]
    }
   ],
   "source": [
    "print(classification_report(y_credit_teste, previsao_credit))"
   ]
  },
  {
   "cell_type": "code",
   "execution_count": 13,
   "id": "1a059725-88fb-435c-9f35-82c8f1f3a6fa",
   "metadata": {},
   "outputs": [
    {
     "data": {
      "text/plain": [
       "0.7560975609756098"
      ]
     },
     "execution_count": 13,
     "metadata": {},
     "output_type": "execute_result"
    },
    {
     "data": {
      "image/png": "[encoded data removed]",
      "text/plain": [
       "<Figure size 800x550 with 1 Axes>"
      ]
     },
     "metadata": {},
     "output_type": "display_data"
    }
   ],
   "source": [
    "from yellowbrick.classifier import ConfusionMatrix\n",
    "cm = ConfusionMatrix(naive_credit)\n",
    "cm.fit(x_credit_treinamento, y_credit_treinamento)\n",
    "cm.score(x_credit_teste, y_credit_teste)"
   ]
  },
  {
   "cell_type": "code",
   "execution_count": 15,
   "id": "0615ed34-1acc-44cb-9a31-650eb3e5ba1e",
   "metadata": {},
   "outputs": [],
   "source": [
    "import numpy as np"
   ]
  },
  {
   "cell_type": "code",
   "execution_count": 16,
   "id": "e8e547fd-8f85-41d9-b7e3-1c0a122a9e0b",
   "metadata": {},
   "outputs": [
    {
     "data": {
      "text/plain": [
       "array([28, 82, 13], dtype=int64)"
      ]
     },
     "execution_count": 16,
     "metadata": {},
     "output_type": "execute_result"
    }
   ],
   "source": [
    "np.bincount(y_credit_treinamento)"
   ]
  },
  {
   "cell_type": "code",
   "execution_count": 18,
   "id": "aac94bfd-3583-49bb-bd87-f56fa4d7cff4",
   "metadata": {},
   "outputs": [],
   "source": [
    "from sklearn.ensemble import RandomForestClassifier"
   ]
  },
  {
   "cell_type": "code",
   "execution_count": 22,
   "id": "c4721423-d707-461f-937c-d4b82e97db72",
   "metadata": {},
   "outputs": [
    {
     "data": {
      "text/html": [
       "<style>#sk-container-id-1 {color: black;}#sk-container-id-1 pre{padding: 0;}#sk-container-id-1 div.sk-toggleable {background-color: white;}#sk-container-id-1 label.sk-toggleable__label {cursor: pointer;display: block;width: 100%;margin-bottom: 0;padding: 0.3em;box-sizing: border-box;text-align: center;}#sk-container-id-1 label.sk-toggleable__label-arrow:before {content: \"▸\";float: left;margin-right: 0.25em;color: #696969;}#sk-container-id-1 label.sk-toggleable__label-arrow:hover:before {color: black;}#sk-container-id-1 div.sk-estimator:hover label.sk-toggleable__label-arrow:before {color: black;}#sk-container-id-1 div.sk-toggleable__content {max-height: 0;max-width: 0;overflow: hidden;text-align: left;background-color: #f0f8ff;}#sk-container-id-1 div.sk-toggleable__content pre {margin: 0.2em;color: black;border-radius: 0.25em;background-color: #f0f8ff;}#sk-container-id-1 input.sk-toggleable__control:checked~div.sk-toggleable__content {max-height: 200px;max-width: 100%;overflow: auto;}#sk-container-id-1 input.sk-toggleable__control:checked~label.sk-toggleable__label-arrow:before {content: \"▾\";}#sk-container-id-1 div.sk-estimator input.sk-toggleable__control:checked~label.sk-toggleable__label {background-color: #d4ebff;}#sk-container-id-1 div.sk-label input.sk-toggleable__control:checked~label.sk-toggleable__label {background-color: #d4ebff;}#sk-container-id-1 input.sk-hidden--visually {border: 0;clip: rect(1px 1px 1px 1px);clip: rect(1px, 1px, 1px, 1px);height: 1px;margin: -1px;overflow: hidden;padding: 0;position: absolute;width: 1px;}#sk-container-id-1 div.sk-estimator {font-family: monospace;background-color: #f0f8ff;border: 1px dotted black;border-radius: 0.25em;box-sizing: border-box;margin-bottom: 0.5em;}#sk-container-id-1 div.sk-estimator:hover {background-color: #d4ebff;}#sk-container-id-1 div.sk-parallel-item::after {content: \"\";width: 100%;border-bottom: 1px solid gray;flex-grow: 1;}#sk-container-id-1 div.sk-label:hover label.sk-toggleable__label {background-color: #d4ebff;}#sk-container-id-1 div.sk-serial::before {content: \"\";position: absolute;border-left: 1px solid gray;box-sizing: border-box;top: 0;bottom: 0;left: 50%;z-index: 0;}#sk-container-id-1 div.sk-serial {display: flex;flex-direction: column;align-items: center;background-color: white;padding-right: 0.2em;padding-left: 0.2em;position: relative;}#sk-container-id-1 div.sk-item {position: relative;z-index: 1;}#sk-container-id-1 div.sk-parallel {display: flex;align-items: stretch;justify-content: center;background-color: white;position: relative;}#sk-container-id-1 div.sk-item::before, #sk-container-id-1 div.sk-parallel-item::before {content: \"\";position: absolute;border-left: 1px solid gray;box-sizing: border-box;top: 0;bottom: 0;left: 50%;z-index: -1;}#sk-container-id-1 div.sk-parallel-item {display: flex;flex-direction: column;z-index: 1;position: relative;background-color: white;}#sk-container-id-1 div.sk-parallel-item:first-child::after {align-self: flex-end;width: 50%;}#sk-container-id-1 div.sk-parallel-item:last-child::after {align-self: flex-start;width: 50%;}#sk-container-id-1 div.sk-parallel-item:only-child::after {width: 0;}#sk-container-id-1 div.sk-dashed-wrapped {border: 1px dashed gray;margin: 0 0.4em 0.5em 0.4em;box-sizing: border-box;padding-bottom: 0.4em;background-color: white;}#sk-container-id-1 div.sk-label label {font-family: monospace;font-weight: bold;display: inline-block;line-height: 1.2em;}#sk-container-id-1 div.sk-label-container {text-align: center;}#sk-container-id-1 div.sk-container {/* jupyter's `normalize.less` sets `[hidden] { display: none; }` but bootstrap.min.css set `[hidden] { display: none !important; }` so we also need the `!important` here to be able to override the default hidden behavior on the sphinx rendered scikit-learn.org. See: https://github.com/scikit-learn/scikit-learn/issues/21755 */display: inline-block !important;position: relative;}#sk-container-id-1 div.sk-text-repr-fallback {display: none;}</style><div id=\"sk-container-id-1\" class=\"sk-top-container\"><div class=\"sk-text-repr-fallback\"><pre>RandomForestClassifier(criterion=&#x27;entropy&#x27;, n_estimators=40, random_state=0)</pre><b>In a Jupyter environment, please rerun this cell to show the HTML representation or trust the notebook. <br />On GitHub, the HTML representation is unable to render, please try loading this page with nbviewer.org.</b></div><div class=\"sk-container\" hidden><div class=\"sk-item\"><div class=\"sk-estimator sk-toggleable\"><input class=\"sk-toggleable__control sk-hidden--visually\" id=\"sk-estimator-id-1\" type=\"checkbox\" checked><label for=\"sk-estimator-id-1\" class=\"sk-toggleable__label sk-toggleable__label-arrow\">RandomForestClassifier</label><div class=\"sk-toggleable__content\"><pre>RandomForestClassifier(criterion=&#x27;entropy&#x27;, n_estimators=40, random_state=0)</pre></div></div></div></div></div>"
      ],
      "text/plain": [
       "RandomForestClassifier(criterion='entropy', n_estimators=40, random_state=0)"
      ]
     },
     "execution_count": 22,
     "metadata": {},
     "output_type": "execute_result"
    }
   ],
   "source": [
    "arvore_credit = RandomForestClassifier(n_estimators = 40, criterion = 'entropy', random_state = 0)\n",
    "arvore_credit.fit(x_credit_treinamento, y_credit_treinamento)"
   ]
  },
  {
   "cell_type": "code",
   "execution_count": 23,
   "id": "abaf9541-f40f-46f6-842a-bff259b9e8ef",
   "metadata": {},
   "outputs": [],
   "source": [
    "previsao_credit = arvore_credit.predict(x_credit_teste)"
   ]
  },
  {
   "cell_type": "code",
   "execution_count": 24,
   "id": "953a64b5-559b-4dac-bb66-af98763f5714",
   "metadata": {},
   "outputs": [
    {
     "data": {
      "text/plain": [
       "array([1, 1, 0, 0, 1, 1, 1, 1, 1, 1, 1, 1, 0, 1, 1, 1, 1, 1, 1, 1, 1, 1,\n",
       "       1, 1, 2, 1, 1, 0, 1, 1, 1, 0, 1, 2, 1, 1, 0, 1, 1, 1, 1])"
      ]
     },
     "execution_count": 24,
     "metadata": {},
     "output_type": "execute_result"
    }
   ],
   "source": [
    "previsao_credit"
   ]
  },
  {
   "cell_type": "code",
   "execution_count": 25,
   "id": "43270b89-1cda-4b0d-91f4-4ccdc73edf1a",
   "metadata": {},
   "outputs": [
    {
     "data": {
      "text/plain": [
       "0.9"
      ]
     },
     "execution_count": 25,
     "metadata": {},
     "output_type": "execute_result"
    }
   ],
   "source": [
    "round(accuracy_score(y_credit_teste, previsao_credit), 2)"
   ]
  },
  {
   "cell_type": "code",
   "execution_count": 26,
   "id": "399974b0-82e4-4aae-b00b-11a5c1b8f349",
   "metadata": {},
   "outputs": [
    {
     "name": "stdout",
     "output_type": "stream",
     "text": [
      "              precision    recall  f1-score   support\n",
      "\n",
      "           0       0.83      0.62      0.71         8\n",
      "           1       0.91      0.97      0.94        31\n",
      "           2       1.00      1.00      1.00         2\n",
      "\n",
      "    accuracy                           0.90        41\n",
      "   macro avg       0.91      0.86      0.88        41\n",
      "weighted avg       0.90      0.90      0.90        41\n",
      "\n"
     ]
    }
   ],
   "source": [
    "print(classification_report(y_credit_teste, previsao_credit))"
   ]
  },
  {
   "cell_type": "code",
   "execution_count": 29,
   "id": "ed487b4f-62a4-4048-954d-9ec6b50b904f",
   "metadata": {},
   "outputs": [
    {
     "data": {
      "text/plain": [
       "0.9024390243902439"
      ]
     },
     "execution_count": 29,
     "metadata": {},
     "output_type": "execute_result"
    },
    {
     "data": {
      "image/png": "[encoded data removed]",
      "text/plain": [
       "<Figure size 800x550 with 1 Axes>"
      ]
     },
     "metadata": {},
     "output_type": "display_data"
    }
   ],
   "source": [
    "from yellowbrick.classifier import ConfusionMatrix\n",
    "cm = ConfusionMatrix(arvore_credit)\n",
    "cm.fit(x_credit_treinamento, y_credit_treinamento)\n",
    "cm.score(x_credit_teste, y_credit_teste)"
   ]
  },
  {
   "cell_type": "code",
   "execution_count": null,
   "id": "292880ad-a250-4c94-ad98-8dfe0027c565",
   "metadata": {},
   "outputs": [],
   "source": []
  }
 ],
 "metadata": {
  "kernelspec": {
   "display_name": "Python 3 (ipykernel)",
   "language": "python",
   "name": "python3"
  },
  "language_info": {
   "codemirror_mode": {
    "name": "ipython",
    "version": 3
   },
   "file_extension": ".py",
   "mimetype": "text/x-python",
   "name": "python",
   "nbconvert_exporter": "python",
   "pygments_lexer": "ipython3",
   "version": "3.8.2"
  }
 },
 "nbformat": 4,
 "nbformat_minor": 5
}
